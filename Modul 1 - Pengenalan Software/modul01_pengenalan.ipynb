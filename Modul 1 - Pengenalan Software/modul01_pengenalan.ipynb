{
 "cells": [
  {
   "cell_type": "markdown",
   "id": "7dd3ecb9-fa7d-4d27-b414-4db2e36ce91d",
   "metadata": {
    "tags": []
   },
   "source": [
    "# Modul 1: Pengenalan Dasar Statistik dan Software"
   ]
  },
  {
   "cell_type": "markdown",
   "id": "ed2f0cc8-6b42-4144-a3d3-6c9474495bf7",
   "metadata": {
    "tags": []
   },
   "source": [
    "#### Objectives Praktikum"
   ]
  },
  {
   "cell_type": "markdown",
   "id": "3300952b-02df-4f56-8a6a-4915c1f7acb1",
   "metadata": {},
   "source": [
    "1. Praktikan mampu memahami prinsip-prinsip dasar statistik\n",
    "2. Praktikan mampu memahami dan membedakan jenis data serta pengukurannya dalam statistik\n",
    "3. Praktikan mampu melakukan input/import dan mempersiapkan data untuk analisis statistik pada Stata dan Jupyter"
   ]
  },
  {
   "cell_type": "markdown",
   "id": "ee37545d-2b8b-4690-b6ee-0bbf3a277b80",
   "metadata": {
    "tags": []
   },
   "source": [
    "## Review Teori"
   ]
  },
  {
   "cell_type": "markdown",
   "id": "957057fc-fa0d-4af8-bc21-36f15444c3f4",
   "metadata": {},
   "source": [
    "Perencanaan merupakan proses kontinyu, berputar dalam pembuatan keputusan, yang akan melibatkan pekerjaan melalui serangkaian tahap-tahap yang dihubungkan dalam cara sistematik dan berurutan supaya mencapai keputusan yang lebih baik dan rasional (Conyer dan Hills, 1984). Dalam proses tersebut, para perencana harus mengenali karakteristik spesifik wilayah dan kota, baik pada masa lalu, masa sekarang, maupun kecenderungannya di masa depan, sebagai dasar untuk memutuskan tindakan yang terbaik bagi perkembangannya. Oleh karena itu metode analisis perencanaan merupakan sekumpulan teknik atau alat yang membantu perencana untuk melakukan analisis dalam mendukung proses perencanaan wilayah dan kota. Salah satu teknis analisis yang dilakukan dalam perencanaan adalah analisis statistik.\n"
   ]
  },
  {
   "cell_type": "markdown",
   "id": "f66f17c8-e697-4ba9-8cd8-9fd91001f6e1",
   "metadata": {},
   "source": [
    "Analisis statistik adalah suatu metode analisis yang mencakup pengumpulan data, pengorganisasian data dan interpretasi data melalui suatu prosedur tertentu. Lingkup analisis statistik terdiri dari:\n",
    "* **Reduksi Data** <br>\n",
    "Teknik ini dilakukan untuk membuat data menjadi lebih sederhana, tapi tetap mempunyai nilai penting. Metode untuk analisis ini adalah metode analisis statistik deskriptif. Metode ini merupakan suatu metode analisis yang kesimpulan populasinya diambil dari data populasi atau kesimpulan sampelnya diambil dari data sampel.\n",
    "* **Inferensial** <br>\n",
    "Teknik ini dilakukan untuk memperkirakan nilai populasi berdasarkan nilai sampel yang ada. Metode untuk analisis ini adalah metode analisis statistik inferensial. Metode ini merupakan suatu metode analisis yang kesimpulan populasinya diambil dari data sampel (bagian dari keseluruhan).\n",
    "* **Asosiasi** <br>\n",
    "Teknik ini dilakukan untuk mengetahui hubungan antarvariabel, yaitu variabel dependen dan independen. Metode untuk analisis ini adalah metode analisis statistik asosiasi. Metode ini merupakan suatu metode analisis untuk mencari hubungan antarvariabel yang ada."
   ]
  },
  {
   "cell_type": "markdown",
   "id": "0d194c8f-786e-4d3e-b62c-e884ddfabf10",
   "metadata": {},
   "source": [
    "Sementara data menurut skala pengukurannya terbagi menjadi 4 jenis (Kachigan, 1986; Healey, 2012), yaitu:\n",
    "* **Skala nominal** yang mengklasifikasikan objek amatan untuk menunjukkan kesamaan atau perbedaan ciri-ciri tertentu dari objek. Skala pengukuran ini dilambangkan dengan angka atau huruf dengan tidak mengandung nilai, tidak mengungkapkan perbandingan/peringkat, dan tidak dapat dilakukan pengolahan matematika\n",
    "* **Skala ordinal** yang mengklasifikasikan objek amatan untuk menunjukkan tingkatan atau peringkat tertentu dari objek. Skala pengukuran ini dilambangkan dengan angka atau huruf dengan tidak mempunyai satuan ukur dan rentangnya tidak harus sama\n",
    "* **Skala interval** yang diperoleh sebagai hasil suatu pengukuran dan biasanya mempunyai satuan pengukuran. Skala pengukuran ini mempunyai titik nol sembarang dan tidak mutlak, sehingga tidak dapat diintepretasikan secara penuh besarnya skor dari rasio tertentu. Data skala interval diberikan apabila kategori yang digunakan bisa dibedakan, diurutkan dan mempunyai jarak tertentu, tetapi tidak bisa dibandingkan.\n",
    "* **Skala rasio** yang ditujukan kepada hasil pengukuran yang bisa dibedakan, diurutkan, mempunyai jarak tertentu dan bisa dibandingkan. Angka pada skala rasio menunjukkan nilai yang sebenarnya dari objek yang diukur dan menggunakan titik nol mutlak.\n"
   ]
  },
  {
   "cell_type": "markdown",
   "id": "258b0083-28ee-4857-8e48-6ab627bbf306",
   "metadata": {},
   "source": [
    "## Pengenalan Stata"
   ]
  },
  {
   "cell_type": "markdown",
   "id": "1d7e7f15-049f-42ee-a51f-08fabc982986",
   "metadata": {},
   "source": [
    "Stata adalah paket perangkat lunak analisis data yang mudah digunakan namun memiliki kemampuan yang kuat untuk\n",
    "1. Analisis statistik\n",
    "2. Manajemen dan manipulasi data\n",
    "3. Visualisasi data\n",
    "\n",
    "Stata juga menawarkan beragam alat statistik yang mencakup metode standar dan metode yang lebih baru dan canggih, karena rilis baru Stata didistribusikan setiap tahun. Stata tersedia untuk komputer Windows, Mac, dan Unix. Praktikum ini dibuat dengan menggunakan versi Windows, tetapi semua kode yang ditampilkan di sini dapat dijalankan di ketiga platform tersebut. Ada tiga edisi: (1) Stata/BE, edisi dasar (sebelumnya intercooled), cocok untuk dataset ukuran menengah dengan hingga 2048 variabel, (2) Stata/SE, edisi standar (sebelumnya edisi khusus), dapat menangani hingga 32.766 variabel serta string dan matriks yang lebih panjang, dan (3) Stata/MP, sebuah edisi untuk komputer multicore/multiprosesor yang memungkinkan pemrosesan dataset yang sangat besar dan jauh lebih cepat. (Dua sebutan pertama berubah dengan Stata 17.) Jumlah pengamatan dibatasi oleh memori komputer Anda, selama tidak melebihi sekitar dua miliar dalam Stata/SE dan sekitar satu triliun dalam Stata/MP. Mulai dari versi 16, Stata hanya dapat diinstal pada komputer 64-bit; versi sebelumnya tersedia untuk komputer 32-bit dan 64-bit yang lebih baru. Semua versi ini dapat membaca file satu sama lain dalam batas ukurannya."
   ]
  },
  {
   "cell_type": "markdown",
   "id": "82592b5e-f78a-43bb-80ff-2131a6ad9646",
   "metadata": {
    "tags": []
   },
   "source": [
    "### Tampilan Stata"
   ]
  },
  {
   "cell_type": "markdown",
   "id": "02de2f8e-310c-44a2-8119-63e52af81547",
   "metadata": {},
   "source": [
    "![Tampilan Stata 18](https://grodri.github.io/stata/stata18.png)"
   ]
  },
  {
   "cell_type": "markdown",
   "id": "763d4ab7-b365-42d3-bbd4-df21940bacdb",
   "metadata": {},
   "source": [
    "Stata memiliki empat jendela utama, yaitu:\n",
    "* **Command**: Jendela yang berfungsi untuk memasukkan perintah.\n",
    "* **Result**: Bagian terbesar tepat di atas bagian **command**. Berfungsi untuk menampilkan hasil perintah.\n",
    "* **Review**: Jendela yang berfungsi untuk menampilkan history command-command yang telah digunakan.\n",
    "* **Variables**: Berisi daftar variabel dalam dataset\n",
    "* **Properties**: Menampilkan detail properti dari variabel dataset"
   ]
  },
  {
   "cell_type": "markdown",
   "id": "3db444d2-95f1-47c0-8e59-6bd0e62aa68e",
   "metadata": {},
   "source": [
    "Dimulai dengan versi 8 antarmuka pengguna grafis (GUI) Stata memungkinkan pemilihan perintah dan opsi dari menu dan sistem dialog. Namun, praktikan sangat disarankan untuk menggunakan bahasa perintah sebagai cara untuk memastikan reproduksibilitas hasil Anda, serta menyimpan perintah pada file terpisah, yang disebut **file do**. Selain itu, dalam konteks praktikum ini, praktikan juga diarahkan untuk menggunakan **jupyter** untuk memudahkan proses reporting analisis."
   ]
  },
  {
   "cell_type": "markdown",
   "id": "60e35566-ab38-40b5-8e22-2386e6b06082",
   "metadata": {},
   "source": [
    "### Do-Files"
   ]
  },
  {
   "cell_type": "markdown",
   "id": "2cea5889-98fb-443a-bb55-3180c1c25e1a",
   "metadata": {},
   "source": [
    "Stata do-file adalah file teks di mana pengguna dapat menyimpan dan menjalankan perintah mereka untuk digunakan kembali, daripada mengetik ulang perintah ke dalam jendela Command.\n",
    "* Reproducibility\n",
    "* Kemudahan debugging\n",
    "* Nama ekstensi file: `.do`\n",
    "\n",
    "Fitur Do-Files ini dapat dibuka menggunakan command:\n",
    "```stata\n",
    "doedit\n",
    "```"
   ]
  },
  {
   "cell_type": "markdown",
   "id": "cd8a7b7f-2649-4442-918a-e1aef3c6ed5a",
   "metadata": {},
   "source": [
    "Atau bisa melalui icon do-file pada menu bar. \n",
    "\n",
    "![Menu do-file](img/do-file-menu.png)"
   ]
  },
  {
   "cell_type": "markdown",
   "id": "25d8ae57-ef13-44f5-a774-18191552a204",
   "metadata": {},
   "source": [
    "**Syntax Highlighting**\n",
    "![Syntax](img/do-file-editor.jpg)\n",
    "\n",
    "* Editor do-file mewarnai perintah-perintah Stata dengan warna biru.\n",
    "* Komentar, yang tidak dieksekusi, biasanya diawali dengan `*`, `//`, `/*`, `*/` dan diberi warna hijau\n",
    "    \n",
    "* Kata-kata dalam tanda kutip (nama file, nilai string) diberi warna \"merah\""
   ]
  },
  {
   "cell_type": "markdown",
   "id": "2b12c8a5-967b-46b8-89da-23df492f4b4e",
   "metadata": {},
   "source": [
    "Untuk menjalankan perintah dari do-file, *highlight* sebagian atau seluruh perintah, lalu tekan `Ctrl-D` (Mac: `Shift+Cmd+D`) atau ikon \"Execute(do)\", ikon paling kanan pada bilah alat editor do-file.\n",
    "\n",
    "Bisa memilih lebih dari 1 baris command untuk dijalankan."
   ]
  },
  {
   "cell_type": "markdown",
   "id": "ded8eb23-ec4d-4360-a5d5-1b3376fe3f17",
   "metadata": {},
   "source": [
    "**Comments**\n",
    "\n",
    "Komentar tidak dieksekusi -> untuk dokumentasi file do (atau cell notebook yang akan dibahas di bagian lain)\n",
    "\n",
    "Komentar diawali dengan `*` atau diapit oleh `/*` dan `*/`, untuk inline (bisa sebaris dengan command) bisa menggunakan `//`\n",
    "\n",
    "Komentar akan muncul dalam warna hijau di editor do-file.\n",
    "\n",
    "```stata\n",
    "* komen 1\n",
    "/* \n",
    "komen 2\n",
    "asdasd\n",
    "*/\n",
    "doedit //ini buat buka dofile\n",
    "```"
   ]
  },
  {
   "cell_type": "markdown",
   "id": "76319c74-bc33-4210-a930-2bcd09b3a08b",
   "metadata": {
    "tags": []
   },
   "source": [
    "**Long Lines**\n",
    "\n",
    "Stata biasanya akan mengasumsikan bahwa sebuah baris baru menandakan akhir dari sebuah command\n",
    "\n",
    "Anda dapat memperpanjang perintah lebih dari beberapa baris dengan menempatkan `///` di akhir setiap baris kecuali baris terakhir\n",
    "Pastikan untuk memberi spasi sebelum `///`\n",
    "\n",
    "Saat mengeksekusi, highlight setiap baris dalam perintah\n",
    "\n",
    "```stata\n",
    "summarize weight ///\n",
    "    height\n",
    "```"
   ]
  },
  {
   "cell_type": "markdown",
   "id": "da89256d-916d-4559-8ede-404dc1f1550c",
   "metadata": {},
   "source": [
    "## Pengenalan Jupyter"
   ]
  },
  {
   "cell_type": "markdown",
   "id": "a0829c10-c73c-4a36-9c5e-b321667cebb1",
   "metadata": {},
   "source": [
    "JupyterLab menyediakan blok bangunan yang fleksibel untuk komputasi interaktif dan eksploratif. Meskipun JupyterLab memiliki banyak fitur yang ditemukan di lingkungan pengembangan terintegrasi (IDE) tradisional, JupyterLab tetap berfokus pada komputasi interaktif dan eksploratif.\n",
    "\n",
    "Untuk mengenal jupyter lebih jauh (terutama JupyterLab yang digunakan dalam praktikum ini), praktikan dapat membaca dokumentasi resmi yang dikeluarkan oleh jupyter. Tulisan-tulisan ini wajib dipahami.\n",
    "\n",
    "* [JupyterLab Interface](https://jupyterlab.readthedocs.io/en/stable/user/interface.html)\n",
    "* [JupyterLab Files](https://jupyterlab.readthedocs.io/en/stable/user/files.html)\n",
    "* [Notebooks in JupyterLab](https://jupyterlab.readthedocs.io/en/stable/user/notebook.html)\n",
    "* [File & Output Formats](https://jupyterlab.readthedocs.io/en/stable/user/file_formats.html)\n",
    "* [Table of Contents](https://jupyterlab.readthedocs.io/en/stable/user/toc.html)\n",
    "\n",
    "Keempat dokumentasi tersebut penting untuk tugas akhir setiap praktikum nantinya. Jika ingin eksplorasi lebih, bisa dilakukan secara mandiri."
   ]
  },
  {
   "cell_type": "markdown",
   "id": "187de1aa-8e90-4fa5-af90-cc114be323a5",
   "metadata": {
    "tags": []
   },
   "source": [
    "### Cheatsheet Markdown"
   ]
  },
  {
   "cell_type": "markdown",
   "id": "3c9b794e-b7af-4046-a859-63413674f875",
   "metadata": {},
   "source": [
    "Markdown adalah bahasa markup ringan yang digunakan untuk memformat teks dalam dokumen. Ini adalah cara yang sangat baik untuk membuat laporan analisis data yang rapi dan mudah dibaca di Jupyter Notebook. Maka dari itu, praktikan harus bisa menggunakan markdown dengan baik.\n",
    "\n",
    "Panduan markdown bisa dilihat pada file `markdown-cheat-sheet.md`"
   ]
  },
  {
   "cell_type": "markdown",
   "id": "e43a8a5c-d8b3-4809-9664-37f14722f8c7",
   "metadata": {},
   "source": [
    "### Kenapa harus Jupyter? Do-file apa tidak cukup?"
   ]
  },
  {
   "cell_type": "markdown",
   "id": "c5bad4cc-7fed-4275-9245-a4d26c8121b9",
   "metadata": {},
   "source": [
    "* Alasan utamanya adalah **interaktif, fleksibel, dan reproduksibilitas**. Jupyter Notebook memungkinkan Anda menjalankan kode dan melihat outputnya secara interaktif. Ini sangat berguna saat Anda ingin menjalankan perintah Stata langkah demi langkah dan melihat hasilnya segera. Selain itu, karena semua langkah dan kode disimpan dalam satu dokumen, analisis Anda menjadi lebih mudah direproduksi oleh orang lain atau di waktu yang berbeda.\n",
    "\n",
    "* **Integrasi Kode dan Laporan**: Dalam satu dokumen Jupyter Notebook, Anda dapat menyatukan kode, output grafik, tabel, dan penjelasan dalam format yang mudah dibaca. Ini memungkinkan Anda untuk membuat laporan yang jelas dan rapi tentang analisis Anda tanpa perlu beralih antara berbagai aplikasi.\n",
    "\n",
    "* **Dokumentasi Proses Analisis**: Dengan menulis penjelasan dan komentar di antara sel kode, Anda secara efektif mendokumentasikan proses analisis Anda. Ini sangat berguna jika Anda perlu kembali ke analisis tersebut di masa depan atau jika Anda ingin berbagi hasil analisis dengan kolega atau atasan.\n",
    "\n",
    "* **Lintas Platform dan Pembagian Mudah**: Jupyter Notebook mendukung banyak bahasa pemrograman dan kernel, termasuk Stata. Ini berarti Anda dapat menggabungkan berbagai bahasa dan alat analisis dalam satu dokumen. Anda juga dapat dengan mudah membagikan notebook Anda dengan orang lain, memfasilitasi kolaborasi dan diskusi.\n",
    "\n",
    "* Jupyter Notebook tidak hanya terbatas pada analisis data. Anda dapat menggunakan Markdown untuk membuat laporan, menjelaskan konsep, dan bahkan menyisipkan matematika dengan notasi LaTeX. Ini memungkinkan Anda untuk membuat laporan yang lebih kaya secara visual dan konseptual.\n",
    "\n",
    "Dengan menggabungkan keunggulan Jupyter Notebook dengan kernel Stata, Anda dapat mengoptimalkan proses analisis data Anda, membuat laporan yang lebih baik, dan meningkatkan efisiensi dan efektivitas dalam pekerjaan Anda."
   ]
  },
  {
   "cell_type": "markdown",
   "id": "5fa07cc5-913a-4ae7-b22a-6c75589dd341",
   "metadata": {},
   "source": [
    "## *Penggunaan Stata Kernel pada Jupyter*\n",
    "\n",
    "Bagian ini sudah masuk pada hands-on command stata."
   ]
  },
  {
   "cell_type": "markdown",
   "id": "127889b5-5a7e-4f68-b66e-949b4b99b3dd",
   "metadata": {},
   "source": [
    "### Importing Data"
   ]
  },
  {
   "cell_type": "markdown",
   "id": "f4c40c22-adb5-4723-8d72-9ff037c59cef",
   "metadata": {},
   "source": [
    "* `use` load dataset\n",
    "* `save` menyimpan dataset\n",
    "* `clear` menghapus dataset dari memory\n",
    "* `import excel` import file excel menjadi dataset\n",
    "* `import delimeted` import file delimeter (csv) menjadi dataset"
   ]
  },
  {
   "cell_type": "markdown",
   "id": "72571ca1-76fa-40f0-b97a-b72177d2d1be",
   "metadata": {},
   "source": [
    "Data yang diimport akan tersimpan dalam format stata, yaitu file `.dta`. Membuka file ini (klik 2 kali di Windows), akan membuka instance/sesi Stata baru (bukan instance/sesi yang sedang digunakan)"
   ]
  },
  {
   "cell_type": "markdown",
   "id": "fe844949-f4bb-4446-b268-67829cf48f00",
   "metadata": {},
   "source": [
    "#### Load and saving .dta files\n",
    "Perintah ini digunakan untuk memuat file Stata .dta"
   ]
  },
  {
   "cell_type": "code",
   "execution_count": 2,
   "id": "9c25d3af-688c-4f6a-b7fc-475fd20f0c6d",
   "metadata": {
    "tags": []
   },
   "outputs": [],
   "source": [
    "* membuka dataset .dta\n",
    "use \"data/data_likert.dta\""
   ]
  },
  {
   "cell_type": "markdown",
   "id": "ffc11e92-3121-42cb-85a9-fb0aceebd830",
   "metadata": {},
   "source": [
    "Untuk melihat apakah data sudah berhasil disimpan di memory stata, bisa melihat sebagian data menggunakan `%head` atau `%tail` tanpa ada comment apapun. Perintah ini khusus untuk stata kernel pada jupyter ini. Tidak berlaku digunakan langsung di halaman GUI Stata."
   ]
  },
  {
   "cell_type": "code",
   "execution_count": 3,
   "id": "cd93751d-8c0d-4315-9cd9-6c9e3540ce87",
   "metadata": {
    "tags": []
   },
   "outputs": [
    {
     "data": {
      "text/html": [
       "<div>\n",
       "<style scoped>\n",
       "    .dataframe tbody tr th:only-of-type {\n",
       "        vertical-align: middle;\n",
       "    }\n",
       "\n",
       "    .dataframe tbody tr th {\n",
       "        vertical-align: top;\n",
       "    }\n",
       "\n",
       "    .dataframe thead th {\n",
       "        text-align: right;\n",
       "    }\n",
       "</style>\n",
       "<table border=\"1\" class=\"dataframe\">\n",
       "  <thead>\n",
       "    <tr style=\"text-align: right;\">\n",
       "      <th></th>\n",
       "      <th>peta_acuan</th>\n",
       "      <th>jam_puncak</th>\n",
       "      <th>permukiman</th>\n",
       "    </tr>\n",
       "  </thead>\n",
       "  <tbody>\n",
       "    <tr>\n",
       "      <th>1</th>\n",
       "      <td>3</td>\n",
       "      <td>16.00-18.00</td>\n",
       "      <td>Penting</td>\n",
       "    </tr>\n",
       "    <tr>\n",
       "      <th>2</th>\n",
       "      <td>4</td>\n",
       "      <td>04:00-05:00</td>\n",
       "      <td>Penting</td>\n",
       "    </tr>\n",
       "    <tr>\n",
       "      <th>3</th>\n",
       "      <td>4</td>\n",
       "      <td>04:05-05:00</td>\n",
       "      <td>Sangat penting</td>\n",
       "    </tr>\n",
       "    <tr>\n",
       "      <th>4</th>\n",
       "      <td>4</td>\n",
       "      <td>05:00-08:00</td>\n",
       "      <td>Penting</td>\n",
       "    </tr>\n",
       "    <tr>\n",
       "      <th>5</th>\n",
       "      <td>3</td>\n",
       "      <td>05:30 - 08:00</td>\n",
       "      <td>Penting</td>\n",
       "    </tr>\n",
       "  </tbody>\n",
       "</table>\n",
       "</div>"
      ],
      "text/plain": [
       "\n",
       "     +-------------------------------------------+\n",
       "     | peta_a~n      jam_puncak       permukiman |\n",
       "     |-------------------------------------------|\n",
       "  1. |        3     16.00-18.00          Penting |\n",
       "  2. |        4     04:00-05:00          Penting |\n",
       "  3. |        4     04:05-05:00   Sangat penting |\n",
       "  4. |        4     05:00-08:00          Penting |\n",
       "  5. |        3   05:30 - 08:00          Penting |\n",
       "     +-------------------------------------------+\n",
       "\n"
      ]
     },
     "metadata": {},
     "output_type": "display_data"
    }
   ],
   "source": [
    "%head 5"
   ]
  },
  {
   "cell_type": "code",
   "execution_count": 4,
   "id": "98fe381f-1ad0-4ba0-b478-e4709f96edcd",
   "metadata": {
    "tags": []
   },
   "outputs": [
    {
     "name": "stdout",
     "output_type": "stream",
     "text": [
      "file data/data_likert.dta saved\n"
     ]
    }
   ],
   "source": [
    "save \"data/data_likert\", replace"
   ]
  },
  {
   "cell_type": "markdown",
   "id": "3ffd0620-4758-49be-ad16-f9b8cc5b9d2f",
   "metadata": {},
   "source": [
    "Opsi replace akan menimpa file yang sudah ada dengan nama yang sama (tanpa replace, Stata tidak akan menyimpan jika file tersebut sudah ada).\n",
    "\n",
    "Ekstensi .dta dapat dihilangkan ketika menggunakan gunakan dan simpan"
   ]
  },
  {
   "cell_type": "markdown",
   "id": "b397832a-5b1f-40fa-8da8-c3ee41d3c9e5",
   "metadata": {},
   "source": [
    "#### Clearing memory"
   ]
  },
  {
   "cell_type": "markdown",
   "id": "f1f08c70-595a-4c44-a6c9-d0cfc377c19d",
   "metadata": {},
   "source": [
    "Stata hanya akan menyimpan satu set data dalam memori pada satu waktu, memori harus dikosongkan sebelum data baru dapat dimuat.\n",
    "\n",
    "Perintah `clear` akan menghapus kumpulan data dari memori.\n",
    "\n",
    "Perintah impor data seperti `use` sering kali memiliki opsi `clear` yang menghapus memori sebelum memuat dataset baru"
   ]
  },
  {
   "cell_type": "code",
   "execution_count": 5,
   "id": "65487fb5-7f1c-44a5-83de-c073bf6673ab",
   "metadata": {
    "tags": []
   },
   "outputs": [],
   "source": [
    "clear //clear data dari memori"
   ]
  },
  {
   "cell_type": "code",
   "execution_count": 6,
   "id": "cac5b683-685a-491d-837b-ad7147c63012",
   "metadata": {
    "tags": []
   },
   "outputs": [],
   "source": [
    "use \"data/data2.dta\""
   ]
  },
  {
   "cell_type": "code",
   "execution_count": 7,
   "id": "65a5ab1b-f959-4067-a845-2fa436191fa1",
   "metadata": {
    "tags": []
   },
   "outputs": [
    {
     "data": {
      "text/html": [
       "<div>\n",
       "<style scoped>\n",
       "    .dataframe tbody tr th:only-of-type {\n",
       "        vertical-align: middle;\n",
       "    }\n",
       "\n",
       "    .dataframe tbody tr th {\n",
       "        vertical-align: top;\n",
       "    }\n",
       "\n",
       "    .dataframe thead th {\n",
       "        text-align: right;\n",
       "    }\n",
       "</style>\n",
       "<table border=\"1\" class=\"dataframe\">\n",
       "  <thead>\n",
       "    <tr style=\"text-align: right;\">\n",
       "      <th></th>\n",
       "      <th>prov_id</th>\n",
       "      <th>prov_name</th>\n",
       "      <th>ZeroFillPre</th>\n",
       "      <th>ZeroFillPost</th>\n",
       "      <th>prov_str</th>\n",
       "      <th>prov_city</th>\n",
       "      <th>prov_st</th>\n",
       "      <th>prov_cnty_cd</th>\n",
       "      <th>Chain</th>\n",
       "      <th>Treated</th>\n",
       "      <th>TreatedChain</th>\n",
       "      <th>ControlChain</th>\n",
       "    </tr>\n",
       "  </thead>\n",
       "  <tbody>\n",
       "    <tr>\n",
       "      <th>1</th>\n",
       "      <td>55555555</td>\n",
       "      <td>Drugs are Yummy in My Tummy</td>\n",
       "      <td>.51265824</td>\n",
       "      <td>.47540984</td>\n",
       "      <td>1 Central Ave</td>\n",
       "      <td>Another Rural Town</td>\n",
       "      <td>NY</td>\n",
       "      <td>8</td>\n",
       "      <td>No</td>\n",
       "      <td>0</td>\n",
       "      <td>.</td>\n",
       "      <td>.</td>\n",
       "    </tr>\n",
       "    <tr>\n",
       "      <th>2</th>\n",
       "      <td>56134687</td>\n",
       "      <td>Streetcorner Dealer</td>\n",
       "      <td>.</td>\n",
       "      <td>.48931116</td>\n",
       "      <td>Ho Hum More Fake Addresses</td>\n",
       "      <td>Syracuse</td>\n",
       "      <td>NY</td>\n",
       "      <td>14</td>\n",
       "      <td>No</td>\n",
       "      <td>0</td>\n",
       "      <td>.</td>\n",
       "      <td>.</td>\n",
       "    </tr>\n",
       "    <tr>\n",
       "      <th>3</th>\n",
       "      <td>26122543</td>\n",
       "      <td>Cheap Cheap Cheap Drugs</td>\n",
       "      <td>.83919597</td>\n",
       "      <td>.60744983</td>\n",
       "      <td>I'm Out of Fake Addresses</td>\n",
       "      <td>Syracuse</td>\n",
       "      <td>NY</td>\n",
       "      <td>14</td>\n",
       "      <td>No</td>\n",
       "      <td>0</td>\n",
       "      <td>.</td>\n",
       "      <td>.</td>\n",
       "    </tr>\n",
       "    <tr>\n",
       "      <th>4</th>\n",
       "      <td>12344321</td>\n",
       "      <td>I'm a Big, Scary Chain</td>\n",
       "      <td>.99943</td>\n",
       "      <td>.65432</td>\n",
       "      <td>.</td>\n",
       "      <td>Brooklyn</td>\n",
       "      <td>NY</td>\n",
       "      <td>55</td>\n",
       "      <td>Yes</td>\n",
       "      <td>0</td>\n",
       "      <td>1</td>\n",
       "      <td>0</td>\n",
       "    </tr>\n",
       "    <tr>\n",
       "      <th>5</th>\n",
       "      <td>55556666</td>\n",
       "      <td>Drugs R Us</td>\n",
       "      <td>.5653432</td>\n",
       "      <td>.</td>\n",
       "      <td>Whatever</td>\n",
       "      <td>Whateverville</td>\n",
       "      <td>NY</td>\n",
       "      <td>6</td>\n",
       "      <td>Yes</td>\n",
       "      <td>0</td>\n",
       "      <td>0</td>\n",
       "      <td>1</td>\n",
       "    </tr>\n",
       "  </tbody>\n",
       "</table>\n",
       "</div>"
      ],
      "text/plain": [
       "\n",
       "     +----------------------------------------------------------------------+\n",
       "  1. |   prov_id  |                    prov_name  |  ZeroFi~e  |  ZeroFi~t  |\n",
       "     |  55555555  |  Drugs are Yummy in My Tummy  |  .5126582  |  .4754098  |\n",
       "     |----------------------------------------------------------------------|\n",
       "     |                   prov_str |          prov_city | prov_st | prov_c~d |\n",
       "     |              1 Central Ave | Another Rural Town |      NY |        8 |\n",
       "     |----------------------------------------------------------------------|\n",
       "     |    Chain     |     Treated     |     Treate~n     |     Contro~n     |\n",
       "     |       No     |           0     |            .     |            .     |\n",
       "     +----------------------------------------------------------------------+\n",
       "\n",
       "     +----------------------------------------------------------------------+\n",
       "  2. |   prov_id  |                    prov_name  |  ZeroFi~e  |  ZeroFi~t  |\n",
       "     |  56134687  |          Streetcorner Dealer  |         .  |  .4893112  |\n",
       "     |----------------------------------------------------------------------|\n",
       "     |                   prov_str |          prov_city | prov_st | prov_c~d |\n",
       "     | Ho Hum More Fake Addresses |           Syracuse |      NY |       14 |\n",
       "     |----------------------------------------------------------------------|\n",
       "     |    Chain     |     Treated     |     Treate~n     |     Contro~n     |\n",
       "     |       No     |           0     |            .     |            .     |\n",
       "     +----------------------------------------------------------------------+\n",
       "\n",
       "     +----------------------------------------------------------------------+\n",
       "  3. |   prov_id  |                    prov_name  |  ZeroFi~e  |  ZeroFi~t  |\n",
       "     |  26122543  |      Cheap Cheap Cheap Drugs  |   .839196  |  .6074498  |\n",
       "     |----------------------------------------------------------------------|\n",
       "     |                   prov_str |          prov_city | prov_st | prov_c~d |\n",
       "     |  I'm Out of Fake Addresses |           Syracuse |      NY |       14 |\n",
       "     |----------------------------------------------------------------------|\n",
       "     |    Chain     |     Treated     |     Treate~n     |     Contro~n     |\n",
       "     |       No     |           0     |            .     |            .     |\n",
       "     +----------------------------------------------------------------------+\n",
       "\n",
       "     +----------------------------------------------------------------------+\n",
       "  4. |   prov_id  |                    prov_name  |  ZeroFi~e  |  ZeroFi~t  |\n",
       "     |  12344321  |       I'm a Big, Scary Chain  |    .99943  |    .65432  |\n",
       "     |----------------------------------------------------------------------|\n",
       "     |                   prov_str |          prov_city | prov_st | prov_c~d |\n",
       "     |                            |           Brooklyn |      NY |       55 |\n",
       "     |----------------------------------------------------------------------|\n",
       "     |    Chain     |     Treated     |     Treate~n     |     Contro~n     |\n",
       "     |      Yes     |           0     |            1     |            0     |\n",
       "     +----------------------------------------------------------------------+\n",
       "\n",
       "     +----------------------------------------------------------------------+\n",
       "  5. |   prov_id  |                    prov_name  |  ZeroFi~e  |  ZeroFi~t  |\n",
       "     |  55556666  |                   Drugs R Us  |  .5653432  |         .  |\n",
       "     |----------------------------------------------------------------------|\n",
       "     |                   prov_str |          prov_city | prov_st | prov_c~d |\n",
       "     |                   Whatever |      Whateverville |      NY |        6 |\n",
       "     |----------------------------------------------------------------------|\n",
       "     |    Chain     |     Treated     |     Treate~n     |     Contro~n     |\n",
       "     |      Yes     |           0     |            0     |            1     |\n",
       "     +----------------------------------------------------------------------+\n",
       "\n"
      ]
     },
     "metadata": {},
     "output_type": "display_data"
    }
   ],
   "source": [
    "%head 5"
   ]
  },
  {
   "cell_type": "code",
   "execution_count": 8,
   "id": "6aa8dfaa-a538-4eef-b226-ec26853306c2",
   "metadata": {
    "tags": []
   },
   "outputs": [],
   "source": [
    "use \"data/data3.dta\", clear"
   ]
  },
  {
   "cell_type": "code",
   "execution_count": 9,
   "id": "c523b255-c80a-4d6d-b15c-f1a88aa6d732",
   "metadata": {
    "tags": []
   },
   "outputs": [
    {
     "data": {
      "text/html": [
       "<div>\n",
       "<style scoped>\n",
       "    .dataframe tbody tr th:only-of-type {\n",
       "        vertical-align: middle;\n",
       "    }\n",
       "\n",
       "    .dataframe tbody tr th {\n",
       "        vertical-align: top;\n",
       "    }\n",
       "\n",
       "    .dataframe thead th {\n",
       "        text-align: right;\n",
       "    }\n",
       "</style>\n",
       "<table border=\"1\" class=\"dataframe\">\n",
       "  <thead>\n",
       "    <tr style=\"text-align: right;\">\n",
       "      <th></th>\n",
       "      <th>prov_id</th>\n",
       "      <th>prov_name</th>\n",
       "      <th>ZeroFillPre</th>\n",
       "      <th>ZeroFillPost</th>\n",
       "      <th>prov_str</th>\n",
       "      <th>prov_city</th>\n",
       "      <th>prov_st</th>\n",
       "      <th>county</th>\n",
       "      <th>Chain</th>\n",
       "      <th>Treated</th>\n",
       "      <th>TreatedChain</th>\n",
       "      <th>ControlChain</th>\n",
       "      <th>InChain</th>\n",
       "      <th>Region</th>\n",
       "      <th>High_ZF</th>\n",
       "      <th>High_ZF_Percentile</th>\n",
       "      <th>Delta_ZF</th>\n",
       "    </tr>\n",
       "  </thead>\n",
       "  <tbody>\n",
       "    <tr>\n",
       "      <th>1</th>\n",
       "      <td>43260054</td>\n",
       "      <td>Yo, I'm a Sample Pharmacy</td>\n",
       "      <td>.83333331</td>\n",
       "      <td>.73210633</td>\n",
       "      <td>135 Western Ave</td>\n",
       "      <td>Albany</td>\n",
       "      <td>NY</td>\n",
       "      <td>1</td>\n",
       "      <td>No</td>\n",
       "      <td>1</td>\n",
       "      <td>.</td>\n",
       "      <td>.</td>\n",
       "      <td>0</td>\n",
       "      <td>2</td>\n",
       "      <td>1</td>\n",
       "      <td>0</td>\n",
       "      <td>-.10122699</td>\n",
       "    </tr>\n",
       "    <tr>\n",
       "      <th>2</th>\n",
       "      <td>4578891</td>\n",
       "      <td>Prof Purtell is Mean</td>\n",
       "      <td>1</td>\n",
       "      <td>1</td>\n",
       "      <td>Beyond the Pale</td>\n",
       "      <td>Albany</td>\n",
       "      <td>NY</td>\n",
       "      <td>1</td>\n",
       "      <td>No</td>\n",
       "      <td>1</td>\n",
       "      <td>.</td>\n",
       "      <td>.</td>\n",
       "      <td>0</td>\n",
       "      <td>2</td>\n",
       "      <td>1</td>\n",
       "      <td>1</td>\n",
       "      <td>0</td>\n",
       "    </tr>\n",
       "    <tr>\n",
       "      <th>3</th>\n",
       "      <td>23459871</td>\n",
       "      <td>Dr. Weinberg is Your Friend</td>\n",
       "      <td>.6321345</td>\n",
       "      <td>.123876</td>\n",
       "      <td>213b Milne Hall</td>\n",
       "      <td>Albany</td>\n",
       "      <td>NY</td>\n",
       "      <td>1</td>\n",
       "      <td>No</td>\n",
       "      <td>1</td>\n",
       "      <td>.</td>\n",
       "      <td>.</td>\n",
       "      <td>0</td>\n",
       "      <td>2</td>\n",
       "      <td>0</td>\n",
       "      <td>0</td>\n",
       "      <td>-.50825852</td>\n",
       "    </tr>\n",
       "    <tr>\n",
       "      <th>4</th>\n",
       "      <td>55555555</td>\n",
       "      <td>Drugs are Yummy in My Tummy</td>\n",
       "      <td>.51265824</td>\n",
       "      <td>.47540984</td>\n",
       "      <td>1 Central Ave</td>\n",
       "      <td>Another Rural Town</td>\n",
       "      <td>NY</td>\n",
       "      <td>8</td>\n",
       "      <td>No</td>\n",
       "      <td>0</td>\n",
       "      <td>.</td>\n",
       "      <td>.</td>\n",
       "      <td>0</td>\n",
       "      <td>1</td>\n",
       "      <td>0</td>\n",
       "      <td>0</td>\n",
       "      <td>-.037248403</td>\n",
       "    </tr>\n",
       "    <tr>\n",
       "      <th>5</th>\n",
       "      <td>31954623</td>\n",
       "      <td>Madeup Pharmacy of Albany</td>\n",
       "      <td>.61486489</td>\n",
       "      <td>.41853932</td>\n",
       "      <td>1600 Pennsylvania Ave</td>\n",
       "      <td>BRONX</td>\n",
       "      <td>NY</td>\n",
       "      <td>57</td>\n",
       "      <td>No</td>\n",
       "      <td>1</td>\n",
       "      <td>.</td>\n",
       "      <td>.</td>\n",
       "      <td>0</td>\n",
       "      <td>3</td>\n",
       "      <td>0</td>\n",
       "      <td>0</td>\n",
       "      <td>-.19632557</td>\n",
       "    </tr>\n",
       "  </tbody>\n",
       "</table>\n",
       "</div>"
      ],
      "text/plain": [
       "\n",
       "     +-----------------------------------------------------------------------+\n",
       "  1. |   prov_id  |                    prov_name  |  ZeroFi~e  |  ZeroFi~t   |\n",
       "     |  43260054  |    Yo, I'm a Sample Pharmacy  |  .8333333  |  .7321063   |\n",
       "     |--------------------------------------------+--------------------------|\n",
       "     |              prov_str |          prov_city | prov_st | county | Chain |\n",
       "     |       135 Western Ave |             Albany |      NY |      1 |    No |\n",
       "     |-----------------------------------------------------------------------|\n",
       "     | Treated | Treate~n | Contro~n | InChain | Region | High_ZF | High_Z~e |\n",
       "     |       1 |        . |        . |       0 |      2 |       1 |        0 |\n",
       "     |-----------------------------------------------------------------------|\n",
       "     |                                Delta_ZF                               |\n",
       "     |                                -.101227                               |\n",
       "     +-----------------------------------------------------------------------+\n",
       "\n",
       "     +-----------------------------------------------------------------------+\n",
       "  2. |   prov_id  |                    prov_name  |  ZeroFi~e  |  ZeroFi~t   |\n",
       "     |   4578891  |         Prof Purtell is Mean  |         1  |         1   |\n",
       "     |--------------------------------------------+--------------------------|\n",
       "     |              prov_str |          prov_city | prov_st | county | Chain |\n",
       "     |       Beyond the Pale |             Albany |      NY |      1 |    No |\n",
       "     |-----------------------------------------------------------------------|\n",
       "     | Treated | Treate~n | Contro~n | InChain | Region | High_ZF | High_Z~e |\n",
       "     |       1 |        . |        . |       0 |      2 |       1 |        1 |\n",
       "     |-----------------------------------------------------------------------|\n",
       "     |                                Delta_ZF                               |\n",
       "     |                                       0                               |\n",
       "     +-----------------------------------------------------------------------+\n",
       "\n",
       "     +-----------------------------------------------------------------------+\n",
       "  3. |   prov_id  |                    prov_name  |  ZeroFi~e  |  ZeroFi~t   |\n",
       "     |  23459871  |  Dr. Weinberg is Your Friend  |  .6321345  |   .123876   |\n",
       "     |--------------------------------------------+--------------------------|\n",
       "     |              prov_str |          prov_city | prov_st | county | Chain |\n",
       "     |       213b Milne Hall |             Albany |      NY |      1 |    No |\n",
       "     |-----------------------------------------------------------------------|\n",
       "     | Treated | Treate~n | Contro~n | InChain | Region | High_ZF | High_Z~e |\n",
       "     |       1 |        . |        . |       0 |      2 |       0 |        0 |\n",
       "     |-----------------------------------------------------------------------|\n",
       "     |                                Delta_ZF                               |\n",
       "     |                               -.5082585                               |\n",
       "     +-----------------------------------------------------------------------+\n",
       "\n",
       "     +-----------------------------------------------------------------------+\n",
       "  4. |   prov_id  |                    prov_name  |  ZeroFi~e  |  ZeroFi~t   |\n",
       "     |  55555555  |  Drugs are Yummy in My Tummy  |  .5126582  |  .4754098   |\n",
       "     |--------------------------------------------+--------------------------|\n",
       "     |              prov_str |          prov_city | prov_st | county | Chain |\n",
       "     |         1 Central Ave | Another Rural Town |      NY |      8 |    No |\n",
       "     |-----------------------------------------------------------------------|\n",
       "     | Treated | Treate~n | Contro~n | InChain | Region | High_ZF | High_Z~e |\n",
       "     |       0 |        . |        . |       0 |      1 |       0 |        0 |\n",
       "     |-----------------------------------------------------------------------|\n",
       "     |                                Delta_ZF                               |\n",
       "     |                               -.0372484                               |\n",
       "     +-----------------------------------------------------------------------+\n",
       "\n",
       "     +-----------------------------------------------------------------------+\n",
       "  5. |   prov_id  |                    prov_name  |  ZeroFi~e  |  ZeroFi~t   |\n",
       "     |  31954623  |    Madeup Pharmacy of Albany  |  .6148649  |  .4185393   |\n",
       "     |--------------------------------------------+--------------------------|\n",
       "     |              prov_str |          prov_city | prov_st | county | Chain |\n",
       "     | 1600 Pennsylvania Ave |              BRONX |      NY |     57 |    No |\n",
       "     |-----------------------------------------------------------------------|\n",
       "     | Treated | Treate~n | Contro~n | InChain | Region | High_ZF | High_Z~e |\n",
       "     |       1 |        . |        . |       0 |      3 |       0 |        0 |\n",
       "     |-----------------------------------------------------------------------|\n",
       "     |                                Delta_ZF                               |\n",
       "     |                               -.1963256                               |\n",
       "     +-----------------------------------------------------------------------+\n",
       "\n"
      ]
     },
     "metadata": {},
     "output_type": "display_data"
    }
   ],
   "source": [
    "%head 5"
   ]
  },
  {
   "cell_type": "markdown",
   "id": "d9215f31-972c-4b9f-8d61-01f25f98fcc7",
   "metadata": {},
   "source": [
    "#### Importing Excel Data\n",
    "\n",
    "Stata dapat membaca kumpulan data yang disimpan dalam banyak format lain, termasuk excel.\n",
    "\n",
    "Perintah `import excel` digunakan untuk mengimpor data Excel\n",
    "\n",
    "Nama file Excel diperlukan (dengan path, jika tidak berada di direktori kerja) setelah kata kunci menggunakan\n",
    "\n",
    "Gunakan opsi `sheet()` untuk membuka sheet tertentu\n",
    "\n",
    "Gunakan opsi `firstrow` jika nama variabel berada di baris pertama lembar Excel."
   ]
  },
  {
   "cell_type": "code",
   "execution_count": 10,
   "id": "ad1a0fc0-1176-4454-b021-0c4cd3a9cb00",
   "metadata": {
    "tags": []
   },
   "outputs": [
    {
     "name": "stdout",
     "output_type": "stream",
     "text": [
      "(23 vars, 14 obs)\n"
     ]
    }
   ],
   "source": [
    "import excel using \"data/data_sosdem.xlsx\", sheet(\"data\") firstrow clear"
   ]
  },
  {
   "cell_type": "code",
   "execution_count": 11,
   "id": "2367720e-890f-4eb6-a40a-1b2e739d00f5",
   "metadata": {
    "tags": []
   },
   "outputs": [
    {
     "data": {
      "text/html": [
       "<div>\n",
       "<style scoped>\n",
       "    .dataframe tbody tr th:only-of-type {\n",
       "        vertical-align: middle;\n",
       "    }\n",
       "\n",
       "    .dataframe tbody tr th {\n",
       "        vertical-align: top;\n",
       "    }\n",
       "\n",
       "    .dataframe thead th {\n",
       "        text-align: right;\n",
       "    }\n",
       "</style>\n",
       "<table border=\"1\" class=\"dataframe\">\n",
       "  <thead>\n",
       "    <tr style=\"text-align: right;\">\n",
       "      <th></th>\n",
       "      <th>usia</th>\n",
       "      <th>jk</th>\n",
       "      <th>status_nikah</th>\n",
       "      <th>alamat_ja</th>\n",
       "      <th>alamat_rt_rw</th>\n",
       "      <th>alamat_kel</th>\n",
       "      <th>alamat_kec</th>\n",
       "      <th>alamat_kabkota</th>\n",
       "      <th>kodepos</th>\n",
       "      <th>pendidikan</th>\n",
       "      <th>jml_motor</th>\n",
       "      <th>jml_mobil</th>\n",
       "      <th>jml_sepeda</th>\n",
       "      <th>jml_art</th>\n",
       "      <th>posisi_rt</th>\n",
       "      <th>penghasilan_pribadi</th>\n",
       "      <th>penghasilan_keluarga</th>\n",
       "      <th>pekerjaan_selain</th>\n",
       "      <th>platform</th>\n",
       "      <th>jam_online</th>\n",
       "      <th>status_kendaraan</th>\n",
       "      <th>lama_driver</th>\n",
       "      <th>ojek_konvensional</th>\n",
       "    </tr>\n",
       "  </thead>\n",
       "  <tbody>\n",
       "    <tr>\n",
       "      <th>1</th>\n",
       "      <td>26</td>\n",
       "      <td>Laki-laki</td>\n",
       "      <td>Menikah</td>\n",
       "      <td>Jl. Cihanjuang</td>\n",
       "      <td>03/18</td>\n",
       "      <td>Cibabat</td>\n",
       "      <td>Cimahi Utara</td>\n",
       "      <td>Kota Cimahi</td>\n",
       "      <td>.</td>\n",
       "      <td>SMA/SMK</td>\n",
       "      <td>1</td>\n",
       "      <td>0</td>\n",
       "      <td>0</td>\n",
       "      <td>3</td>\n",
       "      <td>Kepala rumah tangga</td>\n",
       "      <td>Rp5.000.000-Rp5.999.999</td>\n",
       "      <td>Rp5.000.000-Rp5.999.999</td>\n",
       "      <td>Karyawan Swasta (Full-time)</td>\n",
       "      <td>Gojek, Grab, Indriver</td>\n",
       "      <td>2-4 jam</td>\n",
       "      <td>Pribadi</td>\n",
       "      <td>1-3 tahun</td>\n",
       "      <td>Tidak</td>\n",
       "    </tr>\n",
       "    <tr>\n",
       "      <th>2</th>\n",
       "      <td>52</td>\n",
       "      <td>Laki-laki</td>\n",
       "      <td>Menikah</td>\n",
       "      <td>Jalan A.H. Nasution</td>\n",
       "      <td>02/02</td>\n",
       "      <td>Cipadung Wetan</td>\n",
       "      <td>Panyileukan</td>\n",
       "      <td>Kota Bandung</td>\n",
       "      <td>.</td>\n",
       "      <td>SMA/SMK</td>\n",
       "      <td>1</td>\n",
       "      <td>0</td>\n",
       "      <td>0</td>\n",
       "      <td>4</td>\n",
       "      <td>Kepala rumah tangga</td>\n",
       "      <td>Rp4.000.000-Rp4.999.999</td>\n",
       "      <td>Rp5.000.000-Rp5.999.999</td>\n",
       "      <td>Wirausahawan</td>\n",
       "      <td>Gojek, Grab</td>\n",
       "      <td>8-10 jam</td>\n",
       "      <td>Pribadi</td>\n",
       "      <td>5-7 tahun</td>\n",
       "      <td>Tidak</td>\n",
       "    </tr>\n",
       "    <tr>\n",
       "      <th>3</th>\n",
       "      <td>35</td>\n",
       "      <td>Laki-laki</td>\n",
       "      <td>Menikah</td>\n",
       "      <td>Jl. Sederhana No. 29</td>\n",
       "      <td>04/10</td>\n",
       "      <td>Pasteur</td>\n",
       "      <td>Sukajadi</td>\n",
       "      <td>Kota Bandung</td>\n",
       "      <td>.</td>\n",
       "      <td>SMA/SMK</td>\n",
       "      <td>1</td>\n",
       "      <td>0</td>\n",
       "      <td>1</td>\n",
       "      <td>3</td>\n",
       "      <td>Kepala rumah tangga</td>\n",
       "      <td>Rp3.000.000-Rp3.999.999</td>\n",
       "      <td>Rp5.000.000-Rp5.999.999</td>\n",
       "      <td>Tidak ada</td>\n",
       "      <td>Gojek</td>\n",
       "      <td>Di atas 10 jam</td>\n",
       "      <td>Pribadi</td>\n",
       "      <td>5-7 tahun</td>\n",
       "      <td>Tidak</td>\n",
       "    </tr>\n",
       "    <tr>\n",
       "      <th>4</th>\n",
       "      <td>70</td>\n",
       "      <td>Laki-laki</td>\n",
       "      <td>Menikah</td>\n",
       "      <td>Jl. Gegerkalong Girang</td>\n",
       "      <td>02/01</td>\n",
       "      <td>Gegerkalong</td>\n",
       "      <td>Sukasari</td>\n",
       "      <td>Kota Bandung</td>\n",
       "      <td>.</td>\n",
       "      <td>SMP</td>\n",
       "      <td>1</td>\n",
       "      <td>0</td>\n",
       "      <td>0</td>\n",
       "      <td>2</td>\n",
       "      <td>Kepala rumah tangga</td>\n",
       "      <td>Rp3.000.000-Rp3.999.999</td>\n",
       "      <td>Rp3.000.000-Rp3.999.999</td>\n",
       "      <td>Tidak ada</td>\n",
       "      <td>Gojek</td>\n",
       "      <td>8-10 jam</td>\n",
       "      <td>Pribadi</td>\n",
       "      <td>5-7 tahun</td>\n",
       "      <td>Ya</td>\n",
       "    </tr>\n",
       "    <tr>\n",
       "      <th>5</th>\n",
       "      <td>41</td>\n",
       "      <td>Laki-laki</td>\n",
       "      <td>Menikah</td>\n",
       "      <td>Jl. Sersan Bajuri</td>\n",
       "      <td>03/07</td>\n",
       "      <td>Cihideung</td>\n",
       "      <td>Parongpong</td>\n",
       "      <td>Kabupaten Bandung Barat</td>\n",
       "      <td>.</td>\n",
       "      <td>SMP</td>\n",
       "      <td>1</td>\n",
       "      <td>0</td>\n",
       "      <td>0</td>\n",
       "      <td>4</td>\n",
       "      <td>Kepala rumah tangga</td>\n",
       "      <td>Rp3.000.000-Rp3.999.999</td>\n",
       "      <td>Rp3.000.000-Rp3.999.999</td>\n",
       "      <td>Tidak ada</td>\n",
       "      <td>Gojek</td>\n",
       "      <td>Di atas 10 jam</td>\n",
       "      <td>Pribadi</td>\n",
       "      <td>7-9 tahun</td>\n",
       "      <td>Ya</td>\n",
       "    </tr>\n",
       "  </tbody>\n",
       "</table>\n",
       "</div>"
      ],
      "text/plain": [
       "\n",
       "     +-------------------------------------------------------------------------+\n",
       "  1. | usia  |        jk  |  status~h  |               alamat_ja  |  alamat~w  |\n",
       "     |   26  | Laki-laki  |   Menikah  |          Jl. Cihanjuang  |     03/18  |\n",
       "     |---------------------------------+---------------------------------------|\n",
       "     |     alamat_kel  |   alamat_kec  |           alamat_kabkota  |  kodepos  |\n",
       "     |        Cibabat  | Cimahi Utara  |              Kota Cimahi  |        .  |\n",
       "     |-------------------------------------------------------------------------|\n",
       "     |   pendid~n   |   jml_mo~r   |   jml_mo~l   |   jml_se~a   |   jml_art   |\n",
       "     |    SMA/SMK   |          1   |          0   |          0   |         3   |\n",
       "     |-------------------------------------------------------------------------|\n",
       "     |           posisi_rt |     penghasilan_pribadi |    penghasilan_keluarga |\n",
       "     | Kepala rumah tangga | Rp5.000.000-Rp5.999.999 | Rp5.000.000-Rp5.999.999 |\n",
       "     |-------------------------------------------------------------------------|\n",
       "     |            pekerjaan_selain  |              platform  |     jam_online  |\n",
       "     | Karyawan Swasta (Full-time)  | Gojek, Grab, Indriver  |        2-4 jam  |\n",
       "     |-------------------------------------------------------------------------|\n",
       "     |       status~n        |       lama_dr~r        |        ojek_k~l        |\n",
       "     |        Pribadi        |       1-3 tahun        |           Tidak        |\n",
       "     +-------------------------------------------------------------------------+\n",
       "\n",
       "     +-------------------------------------------------------------------------+\n",
       "  2. | usia  |        jk  |  status~h  |               alamat_ja  |  alamat~w  |\n",
       "     |   52  | Laki-laki  |   Menikah  |     Jalan A.H. Nasution  |     02/02  |\n",
       "     |---------------------------------+---------------------------------------|\n",
       "     |     alamat_kel  |   alamat_kec  |           alamat_kabkota  |  kodepos  |\n",
       "     | Cipadung Wetan  |  Panyileukan  |             Kota Bandung  |        .  |\n",
       "     |-------------------------------------------------------------------------|\n",
       "     |   pendid~n   |   jml_mo~r   |   jml_mo~l   |   jml_se~a   |   jml_art   |\n",
       "     |    SMA/SMK   |          1   |          0   |          0   |         4   |\n",
       "     |-------------------------------------------------------------------------|\n",
       "     |           posisi_rt |     penghasilan_pribadi |    penghasilan_keluarga |\n",
       "     | Kepala rumah tangga | Rp4.000.000-Rp4.999.999 | Rp5.000.000-Rp5.999.999 |\n",
       "     |-------------------------------------------------------------------------|\n",
       "     |            pekerjaan_selain  |              platform  |     jam_online  |\n",
       "     |                Wirausahawan  |           Gojek, Grab  |       8-10 jam  |\n",
       "     |-------------------------------------------------------------------------|\n",
       "     |       status~n        |       lama_dr~r        |        ojek_k~l        |\n",
       "     |        Pribadi        |       5-7 tahun        |           Tidak        |\n",
       "     +-------------------------------------------------------------------------+\n",
       "\n",
       "     +-------------------------------------------------------------------------+\n",
       "  3. | usia  |        jk  |  status~h  |               alamat_ja  |  alamat~w  |\n",
       "     |   35  | Laki-laki  |   Menikah  |    Jl. Sederhana No. 29  |     04/10  |\n",
       "     |---------------------------------+---------------------------------------|\n",
       "     |     alamat_kel  |   alamat_kec  |           alamat_kabkota  |  kodepos  |\n",
       "     |        Pasteur  |     Sukajadi  |             Kota Bandung  |        .  |\n",
       "     |-------------------------------------------------------------------------|\n",
       "     |   pendid~n   |   jml_mo~r   |   jml_mo~l   |   jml_se~a   |   jml_art   |\n",
       "     |    SMA/SMK   |          1   |          0   |          1   |         3   |\n",
       "     |-------------------------------------------------------------------------|\n",
       "     |           posisi_rt |     penghasilan_pribadi |    penghasilan_keluarga |\n",
       "     | Kepala rumah tangga | Rp3.000.000-Rp3.999.999 | Rp5.000.000-Rp5.999.999 |\n",
       "     |-------------------------------------------------------------------------|\n",
       "     |            pekerjaan_selain  |              platform  |     jam_online  |\n",
       "     |                   Tidak ada  |                 Gojek  | Di atas 10 jam  |\n",
       "     |-------------------------------------------------------------------------|\n",
       "     |       status~n        |       lama_dr~r        |        ojek_k~l        |\n",
       "     |        Pribadi        |       5-7 tahun        |           Tidak        |\n",
       "     +-------------------------------------------------------------------------+\n",
       "\n",
       "     +-------------------------------------------------------------------------+\n",
       "  4. | usia  |        jk  |  status~h  |               alamat_ja  |  alamat~w  |\n",
       "     |   70  | Laki-laki  |   Menikah  |  Jl. Gegerkalong Girang  |     02/01  |\n",
       "     |---------------------------------+---------------------------------------|\n",
       "     |     alamat_kel  |   alamat_kec  |           alamat_kabkota  |  kodepos  |\n",
       "     |    Gegerkalong  |     Sukasari  |             Kota Bandung  |        .  |\n",
       "     |-------------------------------------------------------------------------|\n",
       "     |   pendid~n   |   jml_mo~r   |   jml_mo~l   |   jml_se~a   |   jml_art   |\n",
       "     |        SMP   |          1   |          0   |          0   |         2   |\n",
       "     |-------------------------------------------------------------------------|\n",
       "     |           posisi_rt |     penghasilan_pribadi |    penghasilan_keluarga |\n",
       "     | Kepala rumah tangga | Rp3.000.000-Rp3.999.999 | Rp3.000.000-Rp3.999.999 |\n",
       "     |-------------------------------------------------------------------------|\n",
       "     |            pekerjaan_selain  |              platform  |     jam_online  |\n",
       "     |                   Tidak ada  |                 Gojek  |       8-10 jam  |\n",
       "     |-------------------------------------------------------------------------|\n",
       "     |       status~n        |       lama_dr~r        |        ojek_k~l        |\n",
       "     |        Pribadi        |       5-7 tahun        |              Ya        |\n",
       "     +-------------------------------------------------------------------------+\n",
       "\n",
       "     +-------------------------------------------------------------------------+\n",
       "  5. | usia  |        jk  |  status~h  |               alamat_ja  |  alamat~w  |\n",
       "     |   41  | Laki-laki  |   Menikah  |       Jl. Sersan Bajuri  |     03/07  |\n",
       "     |---------------------------------+---------------------------------------|\n",
       "     |     alamat_kel  |   alamat_kec  |           alamat_kabkota  |  kodepos  |\n",
       "     |      Cihideung  |   Parongpong  |  Kabupaten Bandung Barat  |        .  |\n",
       "     |-------------------------------------------------------------------------|\n",
       "     |   pendid~n   |   jml_mo~r   |   jml_mo~l   |   jml_se~a   |   jml_art   |\n",
       "     |        SMP   |          1   |          0   |          0   |         4   |\n",
       "     |-------------------------------------------------------------------------|\n",
       "     |           posisi_rt |     penghasilan_pribadi |    penghasilan_keluarga |\n",
       "     | Kepala rumah tangga | Rp3.000.000-Rp3.999.999 | Rp3.000.000-Rp3.999.999 |\n",
       "     |-------------------------------------------------------------------------|\n",
       "     |            pekerjaan_selain  |              platform  |     jam_online  |\n",
       "     |                   Tidak ada  |                 Gojek  | Di atas 10 jam  |\n",
       "     |-------------------------------------------------------------------------|\n",
       "     |       status~n        |       lama_dr~r        |        ojek_k~l        |\n",
       "     |        Pribadi        |       7-9 tahun        |              Ya        |\n",
       "     +-------------------------------------------------------------------------+\n",
       "\n"
      ]
     },
     "metadata": {},
     "output_type": "display_data"
    }
   ],
   "source": [
    "%head 5"
   ]
  },
  {
   "cell_type": "markdown",
   "id": "e2cac095-a289-4e95-b388-67246855b720",
   "metadata": {},
   "source": [
    "#### Import .csv file"
   ]
  },
  {
   "cell_type": "markdown",
   "id": "fa573835-4190-4373-8e6d-bffe2ab6a426",
   "metadata": {},
   "source": [
    "File yang berisi nilai-nilai yang dipisahkan oleh koma (comma-seperated/delimeted) juga umum digunakan untuk menyimpan data."
   ]
  },
  {
   "cell_type": "markdown",
   "id": "56fedc62-5b0b-419d-8a2c-35a3364f74cd",
   "metadata": {},
   "source": [
    " Gunakan `import delimited` untuk membaca file `.csv` (dan file delimeted oleh karakter lain seperti tab atau spasi). "
   ]
  },
  {
   "cell_type": "code",
   "execution_count": 12,
   "id": "8b514899-fe14-41a3-8010-f15c2412726d",
   "metadata": {},
   "outputs": [
    {
     "name": "stdout",
     "output_type": "stream",
     "text": [
      "(encoding automatically selected: ISO-8859-1)\n",
      "(3 vars, 22 obs)\n"
     ]
    }
   ],
   "source": [
    "import delimited using \"data/data_likert.csv\", clear"
   ]
  },
  {
   "cell_type": "code",
   "execution_count": 13,
   "id": "d8f2834a-3698-4058-ab49-b86612d04ab7",
   "metadata": {
    "tags": []
   },
   "outputs": [
    {
     "data": {
      "text/html": [
       "<div>\n",
       "<style scoped>\n",
       "    .dataframe tbody tr th:only-of-type {\n",
       "        vertical-align: middle;\n",
       "    }\n",
       "\n",
       "    .dataframe tbody tr th {\n",
       "        vertical-align: top;\n",
       "    }\n",
       "\n",
       "    .dataframe thead th {\n",
       "        text-align: right;\n",
       "    }\n",
       "</style>\n",
       "<table border=\"1\" class=\"dataframe\">\n",
       "  <thead>\n",
       "    <tr style=\"text-align: right;\">\n",
       "      <th></th>\n",
       "      <th>apakahandamengacupadapetainforma</th>\n",
       "      <th>menurutandakapanbiasanyarentangw</th>\n",
       "      <th>seberapapentingkeberadaanfasilit</th>\n",
       "    </tr>\n",
       "  </thead>\n",
       "  <tbody>\n",
       "    <tr>\n",
       "      <th>1</th>\n",
       "      <td>3</td>\n",
       "      <td>16.00-18.00</td>\n",
       "      <td>Penting</td>\n",
       "    </tr>\n",
       "    <tr>\n",
       "      <th>2</th>\n",
       "      <td>4</td>\n",
       "      <td>04:00-05:00</td>\n",
       "      <td>Penting</td>\n",
       "    </tr>\n",
       "    <tr>\n",
       "      <th>3</th>\n",
       "      <td>4</td>\n",
       "      <td>04:05-05:00</td>\n",
       "      <td>Sangat penting</td>\n",
       "    </tr>\n",
       "    <tr>\n",
       "      <th>4</th>\n",
       "      <td>4</td>\n",
       "      <td>05:00-08:00</td>\n",
       "      <td>Penting</td>\n",
       "    </tr>\n",
       "    <tr>\n",
       "      <th>5</th>\n",
       "      <td>3</td>\n",
       "      <td>05:30 - 08:00</td>\n",
       "      <td>Penting</td>\n",
       "    </tr>\n",
       "  </tbody>\n",
       "</table>\n",
       "</div>"
      ],
      "text/plain": [
       "\n",
       "     +-------------------------------------------+\n",
       "     | apakah~a   menurutanda~w   seberapapent~t |\n",
       "     |-------------------------------------------|\n",
       "  1. |        3     16.00-18.00          Penting |\n",
       "  2. |        4     04:00-05:00          Penting |\n",
       "  3. |        4     04:05-05:00   Sangat penting |\n",
       "  4. |        4     05:00-08:00          Penting |\n",
       "  5. |        3   05:30 - 08:00          Penting |\n",
       "     +-------------------------------------------+\n",
       "\n"
      ]
     },
     "metadata": {},
     "output_type": "display_data"
    }
   ],
   "source": [
    "%head 5"
   ]
  },
  {
   "cell_type": "markdown",
   "id": "908b5df0-73a4-448f-a178-600c7299633c",
   "metadata": {},
   "source": [
    "Untuk memasukkan data ke dalam Stata dengan baik, pastikan data dalam file Excel atau .csv Anda memiliki properti berikut:\n",
    "\n",
    "1. Setiap kolom (variabel) seharusnya memiliki jumlah baris (observasi) yang sama.\n",
    "2. Tidak ada grafik, jumlah, atau rata-rata dalam file tersebut.\n",
    "3. Missing data sebaiknya dibiarkan sebagai bidang kosong.\n",
    "    * Missing data seperti -999 juga diperbolehkan\n",
    "    * Akan dibahas di bagian berikutnya\n",
    "4. Nama variabel seharusnya hanya mengandung karakter alfanumerik atau _ atau .\n",
    "5. Jadikan sebanyak mungkin variabel sebagai tipe data numerik.\n",
    "    * Banyak perintah Stata hanya akan menerima variabel numerik."
   ]
  },
  {
   "cell_type": "markdown",
   "id": "7eee2b3d-696a-4b4d-b449-1895e119dc88",
   "metadata": {},
   "source": [
    "### Help Files"
   ]
  },
  {
   "cell_type": "markdown",
   "id": "e0c2be46-3800-43da-88de-da5df1693a49",
   "metadata": {},
   "source": [
    "Help files sangat berguna untuk mengetahui penjelasan detail terkait penggunaan command-command yang ada di stata. Berikut adalah cara untuk menampilkan help files.\n",
    "\n",
    "```stata\n",
    "help command \n",
    "```"
   ]
  },
  {
   "cell_type": "markdown",
   "id": "ce1dba4e-95ea-40c0-a0cd-91cccc8760bb",
   "metadata": {},
   "source": [
    "Dalam kasus ini diberikan contoh untuk melihat penjelasan terkait commmand `summarize` pada help files"
   ]
  },
  {
   "cell_type": "code",
   "execution_count": 13,
   "id": "d441aef7-6b85-40b7-b4b6-4599946356eb",
   "metadata": {
    "tags": []
   },
   "outputs": [],
   "source": [
    "help summarize"
   ]
  },
  {
   "cell_type": "markdown",
   "id": "e0f24760-6064-4fb8-82b9-0454483449d8",
   "metadata": {},
   "source": [
    "Akan muncul halaman dokumentasi command `summarize` seperti ini.\n",
    "\n",
    "![Help Viewer](img/help.jpg)"
   ]
  },
  {
   "cell_type": "markdown",
   "id": "530d23d2-2527-45e1-afae-f1b930039a14",
   "metadata": {},
   "source": [
    "Dalam file tersebut terdapat beberapa informasi penting, yaitu:\n",
    "* Nama perintah dan deskripsi singkat\n",
    "* Link to .pdf untuk file manual command yang ingin dilihat (dalam konteks ini adalah `summarize`)\n",
    "    * Entri manual mencakup rincian tentang metode dan rumus yang digunakan untuk perintah estimasi, dan contoh-contoh yang dijelaskan secara menyeluruh."
   ]
  },
  {
   "cell_type": "markdown",
   "id": "59e7b56c-4fb9-4d2b-8afa-51b5c98fa6e2",
   "metadata": {},
   "source": [
    "Selain itu, dalam stata_kernel ini juga dapat menampilkan Stata GUI untuk melakukan perintah melalui tampilan stata secara langsung. Namun, cara ini sangat tidak dianjurkan karena praktikum ini bertujuan untuk membiasakan praktikan menggunakan command line."
   ]
  },
  {
   "cell_type": "code",
   "execution_count": 14,
   "id": "05e1e69e-8a38-4dab-b90d-b6f563289e3a",
   "metadata": {
    "tags": []
   },
   "outputs": [],
   "source": [
    "%show_gui"
   ]
  },
  {
   "cell_type": "code",
   "execution_count": 15,
   "id": "bb93158f-d8f2-4bbf-9585-37ba64c4c3f9",
   "metadata": {
    "tags": []
   },
   "outputs": [],
   "source": [
    "%hide_gui"
   ]
  },
  {
   "cell_type": "markdown",
   "id": "b61ad736-6c7d-4f4e-be74-7c72cd5b0674",
   "metadata": {},
   "source": [
    "Perintah ini hanya bekerja untuk windows."
   ]
  },
  {
   "cell_type": "markdown",
   "id": "a7d683fc-95fd-4104-accb-7715defa2bc4",
   "metadata": {},
   "source": [
    "## *Getting to Know Your Data*"
   ]
  },
  {
   "cell_type": "markdown",
   "id": "595601db-ea6a-4495-971d-606f0ef1df72",
   "metadata": {},
   "source": [
    "### Viewing data"
   ]
  },
  {
   "cell_type": "markdown",
   "id": "adc80948-dfc1-4f60-97a6-2bb107e3dc0a",
   "metadata": {},
   "source": [
    "Terdapat 2 cara untuk menampilkan data. Menggunakan perintah magic untuk menampilkannya dalam bentuk html dan output ke console. "
   ]
  },
  {
   "cell_type": "code",
   "execution_count": 14,
   "id": "e200fc73-896b-4b1c-9779-adb3fa40257e",
   "metadata": {
    "tags": []
   },
   "outputs": [],
   "source": [
    "use \"data/data_likert\", clear"
   ]
  },
  {
   "cell_type": "markdown",
   "id": "db1c13b7-7801-41c4-a3bf-3ac3f4fddd5f",
   "metadata": {},
   "source": [
    "**Penggunaan menggunakan magic command (%)**"
   ]
  },
  {
   "cell_type": "markdown",
   "id": "030475f6-3fd8-4c68-bbed-2f78c536c562",
   "metadata": {},
   "source": [
    "Menampilkan seluruh data pada notebook"
   ]
  },
  {
   "cell_type": "code",
   "execution_count": 15,
   "id": "535a874d-1325-4c10-a37b-5eca10dcc725",
   "metadata": {
    "tags": []
   },
   "outputs": [
    {
     "data": {
      "text/html": [
       "<div>\n",
       "<style scoped>\n",
       "    .dataframe tbody tr th:only-of-type {\n",
       "        vertical-align: middle;\n",
       "    }\n",
       "\n",
       "    .dataframe tbody tr th {\n",
       "        vertical-align: top;\n",
       "    }\n",
       "\n",
       "    .dataframe thead th {\n",
       "        text-align: right;\n",
       "    }\n",
       "</style>\n",
       "<table border=\"1\" class=\"dataframe\">\n",
       "  <thead>\n",
       "    <tr style=\"text-align: right;\">\n",
       "      <th></th>\n",
       "      <th>peta_acuan</th>\n",
       "      <th>jam_puncak</th>\n",
       "      <th>permukiman</th>\n",
       "    </tr>\n",
       "  </thead>\n",
       "  <tbody>\n",
       "    <tr>\n",
       "      <th>1</th>\n",
       "      <td>3</td>\n",
       "      <td>16.00-18.00</td>\n",
       "      <td>Penting</td>\n",
       "    </tr>\n",
       "    <tr>\n",
       "      <th>2</th>\n",
       "      <td>4</td>\n",
       "      <td>04:00-05:00</td>\n",
       "      <td>Penting</td>\n",
       "    </tr>\n",
       "    <tr>\n",
       "      <th>3</th>\n",
       "      <td>4</td>\n",
       "      <td>04:05-05:00</td>\n",
       "      <td>Sangat penting</td>\n",
       "    </tr>\n",
       "    <tr>\n",
       "      <th>4</th>\n",
       "      <td>4</td>\n",
       "      <td>05:00-08:00</td>\n",
       "      <td>Penting</td>\n",
       "    </tr>\n",
       "    <tr>\n",
       "      <th>5</th>\n",
       "      <td>3</td>\n",
       "      <td>05:30 - 08:00</td>\n",
       "      <td>Penting</td>\n",
       "    </tr>\n",
       "    <tr>\n",
       "      <th>6</th>\n",
       "      <td>4</td>\n",
       "      <td>05:30 - 08:00</td>\n",
       "      <td>Penting</td>\n",
       "    </tr>\n",
       "    <tr>\n",
       "      <th>7</th>\n",
       "      <td>5</td>\n",
       "      <td>05:30 - 21:00</td>\n",
       "      <td>Sangat penting</td>\n",
       "    </tr>\n",
       "    <tr>\n",
       "      <th>8</th>\n",
       "      <td>4</td>\n",
       "      <td>05.00 - 08.00</td>\n",
       "      <td>Sangat penting</td>\n",
       "    </tr>\n",
       "    <tr>\n",
       "      <th>9</th>\n",
       "      <td>3</td>\n",
       "      <td>05.00-06.00</td>\n",
       "      <td>Penting</td>\n",
       "    </tr>\n",
       "    <tr>\n",
       "      <th>10</th>\n",
       "      <td>4</td>\n",
       "      <td>06:0 - 08:00</td>\n",
       "      <td>Tidak penting</td>\n",
       "    </tr>\n",
       "    <tr>\n",
       "      <th>11</th>\n",
       "      <td>3</td>\n",
       "      <td>06:00 - 07:00</td>\n",
       "      <td>Sangat penting</td>\n",
       "    </tr>\n",
       "    <tr>\n",
       "      <th>12</th>\n",
       "      <td>2</td>\n",
       "      <td>06:00 - 07:30</td>\n",
       "      <td>Sangat penting</td>\n",
       "    </tr>\n",
       "    <tr>\n",
       "      <th>13</th>\n",
       "      <td>4</td>\n",
       "      <td>06:00 - 07:30</td>\n",
       "      <td>Penting</td>\n",
       "    </tr>\n",
       "    <tr>\n",
       "      <th>14</th>\n",
       "      <td>2</td>\n",
       "      <td>06:00 - 08:00</td>\n",
       "      <td>Sangat penting</td>\n",
       "    </tr>\n",
       "    <tr>\n",
       "      <th>15</th>\n",
       "      <td>5</td>\n",
       "      <td>06:00 - 08:00</td>\n",
       "      <td>Penting</td>\n",
       "    </tr>\n",
       "    <tr>\n",
       "      <th>16</th>\n",
       "      <td>2</td>\n",
       "      <td>06:00 - 08:00</td>\n",
       "      <td>Tidak penting</td>\n",
       "    </tr>\n",
       "    <tr>\n",
       "      <th>17</th>\n",
       "      <td>1</td>\n",
       "      <td>06:00 - 08:00</td>\n",
       "      <td>Sangat penting</td>\n",
       "    </tr>\n",
       "    <tr>\n",
       "      <th>18</th>\n",
       "      <td>2</td>\n",
       "      <td>06:00 - 08:00</td>\n",
       "      <td>Penting</td>\n",
       "    </tr>\n",
       "    <tr>\n",
       "      <th>19</th>\n",
       "      <td>4</td>\n",
       "      <td>06:00 - 08:00</td>\n",
       "      <td>Penting</td>\n",
       "    </tr>\n",
       "    <tr>\n",
       "      <th>20</th>\n",
       "      <td>4</td>\n",
       "      <td>06:00 - 08.00</td>\n",
       "      <td>Netral</td>\n",
       "    </tr>\n",
       "    <tr>\n",
       "      <th>21</th>\n",
       "      <td>4</td>\n",
       "      <td>06:00 - 09:00</td>\n",
       "      <td>Penting</td>\n",
       "    </tr>\n",
       "    <tr>\n",
       "      <th>22</th>\n",
       "      <td>1</td>\n",
       "      <td>06:00 - 09:00,</td>\n",
       "      <td>Tidak penting</td>\n",
       "    </tr>\n",
       "  </tbody>\n",
       "</table>\n",
       "</div>"
      ],
      "text/plain": [
       "\n",
       "     +--------------------------------------------+\n",
       "     | peta_a~n       jam_puncak       permukiman |\n",
       "     |--------------------------------------------|\n",
       "  1. |        3      16.00-18.00          Penting |\n",
       "  2. |        4      04:00-05:00          Penting |\n",
       "  3. |        4      04:05-05:00   Sangat penting |\n",
       "  4. |        4      05:00-08:00          Penting |\n",
       "  5. |        3    05:30 - 08:00          Penting |\n",
       "     |--------------------------------------------|\n",
       "  6. |        4    05:30 - 08:00          Penting |\n",
       "  7. |        5    05:30 - 21:00   Sangat penting |\n",
       "  8. |        4    05.00 - 08.00   Sangat penting |\n",
       "  9. |        3      05.00-06.00          Penting |\n",
       " 10. |        4     06:0 - 08:00    Tidak penting |\n",
       "     |--------------------------------------------|\n",
       " 11. |        3    06:00 - 07:00   Sangat penting |\n",
       " 12. |        2    06:00 - 07:30   Sangat penting |\n",
       " 13. |        4    06:00 - 07:30          Penting |\n",
       " 14. |        2    06:00 - 08:00   Sangat penting |\n",
       " 15. |        5    06:00 - 08:00          Penting |\n",
       "     |--------------------------------------------|\n",
       " 16. |        2    06:00 - 08:00    Tidak penting |\n",
       " 17. |        1    06:00 - 08:00   Sangat penting |\n",
       " 18. |        2    06:00 - 08:00          Penting |\n",
       " 19. |        4    06:00 - 08:00          Penting |\n",
       " 20. |        4    06:00 - 08.00           Netral |\n",
       "     |--------------------------------------------|\n",
       " 21. |        4    06:00 - 09:00          Penting |\n",
       " 22. |        1   06:00 - 09:00,    Tidak penting |\n",
       "     +--------------------------------------------+\n",
       "\n"
      ]
     },
     "metadata": {},
     "output_type": "display_data"
    }
   ],
   "source": [
    "%browse"
   ]
  },
  {
   "cell_type": "markdown",
   "id": "f2aaccab-fb3d-44a6-96dd-6db7096ba771",
   "metadata": {},
   "source": [
    "Menampilkan sebagian data dengan head and tail"
   ]
  },
  {
   "cell_type": "code",
   "execution_count": 16,
   "id": "64701089-57f6-42e7-8313-206e8eb6ec63",
   "metadata": {
    "tags": []
   },
   "outputs": [
    {
     "data": {
      "text/html": [
       "<div>\n",
       "<style scoped>\n",
       "    .dataframe tbody tr th:only-of-type {\n",
       "        vertical-align: middle;\n",
       "    }\n",
       "\n",
       "    .dataframe tbody tr th {\n",
       "        vertical-align: top;\n",
       "    }\n",
       "\n",
       "    .dataframe thead th {\n",
       "        text-align: right;\n",
       "    }\n",
       "</style>\n",
       "<table border=\"1\" class=\"dataframe\">\n",
       "  <thead>\n",
       "    <tr style=\"text-align: right;\">\n",
       "      <th></th>\n",
       "      <th>peta_acuan</th>\n",
       "      <th>jam_puncak</th>\n",
       "      <th>permukiman</th>\n",
       "    </tr>\n",
       "  </thead>\n",
       "  <tbody>\n",
       "    <tr>\n",
       "      <th>1</th>\n",
       "      <td>3</td>\n",
       "      <td>16.00-18.00</td>\n",
       "      <td>Penting</td>\n",
       "    </tr>\n",
       "    <tr>\n",
       "      <th>2</th>\n",
       "      <td>4</td>\n",
       "      <td>04:00-05:00</td>\n",
       "      <td>Penting</td>\n",
       "    </tr>\n",
       "  </tbody>\n",
       "</table>\n",
       "</div>"
      ],
      "text/plain": [
       "\n",
       "     +------------------------------------+\n",
       "     | peta_a~n     jam_puncak   permuk~n |\n",
       "     |------------------------------------|\n",
       "  1. |        3    16.00-18.00    Penting |\n",
       "  2. |        4    04:00-05:00    Penting |\n",
       "     +------------------------------------+\n",
       "\n"
      ]
     },
     "metadata": {},
     "output_type": "display_data"
    }
   ],
   "source": [
    "%head 2 "
   ]
  },
  {
   "cell_type": "code",
   "execution_count": 17,
   "id": "321bacff-db03-4f62-a942-2d1736757ec9",
   "metadata": {
    "tags": []
   },
   "outputs": [
    {
     "data": {
      "text/html": [
       "<div>\n",
       "<style scoped>\n",
       "    .dataframe tbody tr th:only-of-type {\n",
       "        vertical-align: middle;\n",
       "    }\n",
       "\n",
       "    .dataframe tbody tr th {\n",
       "        vertical-align: top;\n",
       "    }\n",
       "\n",
       "    .dataframe thead th {\n",
       "        text-align: right;\n",
       "    }\n",
       "</style>\n",
       "<table border=\"1\" class=\"dataframe\">\n",
       "  <thead>\n",
       "    <tr style=\"text-align: right;\">\n",
       "      <th></th>\n",
       "      <th>peta_acuan</th>\n",
       "      <th>jam_puncak</th>\n",
       "      <th>permukiman</th>\n",
       "    </tr>\n",
       "  </thead>\n",
       "  <tbody>\n",
       "    <tr>\n",
       "      <th>21</th>\n",
       "      <td>4</td>\n",
       "      <td>06:00 - 09:00</td>\n",
       "      <td>Penting</td>\n",
       "    </tr>\n",
       "    <tr>\n",
       "      <th>22</th>\n",
       "      <td>1</td>\n",
       "      <td>06:00 - 09:00,</td>\n",
       "      <td>Tidak penting</td>\n",
       "    </tr>\n",
       "  </tbody>\n",
       "</table>\n",
       "</div>"
      ],
      "text/plain": [
       "\n",
       "     +-------------------------------------------+\n",
       "     | peta_a~n       jam_puncak      permukiman |\n",
       "     |-------------------------------------------|\n",
       " 21. |        4    06:00 - 09:00         Penting |\n",
       " 22. |        1   06:00 - 09:00,   Tidak penting |\n",
       "     +-------------------------------------------+"
      ]
     },
     "metadata": {},
     "output_type": "display_data"
    }
   ],
   "source": [
    "%tail 2"
   ]
  },
  {
   "cell_type": "markdown",
   "id": "edbe31be-8cbc-4afa-a2fd-f90365861f20",
   "metadata": {},
   "source": [
    "Penggunaan magic command bisa dilihat detailnya pada halaman ini https://kylebarron.dev/stata_kernel/using_stata_kernel/magics/"
   ]
  },
  {
   "cell_type": "markdown",
   "id": "1172df63-11bc-4c9f-a76f-bd3e88d2ac40",
   "metadata": {},
   "source": [
    "**Menampilan data pada console**"
   ]
  },
  {
   "cell_type": "code",
   "execution_count": 18,
   "id": "078bcf5e-40fd-4a81-916e-d937d943b723",
   "metadata": {
    "tags": []
   },
   "outputs": [
    {
     "name": "stdout",
     "output_type": "stream",
     "text": [
      "\n",
      "     +--------------------------+\n",
      "     | peta_a~n      jam_puncak |\n",
      "     |--------------------------|\n",
      "  1. |        3     16.00-18.00 |\n",
      "  2. |        4     04:00-05:00 |\n",
      "  3. |        4     04:05-05:00 |\n",
      "  4. |        4     05:00-08:00 |\n",
      "  5. |        3   05:30 - 08:00 |\n",
      "     +--------------------------+\n"
     ]
    }
   ],
   "source": [
    "list peta_acuan jam_puncak in 1/5"
   ]
  },
  {
   "cell_type": "markdown",
   "id": "9a9cc834-6af3-42c0-9e37-8464ecdbeb2a",
   "metadata": {},
   "source": [
    "* Perintah list mencetak observasi ke stata console\n",
    "* Cukup dengan mengeluarkan `list` akan membuat daftar semua pengamatan dan variabel\n",
    "* Biasanya tidak direkomendasikan kecuali untuk dataset kecil\n",
    "* Tentukan nama variabel untuk mencantumkan hanya variabel-variabel tersebut"
   ]
  },
  {
   "cell_type": "markdown",
   "id": "e2ccf4cc-e413-432a-bce4-cea7a2a735bf",
   "metadata": {},
   "source": [
    "### Selecting data"
   ]
  },
  {
   "cell_type": "markdown",
   "id": "8a65d75e-a1b0-4b2a-8a2d-b37acc0f14b9",
   "metadata": {
    "tags": []
   },
   "source": [
    "Terdapat 2 pendekatan dalam memilih atau selecting data, yaitu melalui *observation number* dan kondisional"
   ]
  },
  {
   "cell_type": "markdown",
   "id": "2c4b0a0a-2b2e-4088-a7cd-d29aba5e0276",
   "metadata": {},
   "source": [
    "**Selecting by observation number**\n",
    "\n",
    "Proses selecting ini menggunakan perintah `in` di dalamnya. Berikut adalah contohnya."
   ]
  },
  {
   "cell_type": "code",
   "execution_count": 19,
   "id": "3fa7afe9-53ea-436c-841d-644d1c3d400d",
   "metadata": {
    "tags": []
   },
   "outputs": [
    {
     "name": "stdout",
     "output_type": "stream",
     "text": [
      "\n",
      "     +----------------+\n",
      "     |     jam_puncak |\n",
      "     |----------------|\n",
      " 15. |  06:00 - 08:00 |\n",
      " 16. |  06:00 - 08:00 |\n",
      " 17. |  06:00 - 08:00 |\n",
      " 18. |  06:00 - 08:00 |\n",
      " 19. |  06:00 - 08:00 |\n",
      "     |----------------|\n",
      " 20. |  06:00 - 08.00 |\n",
      " 21. |  06:00 - 09:00 |\n",
      " 22. | 06:00 - 09:00, |\n",
      "     +----------------+\n"
     ]
    }
   ],
   "source": [
    "li jam_puncak in 15/L // li merupakan bentuk singkat dari list"
   ]
  },
  {
   "cell_type": "markdown",
   "id": "5fb67960-2359-4c51-a377-82e7cf8e0aa1",
   "metadata": {},
   "source": [
    "* `in` memilih baris berdasarkan nomor\n",
    "* Syntax\n",
    "    * `in firstobs/lastobs`\n",
    "        * 30/100 – row 30 hingga 100\n",
    "    * Angka negatif menandakan perhitungan baris dimulai dari paling akhir\n",
    "    * `L` berarti row terakhir\n",
    "        *-10/L – 10 row dari terakhid hingga row terakhir\n"
   ]
  },
  {
   "cell_type": "markdown",
   "id": "7b0ab562-60ca-440b-b3e4-3b9ad7824b53",
   "metadata": {
    "tags": []
   },
   "source": [
    "**Selecting by condition**\n",
    "\n",
    "Proses selecting ini menggunakan perintah `if` di dalamnya. Berikut adalah contohnya."
   ]
  },
  {
   "cell_type": "code",
   "execution_count": 20,
   "id": "1445c355-20f8-4158-baf2-f726d29363d5",
   "metadata": {
    "tags": []
   },
   "outputs": [
    {
     "name": "stdout",
     "output_type": "stream",
     "text": [
      "\n",
      "     +-------------------------------------------+\n",
      "     | peta_a~n      jam_puncak       permukiman |\n",
      "     |-------------------------------------------|\n",
      "  2. |        4     04:00-05:00          Penting |\n",
      "  3. |        4     04:05-05:00   Sangat penting |\n",
      "  4. |        4     05:00-08:00          Penting |\n",
      "  6. |        4   05:30 - 08:00          Penting |\n",
      "  7. |        5   05:30 - 21:00   Sangat penting |\n",
      "     |-------------------------------------------|\n",
      "  8. |        4   05.00 - 08.00   Sangat penting |\n",
      " 10. |        4    06:0 - 08:00    Tidak penting |\n",
      " 13. |        4   06:00 - 07:30          Penting |\n",
      " 15. |        5   06:00 - 08:00          Penting |\n",
      " 19. |        4   06:00 - 08:00          Penting |\n",
      "     |-------------------------------------------|\n",
      " 20. |        4   06:00 - 08.00           Netral |\n",
      " 21. |        4   06:00 - 09:00          Penting |\n",
      "     +-------------------------------------------+\n"
     ]
    }
   ],
   "source": [
    "li peta_acuan jam_puncak permukiman if peta_acuan > 3"
   ]
  },
  {
   "cell_type": "markdown",
   "id": "74953beb-e038-450f-a2ca-df0d0df0b321",
   "metadata": {},
   "source": [
    "* `if` memilih row yang sesuai dengan kondisi yang diinginkan\n",
    "* `if` biasanya disimpan setelah command selecting terkait namun tetap sebelum koma yang mengatur opsi-opsi tambahan"
   ]
  },
  {
   "cell_type": "markdown",
   "id": "29c94d98-2eba-4642-9441-c9277831764d",
   "metadata": {},
   "source": [
    "Berikut adalah operator logika dan relasi yang biasa digunakan dalam perintah *conditional* ini.\n",
    "\n",
    "* `==`, sama dengan (membandingkan 2 nilai), berbeda dengan `=` yang berfungsi untuk assign suatu nilai.\n",
    "* `<` (kurang dari), `>` (lebih dari), `<=` (kurang dari sama dengan), `>=` (lebih dari sama dengan)\n",
    "* `!` logika negasi atau kebalikannya\n",
    "    * `!=` tidak sama dengan\n",
    "* `&` and (keduanya benar)\n",
    "* `|` or (salah satu benar)"
   ]
  },
  {
   "cell_type": "code",
   "execution_count": 21,
   "id": "7c8dda65-29a8-4046-87ad-ed90c49b0c8c",
   "metadata": {
    "tags": []
   },
   "outputs": [
    {
     "data": {
      "text/html": [
       "<div>\n",
       "<style scoped>\n",
       "    .dataframe tbody tr th:only-of-type {\n",
       "        vertical-align: middle;\n",
       "    }\n",
       "\n",
       "    .dataframe tbody tr th {\n",
       "        vertical-align: top;\n",
       "    }\n",
       "\n",
       "    .dataframe thead th {\n",
       "        text-align: right;\n",
       "    }\n",
       "</style>\n",
       "<table border=\"1\" class=\"dataframe\">\n",
       "  <thead>\n",
       "    <tr style=\"text-align: right;\">\n",
       "      <th></th>\n",
       "      <th>peta_acuan</th>\n",
       "      <th>jam_puncak</th>\n",
       "    </tr>\n",
       "  </thead>\n",
       "  <tbody>\n",
       "    <tr>\n",
       "      <th>2</th>\n",
       "      <td>4</td>\n",
       "      <td>04:00-05:00</td>\n",
       "    </tr>\n",
       "    <tr>\n",
       "      <th>3</th>\n",
       "      <td>4</td>\n",
       "      <td>04:05-05:00</td>\n",
       "    </tr>\n",
       "    <tr>\n",
       "      <th>4</th>\n",
       "      <td>4</td>\n",
       "      <td>05:00-08:00</td>\n",
       "    </tr>\n",
       "    <tr>\n",
       "      <th>6</th>\n",
       "      <td>4</td>\n",
       "      <td>05:30 - 08:00</td>\n",
       "    </tr>\n",
       "    <tr>\n",
       "      <th>7</th>\n",
       "      <td>5</td>\n",
       "      <td>05:30 - 21:00</td>\n",
       "    </tr>\n",
       "    <tr>\n",
       "      <th>8</th>\n",
       "      <td>4</td>\n",
       "      <td>05.00 - 08.00</td>\n",
       "    </tr>\n",
       "    <tr>\n",
       "      <th>10</th>\n",
       "      <td>4</td>\n",
       "      <td>06:0 - 08:00</td>\n",
       "    </tr>\n",
       "    <tr>\n",
       "      <th>13</th>\n",
       "      <td>4</td>\n",
       "      <td>06:00 - 07:30</td>\n",
       "    </tr>\n",
       "    <tr>\n",
       "      <th>15</th>\n",
       "      <td>5</td>\n",
       "      <td>06:00 - 08:00</td>\n",
       "    </tr>\n",
       "    <tr>\n",
       "      <th>19</th>\n",
       "      <td>4</td>\n",
       "      <td>06:00 - 08:00</td>\n",
       "    </tr>\n",
       "    <tr>\n",
       "      <th>20</th>\n",
       "      <td>4</td>\n",
       "      <td>06:00 - 08.00</td>\n",
       "    </tr>\n",
       "    <tr>\n",
       "      <th>21</th>\n",
       "      <td>4</td>\n",
       "      <td>06:00 - 09:00</td>\n",
       "    </tr>\n",
       "  </tbody>\n",
       "</table>\n",
       "</div>"
      ],
      "text/plain": [
       "\n",
       "     +--------------------------+\n",
       "     | peta_a~n      jam_puncak |\n",
       "     |--------------------------|\n",
       "  2. |        4     04:00-05:00 |\n",
       "  3. |        4     04:05-05:00 |\n",
       "  4. |        4     05:00-08:00 |\n",
       "  6. |        4   05:30 - 08:00 |\n",
       "  7. |        5   05:30 - 21:00 |\n",
       "     |--------------------------|\n",
       "  8. |        4   05.00 - 08.00 |\n",
       " 10. |        4    06:0 - 08:00 |\n",
       " 13. |        4   06:00 - 07:30 |\n",
       " 15. |        5   06:00 - 08:00 |\n",
       " 19. |        4   06:00 - 08:00 |\n",
       "     |--------------------------|\n",
       " 20. |        4   06:00 - 08.00 |\n",
       " 21. |        4   06:00 - 09:00 |\n",
       "     +--------------------------+\n",
       "\n"
      ]
     },
     "metadata": {},
     "output_type": "display_data"
    }
   ],
   "source": [
    "%browse peta_acuan jam_puncak if permukiman == \"Netral\" | peta_acuan > 3"
   ]
  },
  {
   "cell_type": "markdown",
   "id": "c17e12cb-a4df-485b-b75e-8cb71db4e678",
   "metadata": {},
   "source": [
    "### Exploring Data"
   ]
  },
  {
   "cell_type": "markdown",
   "id": "85163ca5-a508-4dc8-8d22-a2e4ceb4ac24",
   "metadata": {},
   "source": [
    "**describe**: berfungsi untuk melihat informasi terkait dataset. Berikut adalah informasi yang ditampilkan oleh perintah describe:\n",
    "\n",
    "* nama variabel\n",
    "* jenis variabel atau data\n",
    "* format penampilan data\n",
    "* label value yang digunakan\n",
    "* label variabel yang digunakan"
   ]
  },
  {
   "cell_type": "code",
   "execution_count": 22,
   "id": "8a10a21e-f968-4507-9627-78e97725474d",
   "metadata": {
    "tags": []
   },
   "outputs": [
    {
     "name": "stdout",
     "output_type": "stream",
     "text": [
      "\n",
      "Variable      Storage   Display    Value\n",
      "    name         type    format    label      Variable label\n",
      "--------------------------------------------------------------------------------\n",
      "peta_acuan      byte    %8.0g                 Preferensi driver terhadap peta\n",
      "                                                potensi pesanan\n",
      "jam_puncak      str14   %14s                  Rentang jam puncak pelayanan\n",
      "permukiman      str14   %14s                  Preferensi lokasi permukiman\n"
     ]
    }
   ],
   "source": [
    "describe peta_acuan jam_puncak permukiman"
   ]
  },
  {
   "cell_type": "markdown",
   "id": "c13fc6a9-f378-471b-9733-5c9da984c015",
   "metadata": {},
   "source": [
    "**codebook**: berfungsi untuk melihat informasi-informasi terkait nilai dalam suatu variabel.\n",
    "\n",
    "* Untuk semua variabel\n",
    "    * Jumlah nilai unik dan nilai yang hilang\n",
    "* Untuk variabel numerik\n",
    "    * rentang, kuantil, rata-rata, dan deviasi standar untuk variabel kontinu\n",
    "    * frekuensi untuk variabel diskrit\n",
    "* Untuk variabel string\n",
    "    * frekuensi\n",
    "    * peringatan tentang bagian kosong di depan dan di belakang"
   ]
  },
  {
   "cell_type": "code",
   "execution_count": 23,
   "id": "dbbf4457-94fe-48e2-aa6f-2b3d330fed0f",
   "metadata": {
    "tags": []
   },
   "outputs": [
    {
     "name": "stdout",
     "output_type": "stream",
     "text": [
      "\n",
      "--------------------------------------------------------------------------------\n",
      "peta_acuan                       Preferensi driver terhadap peta potensi pesanan\n",
      "--------------------------------------------------------------------------------\n",
      "\n",
      "                  Type: Numeric (byte)\n",
      "\n",
      "                 Range: [1,5]                         Units: 1\n",
      "         Unique values: 5                         Missing .: 0/22\n",
      "\n",
      "            Tabulation: Freq.  Value\n",
      "                            2  1\n",
      "                            4  2\n",
      "                            4  3\n",
      "                           10  4\n",
      "                            2  5\n",
      "\n",
      "--------------------------------------------------------------------------------\n",
      "jam_puncak                                          Rentang jam puncak pelayanan\n",
      "--------------------------------------------------------------------------------\n",
      "\n",
      "                  Type: String (str14)\n",
      "\n",
      "         Unique values: 15                        Missing \"\": 0/22\n",
      "\n",
      "              Examples: \"05.00 - 08.00\"\n",
      "                        \"05:30 - 08:00\"\n",
      "                        \"06:00 - 07:30\"\n",
      "                        \"06:00 - 08:00\"\n",
      "\n",
      "               Warning: Variable has leading and embedded blanks.\n",
      "\n",
      "--------------------------------------------------------------------------------\n",
      "permukiman                                          Preferensi lokasi permukiman\n",
      "--------------------------------------------------------------------------------\n",
      "\n",
      "                  Type: String (str14)\n",
      "\n",
      "         Unique values: 4                         Missing \"\": 0/22\n",
      "\n",
      "            Tabulation: Freq.  Value\n",
      "                            1  \"Netral\"\n",
      "                           11  \"Penting\"\n",
      "                            7  \"Sangat penting\"\n",
      "                            3  \"Tidak penting\"\n",
      "\n",
      "               Warning: Variable has embedded blanks.\n"
     ]
    }
   ],
   "source": [
    "codebook peta_acuan jam_puncak permukiman"
   ]
  },
  {
   "cell_type": "markdown",
   "id": "a89231c0-ce1e-46f7-ae7d-beeefbccfe39",
   "metadata": {},
   "source": [
    "**summarize**: berfungsi untuk membuat merangkum data kontinyu. \n",
    "\n",
    "Summarize ini menghitung: berapa jumlah data non-missing, mean, standar deviasi, dan nilai minimum-maksimum"
   ]
  },
  {
   "cell_type": "code",
   "execution_count": 24,
   "id": "2ef811f1-a3a1-4eed-8bb5-660f2b0fc52f",
   "metadata": {
    "tags": []
   },
   "outputs": [
    {
     "name": "stdout",
     "output_type": "stream",
     "text": [
      "(23 vars, 14 obs)\n"
     ]
    }
   ],
   "source": [
    "import excel using \"data/data_sosdem.xlsx\", sheet(\"data\") firstrow clear"
   ]
  },
  {
   "cell_type": "code",
   "execution_count": 25,
   "id": "c00e2045-ad3d-46af-99ee-9ad5315c47e7",
   "metadata": {
    "tags": []
   },
   "outputs": [
    {
     "data": {
      "text/html": [
       "<div>\n",
       "<style scoped>\n",
       "    .dataframe tbody tr th:only-of-type {\n",
       "        vertical-align: middle;\n",
       "    }\n",
       "\n",
       "    .dataframe tbody tr th {\n",
       "        vertical-align: top;\n",
       "    }\n",
       "\n",
       "    .dataframe thead th {\n",
       "        text-align: right;\n",
       "    }\n",
       "</style>\n",
       "<table border=\"1\" class=\"dataframe\">\n",
       "  <thead>\n",
       "    <tr style=\"text-align: right;\">\n",
       "      <th></th>\n",
       "      <th>usia</th>\n",
       "      <th>jk</th>\n",
       "      <th>status_nikah</th>\n",
       "      <th>alamat_ja</th>\n",
       "      <th>alamat_rt_rw</th>\n",
       "      <th>alamat_kel</th>\n",
       "      <th>alamat_kec</th>\n",
       "      <th>alamat_kabkota</th>\n",
       "      <th>kodepos</th>\n",
       "      <th>pendidikan</th>\n",
       "      <th>jml_motor</th>\n",
       "      <th>jml_mobil</th>\n",
       "      <th>jml_sepeda</th>\n",
       "      <th>jml_art</th>\n",
       "      <th>posisi_rt</th>\n",
       "      <th>penghasilan_pribadi</th>\n",
       "      <th>penghasilan_keluarga</th>\n",
       "      <th>pekerjaan_selain</th>\n",
       "      <th>platform</th>\n",
       "      <th>jam_online</th>\n",
       "      <th>status_kendaraan</th>\n",
       "      <th>lama_driver</th>\n",
       "      <th>ojek_konvensional</th>\n",
       "    </tr>\n",
       "  </thead>\n",
       "  <tbody>\n",
       "    <tr>\n",
       "      <th>1</th>\n",
       "      <td>26</td>\n",
       "      <td>Laki-laki</td>\n",
       "      <td>Menikah</td>\n",
       "      <td>Jl. Cihanjuang</td>\n",
       "      <td>03/18</td>\n",
       "      <td>Cibabat</td>\n",
       "      <td>Cimahi Utara</td>\n",
       "      <td>Kota Cimahi</td>\n",
       "      <td>.</td>\n",
       "      <td>SMA/SMK</td>\n",
       "      <td>1</td>\n",
       "      <td>0</td>\n",
       "      <td>0</td>\n",
       "      <td>3</td>\n",
       "      <td>Kepala rumah tangga</td>\n",
       "      <td>Rp5.000.000-Rp5.999.999</td>\n",
       "      <td>Rp5.000.000-Rp5.999.999</td>\n",
       "      <td>Karyawan Swasta (Full-time)</td>\n",
       "      <td>Gojek, Grab, Indriver</td>\n",
       "      <td>2-4 jam</td>\n",
       "      <td>Pribadi</td>\n",
       "      <td>1-3 tahun</td>\n",
       "      <td>Tidak</td>\n",
       "    </tr>\n",
       "    <tr>\n",
       "      <th>2</th>\n",
       "      <td>52</td>\n",
       "      <td>Laki-laki</td>\n",
       "      <td>Menikah</td>\n",
       "      <td>Jalan A.H. Nasution</td>\n",
       "      <td>02/02</td>\n",
       "      <td>Cipadung Wetan</td>\n",
       "      <td>Panyileukan</td>\n",
       "      <td>Kota Bandung</td>\n",
       "      <td>.</td>\n",
       "      <td>SMA/SMK</td>\n",
       "      <td>1</td>\n",
       "      <td>0</td>\n",
       "      <td>0</td>\n",
       "      <td>4</td>\n",
       "      <td>Kepala rumah tangga</td>\n",
       "      <td>Rp4.000.000-Rp4.999.999</td>\n",
       "      <td>Rp5.000.000-Rp5.999.999</td>\n",
       "      <td>Wirausahawan</td>\n",
       "      <td>Gojek, Grab</td>\n",
       "      <td>8-10 jam</td>\n",
       "      <td>Pribadi</td>\n",
       "      <td>5-7 tahun</td>\n",
       "      <td>Tidak</td>\n",
       "    </tr>\n",
       "    <tr>\n",
       "      <th>3</th>\n",
       "      <td>35</td>\n",
       "      <td>Laki-laki</td>\n",
       "      <td>Menikah</td>\n",
       "      <td>Jl. Sederhana No. 29</td>\n",
       "      <td>04/10</td>\n",
       "      <td>Pasteur</td>\n",
       "      <td>Sukajadi</td>\n",
       "      <td>Kota Bandung</td>\n",
       "      <td>.</td>\n",
       "      <td>SMA/SMK</td>\n",
       "      <td>1</td>\n",
       "      <td>0</td>\n",
       "      <td>1</td>\n",
       "      <td>3</td>\n",
       "      <td>Kepala rumah tangga</td>\n",
       "      <td>Rp3.000.000-Rp3.999.999</td>\n",
       "      <td>Rp5.000.000-Rp5.999.999</td>\n",
       "      <td>Tidak ada</td>\n",
       "      <td>Gojek</td>\n",
       "      <td>Di atas 10 jam</td>\n",
       "      <td>Pribadi</td>\n",
       "      <td>5-7 tahun</td>\n",
       "      <td>Tidak</td>\n",
       "    </tr>\n",
       "    <tr>\n",
       "      <th>4</th>\n",
       "      <td>70</td>\n",
       "      <td>Laki-laki</td>\n",
       "      <td>Menikah</td>\n",
       "      <td>Jl. Gegerkalong Girang</td>\n",
       "      <td>02/01</td>\n",
       "      <td>Gegerkalong</td>\n",
       "      <td>Sukasari</td>\n",
       "      <td>Kota Bandung</td>\n",
       "      <td>.</td>\n",
       "      <td>SMP</td>\n",
       "      <td>1</td>\n",
       "      <td>0</td>\n",
       "      <td>0</td>\n",
       "      <td>2</td>\n",
       "      <td>Kepala rumah tangga</td>\n",
       "      <td>Rp3.000.000-Rp3.999.999</td>\n",
       "      <td>Rp3.000.000-Rp3.999.999</td>\n",
       "      <td>Tidak ada</td>\n",
       "      <td>Gojek</td>\n",
       "      <td>8-10 jam</td>\n",
       "      <td>Pribadi</td>\n",
       "      <td>5-7 tahun</td>\n",
       "      <td>Ya</td>\n",
       "    </tr>\n",
       "    <tr>\n",
       "      <th>5</th>\n",
       "      <td>41</td>\n",
       "      <td>Laki-laki</td>\n",
       "      <td>Menikah</td>\n",
       "      <td>Jl. Sersan Bajuri</td>\n",
       "      <td>03/07</td>\n",
       "      <td>Cihideung</td>\n",
       "      <td>Parongpong</td>\n",
       "      <td>Kabupaten Bandung Barat</td>\n",
       "      <td>.</td>\n",
       "      <td>SMP</td>\n",
       "      <td>1</td>\n",
       "      <td>0</td>\n",
       "      <td>0</td>\n",
       "      <td>4</td>\n",
       "      <td>Kepala rumah tangga</td>\n",
       "      <td>Rp3.000.000-Rp3.999.999</td>\n",
       "      <td>Rp3.000.000-Rp3.999.999</td>\n",
       "      <td>Tidak ada</td>\n",
       "      <td>Gojek</td>\n",
       "      <td>Di atas 10 jam</td>\n",
       "      <td>Pribadi</td>\n",
       "      <td>7-9 tahun</td>\n",
       "      <td>Ya</td>\n",
       "    </tr>\n",
       "  </tbody>\n",
       "</table>\n",
       "</div>"
      ],
      "text/plain": [
       "\n",
       "     +-------------------------------------------------------------------------+\n",
       "  1. | usia  |        jk  |  status~h  |               alamat_ja  |  alamat~w  |\n",
       "     |   26  | Laki-laki  |   Menikah  |          Jl. Cihanjuang  |     03/18  |\n",
       "     |---------------------------------+---------------------------------------|\n",
       "     |     alamat_kel  |   alamat_kec  |           alamat_kabkota  |  kodepos  |\n",
       "     |        Cibabat  | Cimahi Utara  |              Kota Cimahi  |        .  |\n",
       "     |-------------------------------------------------------------------------|\n",
       "     |   pendid~n   |   jml_mo~r   |   jml_mo~l   |   jml_se~a   |   jml_art   |\n",
       "     |    SMA/SMK   |          1   |          0   |          0   |         3   |\n",
       "     |-------------------------------------------------------------------------|\n",
       "     |           posisi_rt |     penghasilan_pribadi |    penghasilan_keluarga |\n",
       "     | Kepala rumah tangga | Rp5.000.000-Rp5.999.999 | Rp5.000.000-Rp5.999.999 |\n",
       "     |-------------------------------------------------------------------------|\n",
       "     |            pekerjaan_selain  |              platform  |     jam_online  |\n",
       "     | Karyawan Swasta (Full-time)  | Gojek, Grab, Indriver  |        2-4 jam  |\n",
       "     |-------------------------------------------------------------------------|\n",
       "     |       status~n        |       lama_dr~r        |        ojek_k~l        |\n",
       "     |        Pribadi        |       1-3 tahun        |           Tidak        |\n",
       "     +-------------------------------------------------------------------------+\n",
       "\n",
       "     +-------------------------------------------------------------------------+\n",
       "  2. | usia  |        jk  |  status~h  |               alamat_ja  |  alamat~w  |\n",
       "     |   52  | Laki-laki  |   Menikah  |     Jalan A.H. Nasution  |     02/02  |\n",
       "     |---------------------------------+---------------------------------------|\n",
       "     |     alamat_kel  |   alamat_kec  |           alamat_kabkota  |  kodepos  |\n",
       "     | Cipadung Wetan  |  Panyileukan  |             Kota Bandung  |        .  |\n",
       "     |-------------------------------------------------------------------------|\n",
       "     |   pendid~n   |   jml_mo~r   |   jml_mo~l   |   jml_se~a   |   jml_art   |\n",
       "     |    SMA/SMK   |          1   |          0   |          0   |         4   |\n",
       "     |-------------------------------------------------------------------------|\n",
       "     |           posisi_rt |     penghasilan_pribadi |    penghasilan_keluarga |\n",
       "     | Kepala rumah tangga | Rp4.000.000-Rp4.999.999 | Rp5.000.000-Rp5.999.999 |\n",
       "     |-------------------------------------------------------------------------|\n",
       "     |            pekerjaan_selain  |              platform  |     jam_online  |\n",
       "     |                Wirausahawan  |           Gojek, Grab  |       8-10 jam  |\n",
       "     |-------------------------------------------------------------------------|\n",
       "     |       status~n        |       lama_dr~r        |        ojek_k~l        |\n",
       "     |        Pribadi        |       5-7 tahun        |           Tidak        |\n",
       "     +-------------------------------------------------------------------------+\n",
       "\n",
       "     +-------------------------------------------------------------------------+\n",
       "  3. | usia  |        jk  |  status~h  |               alamat_ja  |  alamat~w  |\n",
       "     |   35  | Laki-laki  |   Menikah  |    Jl. Sederhana No. 29  |     04/10  |\n",
       "     |---------------------------------+---------------------------------------|\n",
       "     |     alamat_kel  |   alamat_kec  |           alamat_kabkota  |  kodepos  |\n",
       "     |        Pasteur  |     Sukajadi  |             Kota Bandung  |        .  |\n",
       "     |-------------------------------------------------------------------------|\n",
       "     |   pendid~n   |   jml_mo~r   |   jml_mo~l   |   jml_se~a   |   jml_art   |\n",
       "     |    SMA/SMK   |          1   |          0   |          1   |         3   |\n",
       "     |-------------------------------------------------------------------------|\n",
       "     |           posisi_rt |     penghasilan_pribadi |    penghasilan_keluarga |\n",
       "     | Kepala rumah tangga | Rp3.000.000-Rp3.999.999 | Rp5.000.000-Rp5.999.999 |\n",
       "     |-------------------------------------------------------------------------|\n",
       "     |            pekerjaan_selain  |              platform  |     jam_online  |\n",
       "     |                   Tidak ada  |                 Gojek  | Di atas 10 jam  |\n",
       "     |-------------------------------------------------------------------------|\n",
       "     |       status~n        |       lama_dr~r        |        ojek_k~l        |\n",
       "     |        Pribadi        |       5-7 tahun        |           Tidak        |\n",
       "     +-------------------------------------------------------------------------+\n",
       "\n",
       "     +-------------------------------------------------------------------------+\n",
       "  4. | usia  |        jk  |  status~h  |               alamat_ja  |  alamat~w  |\n",
       "     |   70  | Laki-laki  |   Menikah  |  Jl. Gegerkalong Girang  |     02/01  |\n",
       "     |---------------------------------+---------------------------------------|\n",
       "     |     alamat_kel  |   alamat_kec  |           alamat_kabkota  |  kodepos  |\n",
       "     |    Gegerkalong  |     Sukasari  |             Kota Bandung  |        .  |\n",
       "     |-------------------------------------------------------------------------|\n",
       "     |   pendid~n   |   jml_mo~r   |   jml_mo~l   |   jml_se~a   |   jml_art   |\n",
       "     |        SMP   |          1   |          0   |          0   |         2   |\n",
       "     |-------------------------------------------------------------------------|\n",
       "     |           posisi_rt |     penghasilan_pribadi |    penghasilan_keluarga |\n",
       "     | Kepala rumah tangga | Rp3.000.000-Rp3.999.999 | Rp3.000.000-Rp3.999.999 |\n",
       "     |-------------------------------------------------------------------------|\n",
       "     |            pekerjaan_selain  |              platform  |     jam_online  |\n",
       "     |                   Tidak ada  |                 Gojek  |       8-10 jam  |\n",
       "     |-------------------------------------------------------------------------|\n",
       "     |       status~n        |       lama_dr~r        |        ojek_k~l        |\n",
       "     |        Pribadi        |       5-7 tahun        |              Ya        |\n",
       "     +-------------------------------------------------------------------------+\n",
       "\n",
       "     +-------------------------------------------------------------------------+\n",
       "  5. | usia  |        jk  |  status~h  |               alamat_ja  |  alamat~w  |\n",
       "     |   41  | Laki-laki  |   Menikah  |       Jl. Sersan Bajuri  |     03/07  |\n",
       "     |---------------------------------+---------------------------------------|\n",
       "     |     alamat_kel  |   alamat_kec  |           alamat_kabkota  |  kodepos  |\n",
       "     |      Cihideung  |   Parongpong  |  Kabupaten Bandung Barat  |        .  |\n",
       "     |-------------------------------------------------------------------------|\n",
       "     |   pendid~n   |   jml_mo~r   |   jml_mo~l   |   jml_se~a   |   jml_art   |\n",
       "     |        SMP   |          1   |          0   |          0   |         4   |\n",
       "     |-------------------------------------------------------------------------|\n",
       "     |           posisi_rt |     penghasilan_pribadi |    penghasilan_keluarga |\n",
       "     | Kepala rumah tangga | Rp3.000.000-Rp3.999.999 | Rp3.000.000-Rp3.999.999 |\n",
       "     |-------------------------------------------------------------------------|\n",
       "     |            pekerjaan_selain  |              platform  |     jam_online  |\n",
       "     |                   Tidak ada  |                 Gojek  | Di atas 10 jam  |\n",
       "     |-------------------------------------------------------------------------|\n",
       "     |       status~n        |       lama_dr~r        |        ojek_k~l        |\n",
       "     |        Pribadi        |       7-9 tahun        |              Ya        |\n",
       "     +-------------------------------------------------------------------------+\n",
       "\n"
      ]
     },
     "metadata": {},
     "output_type": "display_data"
    }
   ],
   "source": [
    "%head 5"
   ]
  },
  {
   "cell_type": "code",
   "execution_count": 26,
   "id": "2147a056-4969-4785-8b3c-75d3d8a0834a",
   "metadata": {
    "tags": []
   },
   "outputs": [
    {
     "name": "stdout",
     "output_type": "stream",
     "text": [
      "\n",
      "    Variable |        Obs        Mean    Std. dev.       Min        Max\n",
      "-------------+---------------------------------------------------------\n",
      "        usia |         14    41.21429    11.90461         26         70\n",
      "     jml_art |         14    3.642857    1.215739          2          7\n"
     ]
    }
   ],
   "source": [
    "summarize usia jml_art"
   ]
  },
  {
   "cell_type": "markdown",
   "id": "6b439b8c-b4b0-4993-970d-041c9e0d9ba1",
   "metadata": {},
   "source": [
    "Untuk mendapatkan informasi data kontinyu yang lebih detail, dapat menggunakan option `detail` setelah paket perintah `summarize`. Option ini menambahkan informasi perhitungan data kontinyu sebagai berikut.\n",
    "\n",
    "* Persentil (termasuk median pada 50% persentil)\n",
    "* Variansi\n",
    "* Skewness\n",
    "* Kurtosis\n",
    "\n",
    "*Catatan: Bagian ini akan dibahas lebih lanjut pada praktiku berikutnya*"
   ]
  },
  {
   "cell_type": "code",
   "execution_count": 27,
   "id": "10f54619-7d94-4089-91ba-257458eabee5",
   "metadata": {
    "tags": []
   },
   "outputs": [
    {
     "name": "stdout",
     "output_type": "stream",
     "text": [
      "\n",
      "                            usia\n",
      "-------------------------------------------------------------\n",
      "      Percentiles      Smallest\n",
      " 1%           26             26\n",
      " 5%           26             30\n",
      "10%           30             31       Obs                  14\n",
      "25%           31             31       Sum of wgt.          14\n",
      "\n",
      "50%         38.5                      Mean           41.21429\n",
      "                        Largest       Std. dev.      11.90461\n",
      "75%           47             47\n",
      "90%           55             52       Variance       141.7198\n",
      "95%           70             55       Skewness       .9646913\n",
      "99%           70             70       Kurtosis       3.430499\n",
      "\n",
      "                           jml_art\n",
      "-------------------------------------------------------------\n",
      "      Percentiles      Smallest\n",
      " 1%            2              2\n",
      " 5%            2              3\n",
      "10%            3              3       Obs                  14\n",
      "25%            3              3       Sum of wgt.          14\n",
      "\n",
      "50%            3                      Mean           3.642857\n",
      "                        Largest       Std. dev.      1.215739\n",
      "75%            4              4\n",
      "90%            5              4       Variance       1.478022\n",
      "95%            7              5       Skewness       1.520424\n",
      "99%            7              7       Kurtosis       5.269482\n"
     ]
    }
   ],
   "source": [
    "summarize usia jml_art, detail"
   ]
  },
  {
   "cell_type": "markdown",
   "id": "306346d8-637d-4bd7-9c97-603f83a21ba1",
   "metadata": {},
   "source": [
    "**tabulate**: berfungsi untuk menghitung frekuensi setiap nilai dari tabel. Biasanya untuk data kategorikal.\n",
    "\n",
    "Apabila variabel sudah berlabel (akan dibahas dibagian berikutnya), gunakan option `nolabel` untuk menampilkan makna numerik pada datanya."
   ]
  },
  {
   "cell_type": "code",
   "execution_count": 28,
   "id": "52c2a9c9-3f91-4fd1-b02a-bde655c9f981",
   "metadata": {
    "tags": []
   },
   "outputs": [
    {
     "name": "stdout",
     "output_type": "stream",
     "text": [
      "\n",
      "     penghasilan_pribadi |      Freq.     Percent        Cum.\n",
      "-------------------------+-----------------------------------\n",
      "    Di bawah Rp1.000.000 |          1        7.14        7.14\n",
      "Rp1.000.000-Rp.1.999.999 |          1        7.14       14.29\n",
      " Rp2.000.000-Rp2.999.999 |          3       21.43       35.71\n",
      " Rp3.000.000-Rp3.999.999 |          5       35.71       71.43\n",
      " Rp4.000.000-Rp4.999.999 |          3       21.43       92.86\n",
      " Rp5.000.000-Rp5.999.999 |          1        7.14      100.00\n",
      "-------------------------+-----------------------------------\n",
      "                   Total |         14      100.00\n"
     ]
    }
   ],
   "source": [
    "tabulate penghasilan_pribadi"
   ]
  },
  {
   "cell_type": "markdown",
   "id": "efea1ffc-ce69-43ac-9f6a-110f4daff9ff",
   "metadata": {},
   "source": [
    "Tabulate juga dapat menghitung frekuensio dua variabel (two-way tabulations). Gunakan `row` atau `col` untuk opsi persentase nilainya (biasanya untuk data yang digunakan saat ini adalah row percentage). Berikut adalah contohnya.   "
   ]
  },
  {
   "cell_type": "code",
   "execution_count": 29,
   "id": "04d2f3b1-a74b-454f-932c-93e4f30af022",
   "metadata": {
    "tags": []
   },
   "outputs": [
    {
     "name": "stdout",
     "output_type": "stream",
     "text": [
      "\n",
      "+----------------+\n",
      "| Key            |\n",
      "|----------------|\n",
      "|   frequency    |\n",
      "| row percentage |\n",
      "+----------------+\n",
      "\n",
      "           |                  penghasilan_pribadi\n",
      "        jk | Di bawa..  Rp1.000..  Rp2.000..  Rp3.000..  Rp4.000.. |     Total\n",
      "-----------+-------------------------------------------------------+----------\n",
      " Laki-laki |         1          1          2          5          3 |        13 \n",
      "           |      7.69       7.69      15.38      38.46      23.08 |    100.00 \n",
      "-----------+-------------------------------------------------------+----------\n",
      " Perempuan |         0          0          1          0          0 |         1 \n",
      "           |      0.00       0.00     100.00       0.00       0.00 |    100.00 \n",
      "-----------+-------------------------------------------------------+----------\n",
      "     Total |         1          1          3          5          3 |        14 \n",
      "           |      7.14       7.14      21.43      35.71      21.43 |    100.00 \n",
      "\n",
      "\n",
      "           | penghasila\n",
      "           | n_pribadi\n",
      "        jk | Rp5.000.. |     Total\n",
      "-----------+-----------+----------\n",
      " Laki-laki |         1 |        13 \n",
      "           |      7.69 |    100.00 \n",
      "-----------+-----------+----------\n",
      " Perempuan |         0 |         1 \n",
      "           |      0.00 |    100.00 \n",
      "-----------+-----------+----------\n",
      "     Total |         1 |        14 \n",
      "           |      7.14 |    100.00 \n"
     ]
    }
   ],
   "source": [
    "tab jk penghasilan_pribadi, row"
   ]
  },
  {
   "cell_type": "code",
   "execution_count": 30,
   "id": "31cb341f-e139-4f70-b3ef-39774531c4be",
   "metadata": {
    "tags": []
   },
   "outputs": [
    {
     "name": "stdout",
     "output_type": "stream",
     "text": [
      "\n",
      "+-------------------+\n",
      "| Key               |\n",
      "|-------------------|\n",
      "|     frequency     |\n",
      "| column percentage |\n",
      "+-------------------+\n",
      "\n",
      "           |                  penghasilan_pribadi\n",
      "        jk | Di bawa..  Rp1.000..  Rp2.000..  Rp3.000..  Rp4.000.. |     Total\n",
      "-----------+-------------------------------------------------------+----------\n",
      " Laki-laki |         1          1          2          5          3 |        13 \n",
      "           |    100.00     100.00      66.67     100.00     100.00 |     92.86 \n",
      "-----------+-------------------------------------------------------+----------\n",
      " Perempuan |         0          0          1          0          0 |         1 \n",
      "           |      0.00       0.00      33.33       0.00       0.00 |      7.14 \n",
      "-----------+-------------------------------------------------------+----------\n",
      "     Total |         1          1          3          5          3 |        14 \n",
      "           |    100.00     100.00     100.00     100.00     100.00 |    100.00 \n",
      "\n",
      "\n",
      "           | penghasila\n",
      "           | n_pribadi\n",
      "        jk | Rp5.000.. |     Total\n",
      "-----------+-----------+----------\n",
      " Laki-laki |         1 |        13 \n",
      "           |    100.00 |     92.86 \n",
      "-----------+-----------+----------\n",
      " Perempuan |         0 |         1 \n",
      "           |      0.00 |      7.14 \n",
      "-----------+-----------+----------\n",
      "     Total |         1 |        14 \n",
      "           |    100.00 |    100.00 \n"
     ]
    }
   ],
   "source": [
    "tab jk penghasilan_pribadi, col "
   ]
  },
  {
   "cell_type": "markdown",
   "id": "05941812-18d9-48af-952d-5adbebe1ae7a",
   "metadata": {},
   "source": [
    "**Ada yang tahu apa perbedaannya?**"
   ]
  },
  {
   "cell_type": "markdown",
   "id": "2cd6a8fc-97b9-4431-a590-c6c6bd1ca52c",
   "metadata": {
    "tags": []
   },
   "source": [
    "## Data Management"
   ]
  },
  {
   "cell_type": "markdown",
   "id": "772e8037-b098-422c-adc0-7670c64299e0",
   "metadata": {},
   "source": [
    "### Creating, transforming, labeling variables"
   ]
  },
  {
   "cell_type": "markdown",
   "id": "8dc4624f-2762-467a-a1f2-f5bb761b3368",
   "metadata": {},
   "source": [
    "#### Membuat variabel"
   ]
  },
  {
   "cell_type": "markdown",
   "id": "16976c35-bb08-48e1-bb06-1e489a5f60df",
   "metadata": {},
   "source": [
    "Meskipun sudah memiliki data baik dari .dta, .csv, ataupun excel, dalam proses analisis, pembuatan variabel secara manual sangat sering dibutuhkan. Contohnya adalah saat membuat variabel baru yang menampung operasi matematika dari variabel lain.\n",
    "\n",
    "Command yang digunakan untuk membuat variabel adalah `generate`.\n",
    "\n",
    "Berikut adalah contoh penggunaannya dalam menjumlahkan seluruh jenis kendaraan"
   ]
  },
  {
   "cell_type": "code",
   "execution_count": 58,
   "id": "cd0122ad-60e0-4464-ab81-1f9c897a3cf3",
   "metadata": {
    "tags": []
   },
   "outputs": [],
   "source": [
    "use \"data/data_sosdem.dta\", clear"
   ]
  },
  {
   "cell_type": "code",
   "execution_count": 59,
   "id": "b9df83ce-1e0e-4d2c-9fc6-29650dd1d6ed",
   "metadata": {
    "tags": []
   },
   "outputs": [
    {
     "name": "stdout",
     "output_type": "stream",
     "text": [
      "(9 missing values generated)\n"
     ]
    }
   ],
   "source": [
    "generate total_kendaraan = jml_motor + jml_mobil + jml_sepeda"
   ]
  },
  {
   "cell_type": "code",
   "execution_count": 60,
   "id": "189e0fbf-7fce-4341-91b9-486cfc32dfe8",
   "metadata": {
    "tags": []
   },
   "outputs": [
    {
     "name": "stdout",
     "output_type": "stream",
     "text": [
      "\n",
      "    Variable |        Obs        Mean    Std. dev.       Min        Max\n",
      "-------------+---------------------------------------------------------\n",
      "total_kend~n |          5         2.4    .5477226          2          3\n",
      "   jml_motor |         14    1.214286    .4258153          1          2\n",
      "   jml_mobil |         14           0           0          0          0\n",
      "  jml_sepeda |          5           1           0          1          1\n"
     ]
    }
   ],
   "source": [
    "summarize total_kendaraan jml_motor jml_mobil jml_sepeda"
   ]
  },
  {
   "cell_type": "markdown",
   "id": "a53afebe-b063-4fa1-898a-71cd3303443a",
   "metadata": {},
   "source": [
    "Apabila input variabel merupakan data missing values, maka hasilnya pun akan missing values. Hal ini terlihat dari jumlah observasi total_kendaraan yang hanya 5, sama dengan jumlah sepeda. **Apa itu missing values?**"
   ]
  },
  {
   "cell_type": "markdown",
   "id": "f588a58e-7a04-418c-b136-6b11ee244af8",
   "metadata": {},
   "source": [
    "#### Missing values pada Stata"
   ]
  },
  {
   "cell_type": "markdown",
   "id": "9644d5e8-25e0-48dc-a512-5a6e1eb098d1",
   "metadata": {},
   "source": [
    "Missing values adalah sesuatu nilai pada variabel yang tidak terdefinisi. Dalam stata biasanya nilai ini ditandai dengan `.`"
   ]
  },
  {
   "cell_type": "markdown",
   "id": "eed813ed-a6e6-45fe-a180-a30ae8054458",
   "metadata": {},
   "source": [
    "Untuk data string, missing values ditandai dengan tanda `\"\"` (empty quotes)"
   ]
  },
  {
   "cell_type": "markdown",
   "id": "0722a98c-64c7-44af-95bc-c153e5ef2208",
   "metadata": {},
   "source": [
    "Missing values sangat penting untuk diidentifikasi karena akan berpengaruh terhadap kualitas analisis yang akan dilakukan (meminalisasi bias, meningkatkan kualitas model statistik, mencegah kesalahan interpretasi, dll). Praktikan diharapkan bisa mencari lebih lanjut terkait missing values ini."
   ]
  },
  {
   "cell_type": "markdown",
   "id": "b2347a6d-c40e-4c78-8d8d-7fe46306409d",
   "metadata": {},
   "source": [
    "Maka dari itu, missing values bisa dicek dengan melakukan selection data by condition apakah data sama dengan `.` untuk non-string dan `\"\"` untuk data string. Selain itu, fungsi `missing()` juga bisa digunakan."
   ]
  },
  {
   "cell_type": "code",
   "execution_count": 61,
   "id": "1281546a-34c6-4db3-a637-445abd95b8b9",
   "metadata": {
    "tags": []
   },
   "outputs": [
    {
     "data": {
      "text/html": [
       "<div>\n",
       "<style scoped>\n",
       "    .dataframe tbody tr th:only-of-type {\n",
       "        vertical-align: middle;\n",
       "    }\n",
       "\n",
       "    .dataframe tbody tr th {\n",
       "        vertical-align: top;\n",
       "    }\n",
       "\n",
       "    .dataframe thead th {\n",
       "        text-align: right;\n",
       "    }\n",
       "</style>\n",
       "<table border=\"1\" class=\"dataframe\">\n",
       "  <thead>\n",
       "    <tr style=\"text-align: right;\">\n",
       "      <th></th>\n",
       "      <th>total_kendaraan</th>\n",
       "      <th>jml_motor</th>\n",
       "      <th>jml_mobil</th>\n",
       "      <th>jml_sepeda</th>\n",
       "    </tr>\n",
       "  </thead>\n",
       "  <tbody>\n",
       "    <tr>\n",
       "      <th>1</th>\n",
       "      <td>.</td>\n",
       "      <td>1</td>\n",
       "      <td>0</td>\n",
       "      <td>.</td>\n",
       "    </tr>\n",
       "    <tr>\n",
       "      <th>2</th>\n",
       "      <td>.</td>\n",
       "      <td>1</td>\n",
       "      <td>0</td>\n",
       "      <td>.</td>\n",
       "    </tr>\n",
       "    <tr>\n",
       "      <th>4</th>\n",
       "      <td>.</td>\n",
       "      <td>1</td>\n",
       "      <td>0</td>\n",
       "      <td>.</td>\n",
       "    </tr>\n",
       "    <tr>\n",
       "      <th>5</th>\n",
       "      <td>.</td>\n",
       "      <td>1</td>\n",
       "      <td>0</td>\n",
       "      <td>.</td>\n",
       "    </tr>\n",
       "    <tr>\n",
       "      <th>6</th>\n",
       "      <td>.</td>\n",
       "      <td>2</td>\n",
       "      <td>0</td>\n",
       "      <td>.</td>\n",
       "    </tr>\n",
       "    <tr>\n",
       "      <th>7</th>\n",
       "      <td>.</td>\n",
       "      <td>1</td>\n",
       "      <td>0</td>\n",
       "      <td>.</td>\n",
       "    </tr>\n",
       "    <tr>\n",
       "      <th>8</th>\n",
       "      <td>.</td>\n",
       "      <td>1</td>\n",
       "      <td>0</td>\n",
       "      <td>.</td>\n",
       "    </tr>\n",
       "    <tr>\n",
       "      <th>12</th>\n",
       "      <td>.</td>\n",
       "      <td>1</td>\n",
       "      <td>0</td>\n",
       "      <td>.</td>\n",
       "    </tr>\n",
       "    <tr>\n",
       "      <th>13</th>\n",
       "      <td>.</td>\n",
       "      <td>1</td>\n",
       "      <td>0</td>\n",
       "      <td>.</td>\n",
       "    </tr>\n",
       "  </tbody>\n",
       "</table>\n",
       "</div>"
      ],
      "text/plain": [
       "\n",
       "     +-------------------------------------------+\n",
       "     | total_~n   jml_mo~r   jml_mo~l   jml_se~a |\n",
       "     |-------------------------------------------|\n",
       "  1. |        .          1          0          . |\n",
       "  2. |        .          1          0          . |\n",
       "  4. |        .          1          0          . |\n",
       "  5. |        .          1          0          . |\n",
       "  6. |        .          2          0          . |\n",
       "     |-------------------------------------------|\n",
       "  7. |        .          1          0          . |\n",
       "  8. |        .          1          0          . |\n",
       " 12. |        .          1          0          . |\n",
       " 13. |        .          1          0          . |\n",
       "     +-------------------------------------------+\n",
       "\n"
      ]
     },
     "metadata": {},
     "output_type": "display_data"
    }
   ],
   "source": [
    "%browse total_kendaraan jml_motor jml_mobil jml_sepeda if total_kendaraan == ."
   ]
  },
  {
   "cell_type": "code",
   "execution_count": 62,
   "id": "e83dfb5a-9c70-4e7a-86a8-97b2d932a399",
   "metadata": {
    "tags": []
   },
   "outputs": [
    {
     "data": {
      "text/html": [
       "<div>\n",
       "<style scoped>\n",
       "    .dataframe tbody tr th:only-of-type {\n",
       "        vertical-align: middle;\n",
       "    }\n",
       "\n",
       "    .dataframe tbody tr th {\n",
       "        vertical-align: top;\n",
       "    }\n",
       "\n",
       "    .dataframe thead th {\n",
       "        text-align: right;\n",
       "    }\n",
       "</style>\n",
       "<table border=\"1\" class=\"dataframe\">\n",
       "  <thead>\n",
       "    <tr style=\"text-align: right;\">\n",
       "      <th></th>\n",
       "      <th>total_kendaraan</th>\n",
       "      <th>jml_motor</th>\n",
       "      <th>jml_mobil</th>\n",
       "      <th>jml_sepeda</th>\n",
       "    </tr>\n",
       "  </thead>\n",
       "  <tbody>\n",
       "    <tr>\n",
       "      <th>1</th>\n",
       "      <td>.</td>\n",
       "      <td>1</td>\n",
       "      <td>0</td>\n",
       "      <td>.</td>\n",
       "    </tr>\n",
       "    <tr>\n",
       "      <th>2</th>\n",
       "      <td>.</td>\n",
       "      <td>1</td>\n",
       "      <td>0</td>\n",
       "      <td>.</td>\n",
       "    </tr>\n",
       "    <tr>\n",
       "      <th>4</th>\n",
       "      <td>.</td>\n",
       "      <td>1</td>\n",
       "      <td>0</td>\n",
       "      <td>.</td>\n",
       "    </tr>\n",
       "    <tr>\n",
       "      <th>5</th>\n",
       "      <td>.</td>\n",
       "      <td>1</td>\n",
       "      <td>0</td>\n",
       "      <td>.</td>\n",
       "    </tr>\n",
       "    <tr>\n",
       "      <th>6</th>\n",
       "      <td>.</td>\n",
       "      <td>2</td>\n",
       "      <td>0</td>\n",
       "      <td>.</td>\n",
       "    </tr>\n",
       "    <tr>\n",
       "      <th>7</th>\n",
       "      <td>.</td>\n",
       "      <td>1</td>\n",
       "      <td>0</td>\n",
       "      <td>.</td>\n",
       "    </tr>\n",
       "    <tr>\n",
       "      <th>8</th>\n",
       "      <td>.</td>\n",
       "      <td>1</td>\n",
       "      <td>0</td>\n",
       "      <td>.</td>\n",
       "    </tr>\n",
       "    <tr>\n",
       "      <th>12</th>\n",
       "      <td>.</td>\n",
       "      <td>1</td>\n",
       "      <td>0</td>\n",
       "      <td>.</td>\n",
       "    </tr>\n",
       "    <tr>\n",
       "      <th>13</th>\n",
       "      <td>.</td>\n",
       "      <td>1</td>\n",
       "      <td>0</td>\n",
       "      <td>.</td>\n",
       "    </tr>\n",
       "  </tbody>\n",
       "</table>\n",
       "</div>"
      ],
      "text/plain": [
       "\n",
       "     +-------------------------------------------+\n",
       "     | total_~n   jml_mo~r   jml_mo~l   jml_se~a |\n",
       "     |-------------------------------------------|\n",
       "  1. |        .          1          0          . |\n",
       "  2. |        .          1          0          . |\n",
       "  4. |        .          1          0          . |\n",
       "  5. |        .          1          0          . |\n",
       "  6. |        .          2          0          . |\n",
       "     |-------------------------------------------|\n",
       "  7. |        .          1          0          . |\n",
       "  8. |        .          1          0          . |\n",
       " 12. |        .          1          0          . |\n",
       " 13. |        .          1          0          . |\n",
       "     +-------------------------------------------+\n",
       "\n"
      ]
     },
     "metadata": {},
     "output_type": "display_data"
    }
   ],
   "source": [
    "%browse total_kendaraan jml_motor jml_mobil jml_sepeda if missing(total_kendaraan)"
   ]
  },
  {
   "cell_type": "markdown",
   "id": "010e1517-bce4-419b-9fae-5b6799f9976d",
   "metadata": {},
   "source": [
    "#### Replacing values"
   ]
  },
  {
   "cell_type": "markdown",
   "id": "2f3451fa-23ee-4b4d-bfa3-99a7fa3f882b",
   "metadata": {},
   "source": [
    "Setelah mengetahui cara untuk menemukan data missing values, mengisi atau mengganti data missing tersebut dengan nilai baru menjadi langkah selanjutnya."
   ]
  },
  {
   "cell_type": "markdown",
   "id": "05c1d2b0-c519-496b-b9a3-7a5a57528dcf",
   "metadata": {},
   "source": [
    "Perintah yang digunakan untuk mengganti nilai pada variabel adalah `replace`. Biasanya dikombinasikan dengan `if` untuk melakukan replacing pada kondisi tertentu."
   ]
  },
  {
   "cell_type": "code",
   "execution_count": 63,
   "id": "ca17b98c-c756-4bb7-95f8-cc993c31e98e",
   "metadata": {
    "tags": []
   },
   "outputs": [
    {
     "name": "stdout",
     "output_type": "stream",
     "text": [
      "(9 real changes made)\n"
     ]
    }
   ],
   "source": [
    "replace total_kendaraan = jml_motor + jml_mobil if missing(total_kendaraan)"
   ]
  },
  {
   "cell_type": "code",
   "execution_count": 64,
   "id": "6f451c8d-66cf-4c54-879b-cad9a2bc55cb",
   "metadata": {
    "tags": []
   },
   "outputs": [
    {
     "name": "stdout",
     "output_type": "stream",
     "text": [
      "\n",
      "    Variable |        Obs        Mean    Std. dev.       Min        Max\n",
      "-------------+---------------------------------------------------------\n",
      "total_kend~n |         14    1.571429    .7559289          1          3\n",
      "   jml_motor |         14    1.214286    .4258153          1          2\n",
      "   jml_mobil |         14           0           0          0          0\n",
      "  jml_sepeda |          5           1           0          1          1\n"
     ]
    }
   ],
   "source": [
    "summarize total_kendaraan jml_motor jml_mobil jml_sepeda"
   ]
  },
  {
   "cell_type": "markdown",
   "id": "bba07ef2-8648-476b-a197-ed6442d64ec2",
   "metadata": {
    "tags": []
   },
   "source": [
    "Terlihat total kendaraan saat ini memiliki 14 observasi, sesuai dengan jumlah observasi data secara keseluruhan. Hal ini terjadi karena nilai jumlah sepeda yang missing value dianggap tidak ada atau 0 dengan langsung menjumlahkan nilai jumlah motor dan mobil."
   ]
  },
  {
   "cell_type": "markdown",
   "id": "a8f11061-09fc-4e0d-8f6d-f4f299fc08bb",
   "metadata": {},
   "source": [
    "#### Renaming and recoding variables"
   ]
  },
  {
   "cell_type": "markdown",
   "id": "f0a18590-ea0c-4015-9222-c726b408a694",
   "metadata": {},
   "source": [
    "Selain mengubah nilai melalui replace, kita juga dapat melakukannya melalui `recode`. Recode mengubah nilai berdasarkan set nilai lama dan baru. Selain recode, stata juga dapat mengubah nama variabel dengan menggunakan `rename`. Berikut adalah contoh penggunaan `rename` dan `recode` dalam kasus data jenis kelamin."
   ]
  },
  {
   "cell_type": "code",
   "execution_count": 65,
   "id": "31845478-c3ac-4490-b4e8-37eafa2d0745",
   "metadata": {
    "tags": []
   },
   "outputs": [
    {
     "data": {
      "text/html": [
       "<div>\n",
       "<style scoped>\n",
       "    .dataframe tbody tr th:only-of-type {\n",
       "        vertical-align: middle;\n",
       "    }\n",
       "\n",
       "    .dataframe tbody tr th {\n",
       "        vertical-align: top;\n",
       "    }\n",
       "\n",
       "    .dataframe thead th {\n",
       "        text-align: right;\n",
       "    }\n",
       "</style>\n",
       "<table border=\"1\" class=\"dataframe\">\n",
       "  <thead>\n",
       "    <tr style=\"text-align: right;\">\n",
       "      <th></th>\n",
       "      <th>usia</th>\n",
       "      <th>jk</th>\n",
       "      <th>status_nikah</th>\n",
       "      <th>alamat_ja</th>\n",
       "      <th>alamat_rt_rw</th>\n",
       "      <th>alamat_kel</th>\n",
       "      <th>alamat_kec</th>\n",
       "      <th>alamat_kabkota</th>\n",
       "      <th>kodepos</th>\n",
       "      <th>pendidikan</th>\n",
       "      <th>jml_motor</th>\n",
       "      <th>jml_mobil</th>\n",
       "      <th>jml_sepeda</th>\n",
       "      <th>jml_art</th>\n",
       "      <th>posisi_rt</th>\n",
       "      <th>penghasilan_pribadi</th>\n",
       "      <th>penghasilan_keluarga</th>\n",
       "      <th>pekerjaan_selain</th>\n",
       "      <th>platform</th>\n",
       "      <th>jam_online</th>\n",
       "      <th>status_kendaraan</th>\n",
       "      <th>lama_driver</th>\n",
       "      <th>ojek_konvensional</th>\n",
       "      <th>total_kendaraan</th>\n",
       "    </tr>\n",
       "  </thead>\n",
       "  <tbody>\n",
       "    <tr>\n",
       "      <th>1</th>\n",
       "      <td>26</td>\n",
       "      <td>1</td>\n",
       "      <td>Menikah</td>\n",
       "      <td>Jl. Cihanjuang</td>\n",
       "      <td>03/18</td>\n",
       "      <td>Cibabat</td>\n",
       "      <td>Cimahi Utara</td>\n",
       "      <td>Kota Cimahi</td>\n",
       "      <td>.</td>\n",
       "      <td>SMA/SMK</td>\n",
       "      <td>1</td>\n",
       "      <td>0</td>\n",
       "      <td>.</td>\n",
       "      <td>3</td>\n",
       "      <td>Kepala rumah tangga</td>\n",
       "      <td>Rp5.000.000-Rp5.999.999</td>\n",
       "      <td>Rp5.000.000-Rp5.999.999</td>\n",
       "      <td>Karyawan Swasta (Full-time)</td>\n",
       "      <td>Gojek, Grab, Indriver</td>\n",
       "      <td>2-4 jam</td>\n",
       "      <td>Pribadi</td>\n",
       "      <td>1-3 tahun</td>\n",
       "      <td>Tidak</td>\n",
       "      <td>1</td>\n",
       "    </tr>\n",
       "    <tr>\n",
       "      <th>2</th>\n",
       "      <td>52</td>\n",
       "      <td>1</td>\n",
       "      <td>Menikah</td>\n",
       "      <td>Jalan A.H. Nasution</td>\n",
       "      <td>02/02</td>\n",
       "      <td>Cipadung Wetan</td>\n",
       "      <td>Panyileukan</td>\n",
       "      <td>Kota Bandung</td>\n",
       "      <td>.</td>\n",
       "      <td>SMA/SMK</td>\n",
       "      <td>1</td>\n",
       "      <td>0</td>\n",
       "      <td>.</td>\n",
       "      <td>4</td>\n",
       "      <td>Kepala rumah tangga</td>\n",
       "      <td>Rp4.000.000-Rp4.999.999</td>\n",
       "      <td>Rp5.000.000-Rp5.999.999</td>\n",
       "      <td>Wirausahawan</td>\n",
       "      <td>Gojek, Grab</td>\n",
       "      <td>8-10 jam</td>\n",
       "      <td>Pribadi</td>\n",
       "      <td>5-7 tahun</td>\n",
       "      <td>Tidak</td>\n",
       "      <td>1</td>\n",
       "    </tr>\n",
       "    <tr>\n",
       "      <th>3</th>\n",
       "      <td>35</td>\n",
       "      <td>1</td>\n",
       "      <td>Menikah</td>\n",
       "      <td>Jl. Sederhana No. 29</td>\n",
       "      <td>04/10</td>\n",
       "      <td>Pasteur</td>\n",
       "      <td>Sukajadi</td>\n",
       "      <td>Kota Bandung</td>\n",
       "      <td>.</td>\n",
       "      <td>SMA/SMK</td>\n",
       "      <td>1</td>\n",
       "      <td>0</td>\n",
       "      <td>1</td>\n",
       "      <td>3</td>\n",
       "      <td>Kepala rumah tangga</td>\n",
       "      <td>Rp3.000.000-Rp3.999.999</td>\n",
       "      <td>Rp5.000.000-Rp5.999.999</td>\n",
       "      <td>Tidak ada</td>\n",
       "      <td>Gojek</td>\n",
       "      <td>Di atas 10 jam</td>\n",
       "      <td>Pribadi</td>\n",
       "      <td>5-7 tahun</td>\n",
       "      <td>Tidak</td>\n",
       "      <td>2</td>\n",
       "    </tr>\n",
       "    <tr>\n",
       "      <th>4</th>\n",
       "      <td>70</td>\n",
       "      <td>1</td>\n",
       "      <td>Menikah</td>\n",
       "      <td>Jl. Gegerkalong Girang</td>\n",
       "      <td>02/01</td>\n",
       "      <td>Gegerkalong</td>\n",
       "      <td>Sukasari</td>\n",
       "      <td>Kota Bandung</td>\n",
       "      <td>.</td>\n",
       "      <td>SMP</td>\n",
       "      <td>1</td>\n",
       "      <td>0</td>\n",
       "      <td>.</td>\n",
       "      <td>2</td>\n",
       "      <td>Kepala rumah tangga</td>\n",
       "      <td>Rp3.000.000-Rp3.999.999</td>\n",
       "      <td>Rp3.000.000-Rp3.999.999</td>\n",
       "      <td>Tidak ada</td>\n",
       "      <td>Gojek</td>\n",
       "      <td>8-10 jam</td>\n",
       "      <td>Pribadi</td>\n",
       "      <td>5-7 tahun</td>\n",
       "      <td>Ya</td>\n",
       "      <td>1</td>\n",
       "    </tr>\n",
       "    <tr>\n",
       "      <th>5</th>\n",
       "      <td>41</td>\n",
       "      <td>1</td>\n",
       "      <td>Menikah</td>\n",
       "      <td>Jl. Sersan Bajuri</td>\n",
       "      <td>03/07</td>\n",
       "      <td>Cihideung</td>\n",
       "      <td>Parongpong</td>\n",
       "      <td>Kabupaten Bandung Barat</td>\n",
       "      <td>.</td>\n",
       "      <td>SMP</td>\n",
       "      <td>1</td>\n",
       "      <td>0</td>\n",
       "      <td>.</td>\n",
       "      <td>4</td>\n",
       "      <td>Kepala rumah tangga</td>\n",
       "      <td>Rp3.000.000-Rp3.999.999</td>\n",
       "      <td>Rp3.000.000-Rp3.999.999</td>\n",
       "      <td>Tidak ada</td>\n",
       "      <td>Gojek</td>\n",
       "      <td>Di atas 10 jam</td>\n",
       "      <td>Pribadi</td>\n",
       "      <td>7-9 tahun</td>\n",
       "      <td>Ya</td>\n",
       "      <td>1</td>\n",
       "    </tr>\n",
       "  </tbody>\n",
       "</table>\n",
       "</div>"
      ],
      "text/plain": [
       "\n",
       "     +-------------------------------------------------------------------------+\n",
       "  1. |  usia   |  jk   |  status~h   |               alamat_ja   |  alamat~w   |\n",
       "     |    26   |   1   |   Menikah   |          Jl. Cihanjuang   |     03/18   |\n",
       "     |-----------------+-------------------------------------------------------|\n",
       "     |     alamat_kel  |   alamat_kec  |           alamat_kabkota  |  kodepos  |\n",
       "     |        Cibabat  | Cimahi Utara  |              Kota Cimahi  |        .  |\n",
       "     |-------------------------------------------------------------------------|\n",
       "     |   pendid~n   |   jml_mo~r   |   jml_mo~l   |   jml_se~a   |   jml_art   |\n",
       "     |    SMA/SMK   |          1   |          0   |          .   |         3   |\n",
       "     |-------------------------------------------------------------------------|\n",
       "     |           posisi_rt |     penghasilan_pribadi |    penghasilan_keluarga |\n",
       "     | Kepala rumah tangga | Rp5.000.000-Rp5.999.999 | Rp5.000.000-Rp5.999.999 |\n",
       "     |-------------------------------------------------------------------------|\n",
       "     |            pekerjaan_selain  |              platform  |     jam_online  |\n",
       "     | Karyawan Swasta (Full-time)  | Gojek, Grab, Indriver  |        2-4 jam  |\n",
       "     |-------------------------------------------------------------------------|\n",
       "     |    status~n     |    lama_dr~r     |    ojek_k~l     |     total_~n     |\n",
       "     |     Pribadi     |    1-3 tahun     |       Tidak     |            1     |\n",
       "     +-------------------------------------------------------------------------+\n",
       "\n",
       "     +-------------------------------------------------------------------------+\n",
       "  2. |  usia   |  jk   |  status~h   |               alamat_ja   |  alamat~w   |\n",
       "     |    52   |   1   |   Menikah   |     Jalan A.H. Nasution   |     02/02   |\n",
       "     |-----------------+-------------------------------------------------------|\n",
       "     |     alamat_kel  |   alamat_kec  |           alamat_kabkota  |  kodepos  |\n",
       "     | Cipadung Wetan  |  Panyileukan  |             Kota Bandung  |        .  |\n",
       "     |-------------------------------------------------------------------------|\n",
       "     |   pendid~n   |   jml_mo~r   |   jml_mo~l   |   jml_se~a   |   jml_art   |\n",
       "     |    SMA/SMK   |          1   |          0   |          .   |         4   |\n",
       "     |-------------------------------------------------------------------------|\n",
       "     |           posisi_rt |     penghasilan_pribadi |    penghasilan_keluarga |\n",
       "     | Kepala rumah tangga | Rp4.000.000-Rp4.999.999 | Rp5.000.000-Rp5.999.999 |\n",
       "     |-------------------------------------------------------------------------|\n",
       "     |            pekerjaan_selain  |              platform  |     jam_online  |\n",
       "     |                Wirausahawan  |           Gojek, Grab  |       8-10 jam  |\n",
       "     |-------------------------------------------------------------------------|\n",
       "     |    status~n     |    lama_dr~r     |    ojek_k~l     |     total_~n     |\n",
       "     |     Pribadi     |    5-7 tahun     |       Tidak     |            1     |\n",
       "     +-------------------------------------------------------------------------+\n",
       "\n",
       "     +-------------------------------------------------------------------------+\n",
       "  3. |  usia   |  jk   |  status~h   |               alamat_ja   |  alamat~w   |\n",
       "     |    35   |   1   |   Menikah   |    Jl. Sederhana No. 29   |     04/10   |\n",
       "     |-----------------+-------------------------------------------------------|\n",
       "     |     alamat_kel  |   alamat_kec  |           alamat_kabkota  |  kodepos  |\n",
       "     |        Pasteur  |     Sukajadi  |             Kota Bandung  |        .  |\n",
       "     |-------------------------------------------------------------------------|\n",
       "     |   pendid~n   |   jml_mo~r   |   jml_mo~l   |   jml_se~a   |   jml_art   |\n",
       "     |    SMA/SMK   |          1   |          0   |          1   |         3   |\n",
       "     |-------------------------------------------------------------------------|\n",
       "     |           posisi_rt |     penghasilan_pribadi |    penghasilan_keluarga |\n",
       "     | Kepala rumah tangga | Rp3.000.000-Rp3.999.999 | Rp5.000.000-Rp5.999.999 |\n",
       "     |-------------------------------------------------------------------------|\n",
       "     |            pekerjaan_selain  |              platform  |     jam_online  |\n",
       "     |                   Tidak ada  |                 Gojek  | Di atas 10 jam  |\n",
       "     |-------------------------------------------------------------------------|\n",
       "     |    status~n     |    lama_dr~r     |    ojek_k~l     |     total_~n     |\n",
       "     |     Pribadi     |    5-7 tahun     |       Tidak     |            2     |\n",
       "     +-------------------------------------------------------------------------+\n",
       "\n",
       "     +-------------------------------------------------------------------------+\n",
       "  4. |  usia   |  jk   |  status~h   |               alamat_ja   |  alamat~w   |\n",
       "     |    70   |   1   |   Menikah   |  Jl. Gegerkalong Girang   |     02/01   |\n",
       "     |-----------------+-------------------------------------------------------|\n",
       "     |     alamat_kel  |   alamat_kec  |           alamat_kabkota  |  kodepos  |\n",
       "     |    Gegerkalong  |     Sukasari  |             Kota Bandung  |        .  |\n",
       "     |-------------------------------------------------------------------------|\n",
       "     |   pendid~n   |   jml_mo~r   |   jml_mo~l   |   jml_se~a   |   jml_art   |\n",
       "     |        SMP   |          1   |          0   |          .   |         2   |\n",
       "     |-------------------------------------------------------------------------|\n",
       "     |           posisi_rt |     penghasilan_pribadi |    penghasilan_keluarga |\n",
       "     | Kepala rumah tangga | Rp3.000.000-Rp3.999.999 | Rp3.000.000-Rp3.999.999 |\n",
       "     |-------------------------------------------------------------------------|\n",
       "     |            pekerjaan_selain  |              platform  |     jam_online  |\n",
       "     |                   Tidak ada  |                 Gojek  |       8-10 jam  |\n",
       "     |-------------------------------------------------------------------------|\n",
       "     |    status~n     |    lama_dr~r     |    ojek_k~l     |     total_~n     |\n",
       "     |     Pribadi     |    5-7 tahun     |          Ya     |            1     |\n",
       "     +-------------------------------------------------------------------------+\n",
       "\n",
       "     +-------------------------------------------------------------------------+\n",
       "  5. |  usia   |  jk   |  status~h   |               alamat_ja   |  alamat~w   |\n",
       "     |    41   |   1   |   Menikah   |       Jl. Sersan Bajuri   |     03/07   |\n",
       "     |-----------------+-------------------------------------------------------|\n",
       "     |     alamat_kel  |   alamat_kec  |           alamat_kabkota  |  kodepos  |\n",
       "     |      Cihideung  |   Parongpong  |  Kabupaten Bandung Barat  |        .  |\n",
       "     |-------------------------------------------------------------------------|\n",
       "     |   pendid~n   |   jml_mo~r   |   jml_mo~l   |   jml_se~a   |   jml_art   |\n",
       "     |        SMP   |          1   |          0   |          .   |         4   |\n",
       "     |-------------------------------------------------------------------------|\n",
       "     |           posisi_rt |     penghasilan_pribadi |    penghasilan_keluarga |\n",
       "     | Kepala rumah tangga | Rp3.000.000-Rp3.999.999 | Rp3.000.000-Rp3.999.999 |\n",
       "     |-------------------------------------------------------------------------|\n",
       "     |            pekerjaan_selain  |              platform  |     jam_online  |\n",
       "     |                   Tidak ada  |                 Gojek  | Di atas 10 jam  |\n",
       "     |-------------------------------------------------------------------------|\n",
       "     |    status~n     |    lama_dr~r     |    ojek_k~l     |     total_~n     |\n",
       "     |     Pribadi     |    7-9 tahun     |          Ya     |            1     |\n",
       "     +-------------------------------------------------------------------------+\n",
       "\n"
      ]
     },
     "metadata": {},
     "output_type": "display_data"
    }
   ],
   "source": [
    "%head 5"
   ]
  },
  {
   "cell_type": "markdown",
   "id": "9b4fc7d4-520d-4519-a613-2e5b2d9f29ea",
   "metadata": {},
   "source": [
    "Data jenis kelamin menjelaskan bahwa 1 adalah laki-laki dan 0 adalah perempuan. Pada kasus ini, data ditransformasi dengan mengubah perempuan bernilai 1 dan laki-laki bernilai 0. Lalu, untuk memudahkan dalam membacam nama variabel pun diubah menjadi 'perempuan' untuk menandakan bahwa yang bernilai 1 adalah perempuan."
   ]
  },
  {
   "cell_type": "code",
   "execution_count": 66,
   "id": "55809039-25a0-4147-95dc-c5f9a3dc8e85",
   "metadata": {
    "tags": []
   },
   "outputs": [
    {
     "name": "stdout",
     "output_type": "stream",
     "text": [
      "\n",
      "         jk |      Freq.     Percent        Cum.\n",
      "------------+-----------------------------------\n",
      "          0 |          1        7.14        7.14\n",
      "          1 |         13       92.86      100.00\n",
      "------------+-----------------------------------\n",
      "      Total |         14      100.00\n"
     ]
    }
   ],
   "source": [
    "tabulate jk"
   ]
  },
  {
   "cell_type": "code",
   "execution_count": 67,
   "id": "893d3212-0983-448e-8b72-efd1311585eb",
   "metadata": {
    "tags": []
   },
   "outputs": [],
   "source": [
    "rename jk perempuan"
   ]
  },
  {
   "cell_type": "code",
   "execution_count": 68,
   "id": "dc291852-2899-4c5d-b2b6-4211d172f976",
   "metadata": {
    "tags": []
   },
   "outputs": [
    {
     "name": "stdout",
     "output_type": "stream",
     "text": [
      "(14 changes made to perempuan)\n"
     ]
    }
   ],
   "source": [
    "recode perempuan (1=0) (0=1)"
   ]
  },
  {
   "cell_type": "code",
   "execution_count": 69,
   "id": "ff93430c-9dd6-496d-95ae-19ab7dfa8808",
   "metadata": {
    "tags": []
   },
   "outputs": [
    {
     "name": "stdout",
     "output_type": "stream",
     "text": [
      "\n",
      "         jk |      Freq.     Percent        Cum.\n",
      "------------+-----------------------------------\n",
      "          0 |         13       92.86       92.86\n",
      "          1 |          1        7.14      100.00\n",
      "------------+-----------------------------------\n",
      "      Total |         14      100.00\n"
     ]
    }
   ],
   "source": [
    "tabulate perempuan"
   ]
  },
  {
   "cell_type": "markdown",
   "id": "f62e0169-c5a9-42c7-afb0-d457fdacbcf3",
   "metadata": {},
   "source": [
    "#### Labeling variables\n",
    "\n",
    "Untuk mempermudah membaca variabel yang memiliki format cenderung singkat, maka label variabel dapat digunakan. Label ini bisa dilihat pada bagian properties variabel (bisa dilihat melalui `describe`."
   ]
  },
  {
   "cell_type": "code",
   "execution_count": 70,
   "id": "6a8027bf-b9f7-44a6-9770-bbada18d691d",
   "metadata": {
    "tags": []
   },
   "outputs": [
    {
     "name": "stdout",
     "output_type": "stream",
     "text": [
      "\n",
      "Variable      Storage   Display    Value\n",
      "    name         type    format    label      Variable label\n",
      "--------------------------------------------------------------------------------\n",
      "perempuan       byte    %10.0g                jk\n"
     ]
    }
   ],
   "source": [
    "describe perempuan"
   ]
  },
  {
   "cell_type": "markdown",
   "id": "04369016-9c86-4994-aad9-15aae6cee89c",
   "metadata": {},
   "source": [
    "Terlihat bahwa labelnya masih berisi \"jk\""
   ]
  },
  {
   "cell_type": "markdown",
   "id": "c0d0722c-f85b-41be-b575-2d7622835da9",
   "metadata": {
    "tags": []
   },
   "source": [
    "Untuk mengubahnya, dapat menggunakan perintah `label variable`"
   ]
  },
  {
   "cell_type": "code",
   "execution_count": 71,
   "id": "0dbf4936-b839-4b06-9aa3-3fdd559a5e78",
   "metadata": {
    "tags": []
   },
   "outputs": [],
   "source": [
    "label variable perempuan \"Jenis Kelamin (Perempuan)\""
   ]
  },
  {
   "cell_type": "code",
   "execution_count": 72,
   "id": "c79d3d67-a3f5-40d3-844c-3e39dbe84de7",
   "metadata": {
    "tags": []
   },
   "outputs": [
    {
     "name": "stdout",
     "output_type": "stream",
     "text": [
      "\n",
      "Variable      Storage   Display    Value\n",
      "    name         type    format    label      Variable label\n",
      "--------------------------------------------------------------------------------\n",
      "perempuan       byte    %10.0g                Jenis Kelamin (Perempuan)\n"
     ]
    }
   ],
   "source": [
    "describe perempuan"
   ]
  },
  {
   "cell_type": "markdown",
   "id": "7c4ac3b8-92b7-4712-b92e-5b114b292b15",
   "metadata": {},
   "source": [
    "Terlihat bahwa label sudah berubah."
   ]
  },
  {
   "cell_type": "markdown",
   "id": "346bc9ef-fa10-4520-a8c5-0493ff8e2c1a",
   "metadata": {},
   "source": [
    "#### Labeling values"
   ]
  },
  {
   "cell_type": "markdown",
   "id": "6b8fdf84-fcd8-49fa-8cab-9d41efdb76e5",
   "metadata": {},
   "source": [
    "Selain melakukan labeling terhadap variabel, labeling ini bisa dilakukan pada variabel. Hal ini berguna untuk memudahkan interpretasi data. Contohnya adalah pada kasus data jenis kelamin ini."
   ]
  },
  {
   "cell_type": "code",
   "execution_count": 73,
   "id": "87fda73d-b591-423a-8bcd-08b14ffb10d0",
   "metadata": {
    "tags": []
   },
   "outputs": [
    {
     "name": "stdout",
     "output_type": "stream",
     "text": [
      "\n",
      "      Jenis |\n",
      "    Kelamin |\n",
      "(Perempuan) |      Freq.     Percent        Cum.\n",
      "------------+-----------------------------------\n",
      "          0 |         13       92.86       92.86\n",
      "          1 |          1        7.14      100.00\n",
      "------------+-----------------------------------\n",
      "      Total |         14      100.00\n"
     ]
    }
   ],
   "source": [
    "tab perempuan"
   ]
  },
  {
   "cell_type": "markdown",
   "id": "a6b779b6-c980-4b9b-8364-cea62b394ff4",
   "metadata": {},
   "source": [
    "Terlihat bahwa jenis kelamin ditunjukkan melalui nilai 0 atau 1. Hal ini dapat mempersulit interpretasi. Maka dari itu, dilakukan labeling untuk memudahkannya. Perintah yang digunakan adalah `label define` untuk membuat label baru dan `label values` untuk mengimplementasikannya pada variabel tertentu."
   ]
  },
  {
   "cell_type": "code",
   "execution_count": 74,
   "id": "ccedf83d-3b2b-4796-8e51-1c22cfd4d72a",
   "metadata": {
    "tags": []
   },
   "outputs": [],
   "source": [
    "label define jenis_kelamin 0 \"Laki-laki\" 1 \"Perempuan\" // jenis_kelamin merupakan nama label,bukan nama variabel"
   ]
  },
  {
   "cell_type": "code",
   "execution_count": 75,
   "id": "00b9b563-9809-435b-a8cc-46537335b18e",
   "metadata": {
    "tags": []
   },
   "outputs": [],
   "source": [
    "label values perempuan jenis_kelamin // menggunakan label jenis_kelamin pada variabel perempuan"
   ]
  },
  {
   "cell_type": "code",
   "execution_count": 76,
   "id": "7ed36f68-5429-4a8e-9710-b8feb2593024",
   "metadata": {
    "tags": []
   },
   "outputs": [
    {
     "name": "stdout",
     "output_type": "stream",
     "text": [
      "\n",
      "      Jenis |\n",
      "    Kelamin |\n",
      "(Perempuan) |      Freq.     Percent        Cum.\n",
      "------------+-----------------------------------\n",
      "  Laki-laki |         13       92.86       92.86\n",
      "  Perempuan |          1        7.14      100.00\n",
      "------------+-----------------------------------\n",
      "      Total |         14      100.00\n"
     ]
    }
   ],
   "source": [
    "tab perempuan"
   ]
  },
  {
   "cell_type": "markdown",
   "id": "07aa84df-12f1-4e51-9da6-4bfa99d3d4fd",
   "metadata": {},
   "source": [
    "#### Encoding string into numeric"
   ]
  },
  {
   "cell_type": "markdown",
   "id": "8469e2f1-ba7e-491d-a3b3-052786552944",
   "metadata": {},
   "source": [
    "Perintah `encode` merupakan perintah untuk mengubah variabel string menjadi variabel numeric. Ingat! Hampir seluruh analisis pada stata membutuhkan data berupa numeric meskipun data tersebut adalah data nominal ataupun ordinal."
   ]
  },
  {
   "cell_type": "code",
   "execution_count": 77,
   "id": "782af506-c052-4d1a-8c14-4747a132d309",
   "metadata": {
    "tags": []
   },
   "outputs": [
    {
     "data": {
      "text/html": [
       "<div>\n",
       "<style scoped>\n",
       "    .dataframe tbody tr th:only-of-type {\n",
       "        vertical-align: middle;\n",
       "    }\n",
       "\n",
       "    .dataframe tbody tr th {\n",
       "        vertical-align: top;\n",
       "    }\n",
       "\n",
       "    .dataframe thead th {\n",
       "        text-align: right;\n",
       "    }\n",
       "</style>\n",
       "<table border=\"1\" class=\"dataframe\">\n",
       "  <thead>\n",
       "    <tr style=\"text-align: right;\">\n",
       "      <th></th>\n",
       "      <th>usia</th>\n",
       "      <th>perempuan</th>\n",
       "      <th>status_nikah</th>\n",
       "      <th>alamat_ja</th>\n",
       "      <th>alamat_rt_rw</th>\n",
       "      <th>alamat_kel</th>\n",
       "      <th>alamat_kec</th>\n",
       "      <th>alamat_kabkota</th>\n",
       "      <th>kodepos</th>\n",
       "      <th>pendidikan</th>\n",
       "      <th>jml_motor</th>\n",
       "      <th>jml_mobil</th>\n",
       "      <th>jml_sepeda</th>\n",
       "      <th>jml_art</th>\n",
       "      <th>posisi_rt</th>\n",
       "      <th>penghasilan_pribadi</th>\n",
       "      <th>penghasilan_keluarga</th>\n",
       "      <th>pekerjaan_selain</th>\n",
       "      <th>platform</th>\n",
       "      <th>jam_online</th>\n",
       "      <th>status_kendaraan</th>\n",
       "      <th>lama_driver</th>\n",
       "      <th>ojek_konvensional</th>\n",
       "      <th>total_kendaraan</th>\n",
       "    </tr>\n",
       "  </thead>\n",
       "  <tbody>\n",
       "    <tr>\n",
       "      <th>1</th>\n",
       "      <td>26</td>\n",
       "      <td>Laki-laki</td>\n",
       "      <td>Menikah</td>\n",
       "      <td>Jl. Cihanjuang</td>\n",
       "      <td>03/18</td>\n",
       "      <td>Cibabat</td>\n",
       "      <td>Cimahi Utara</td>\n",
       "      <td>Kota Cimahi</td>\n",
       "      <td>.</td>\n",
       "      <td>SMA/SMK</td>\n",
       "      <td>1</td>\n",
       "      <td>0</td>\n",
       "      <td>.</td>\n",
       "      <td>3</td>\n",
       "      <td>Kepala rumah tangga</td>\n",
       "      <td>Rp5.000.000-Rp5.999.999</td>\n",
       "      <td>Rp5.000.000-Rp5.999.999</td>\n",
       "      <td>Karyawan Swasta (Full-time)</td>\n",
       "      <td>Gojek, Grab, Indriver</td>\n",
       "      <td>2-4 jam</td>\n",
       "      <td>Pribadi</td>\n",
       "      <td>1-3 tahun</td>\n",
       "      <td>Tidak</td>\n",
       "      <td>1</td>\n",
       "    </tr>\n",
       "    <tr>\n",
       "      <th>2</th>\n",
       "      <td>52</td>\n",
       "      <td>Laki-laki</td>\n",
       "      <td>Menikah</td>\n",
       "      <td>Jalan A.H. Nasution</td>\n",
       "      <td>02/02</td>\n",
       "      <td>Cipadung Wetan</td>\n",
       "      <td>Panyileukan</td>\n",
       "      <td>Kota Bandung</td>\n",
       "      <td>.</td>\n",
       "      <td>SMA/SMK</td>\n",
       "      <td>1</td>\n",
       "      <td>0</td>\n",
       "      <td>.</td>\n",
       "      <td>4</td>\n",
       "      <td>Kepala rumah tangga</td>\n",
       "      <td>Rp4.000.000-Rp4.999.999</td>\n",
       "      <td>Rp5.000.000-Rp5.999.999</td>\n",
       "      <td>Wirausahawan</td>\n",
       "      <td>Gojek, Grab</td>\n",
       "      <td>8-10 jam</td>\n",
       "      <td>Pribadi</td>\n",
       "      <td>5-7 tahun</td>\n",
       "      <td>Tidak</td>\n",
       "      <td>1</td>\n",
       "    </tr>\n",
       "    <tr>\n",
       "      <th>3</th>\n",
       "      <td>35</td>\n",
       "      <td>Laki-laki</td>\n",
       "      <td>Menikah</td>\n",
       "      <td>Jl. Sederhana No. 29</td>\n",
       "      <td>04/10</td>\n",
       "      <td>Pasteur</td>\n",
       "      <td>Sukajadi</td>\n",
       "      <td>Kota Bandung</td>\n",
       "      <td>.</td>\n",
       "      <td>SMA/SMK</td>\n",
       "      <td>1</td>\n",
       "      <td>0</td>\n",
       "      <td>1</td>\n",
       "      <td>3</td>\n",
       "      <td>Kepala rumah tangga</td>\n",
       "      <td>Rp3.000.000-Rp3.999.999</td>\n",
       "      <td>Rp5.000.000-Rp5.999.999</td>\n",
       "      <td>Tidak ada</td>\n",
       "      <td>Gojek</td>\n",
       "      <td>Di atas 10 jam</td>\n",
       "      <td>Pribadi</td>\n",
       "      <td>5-7 tahun</td>\n",
       "      <td>Tidak</td>\n",
       "      <td>2</td>\n",
       "    </tr>\n",
       "    <tr>\n",
       "      <th>4</th>\n",
       "      <td>70</td>\n",
       "      <td>Laki-laki</td>\n",
       "      <td>Menikah</td>\n",
       "      <td>Jl. Gegerkalong Girang</td>\n",
       "      <td>02/01</td>\n",
       "      <td>Gegerkalong</td>\n",
       "      <td>Sukasari</td>\n",
       "      <td>Kota Bandung</td>\n",
       "      <td>.</td>\n",
       "      <td>SMP</td>\n",
       "      <td>1</td>\n",
       "      <td>0</td>\n",
       "      <td>.</td>\n",
       "      <td>2</td>\n",
       "      <td>Kepala rumah tangga</td>\n",
       "      <td>Rp3.000.000-Rp3.999.999</td>\n",
       "      <td>Rp3.000.000-Rp3.999.999</td>\n",
       "      <td>Tidak ada</td>\n",
       "      <td>Gojek</td>\n",
       "      <td>8-10 jam</td>\n",
       "      <td>Pribadi</td>\n",
       "      <td>5-7 tahun</td>\n",
       "      <td>Ya</td>\n",
       "      <td>1</td>\n",
       "    </tr>\n",
       "    <tr>\n",
       "      <th>5</th>\n",
       "      <td>41</td>\n",
       "      <td>Laki-laki</td>\n",
       "      <td>Menikah</td>\n",
       "      <td>Jl. Sersan Bajuri</td>\n",
       "      <td>03/07</td>\n",
       "      <td>Cihideung</td>\n",
       "      <td>Parongpong</td>\n",
       "      <td>Kabupaten Bandung Barat</td>\n",
       "      <td>.</td>\n",
       "      <td>SMP</td>\n",
       "      <td>1</td>\n",
       "      <td>0</td>\n",
       "      <td>.</td>\n",
       "      <td>4</td>\n",
       "      <td>Kepala rumah tangga</td>\n",
       "      <td>Rp3.000.000-Rp3.999.999</td>\n",
       "      <td>Rp3.000.000-Rp3.999.999</td>\n",
       "      <td>Tidak ada</td>\n",
       "      <td>Gojek</td>\n",
       "      <td>Di atas 10 jam</td>\n",
       "      <td>Pribadi</td>\n",
       "      <td>7-9 tahun</td>\n",
       "      <td>Ya</td>\n",
       "      <td>1</td>\n",
       "    </tr>\n",
       "  </tbody>\n",
       "</table>\n",
       "</div>"
      ],
      "text/plain": [
       "\n",
       "     +-------------------------------------------------------------------------+\n",
       "  1. | usia  | perempuan  |  status~h  |               alamat_ja  |  alamat~w  |\n",
       "     |   26  | Laki-laki  |   Menikah  |          Jl. Cihanjuang  |     03/18  |\n",
       "     |---------------------------------+---------------------------------------|\n",
       "     |     alamat_kel  |   alamat_kec  |           alamat_kabkota  |  kodepos  |\n",
       "     |        Cibabat  | Cimahi Utara  |              Kota Cimahi  |        .  |\n",
       "     |-------------------------------------------------------------------------|\n",
       "     |   pendid~n   |   jml_mo~r   |   jml_mo~l   |   jml_se~a   |   jml_art   |\n",
       "     |    SMA/SMK   |          1   |          0   |          .   |         3   |\n",
       "     |-------------------------------------------------------------------------|\n",
       "     |           posisi_rt |     penghasilan_pribadi |    penghasilan_keluarga |\n",
       "     | Kepala rumah tangga | Rp5.000.000-Rp5.999.999 | Rp5.000.000-Rp5.999.999 |\n",
       "     |-------------------------------------------------------------------------|\n",
       "     |            pekerjaan_selain  |              platform  |     jam_online  |\n",
       "     | Karyawan Swasta (Full-time)  | Gojek, Grab, Indriver  |        2-4 jam  |\n",
       "     |-------------------------------------------------------------------------|\n",
       "     |    status~n     |    lama_dr~r     |    ojek_k~l     |     total_~n     |\n",
       "     |     Pribadi     |    1-3 tahun     |       Tidak     |            1     |\n",
       "     +-------------------------------------------------------------------------+\n",
       "\n",
       "     +-------------------------------------------------------------------------+\n",
       "  2. | usia  | perempuan  |  status~h  |               alamat_ja  |  alamat~w  |\n",
       "     |   52  | Laki-laki  |   Menikah  |     Jalan A.H. Nasution  |     02/02  |\n",
       "     |---------------------------------+---------------------------------------|\n",
       "     |     alamat_kel  |   alamat_kec  |           alamat_kabkota  |  kodepos  |\n",
       "     | Cipadung Wetan  |  Panyileukan  |             Kota Bandung  |        .  |\n",
       "     |-------------------------------------------------------------------------|\n",
       "     |   pendid~n   |   jml_mo~r   |   jml_mo~l   |   jml_se~a   |   jml_art   |\n",
       "     |    SMA/SMK   |          1   |          0   |          .   |         4   |\n",
       "     |-------------------------------------------------------------------------|\n",
       "     |           posisi_rt |     penghasilan_pribadi |    penghasilan_keluarga |\n",
       "     | Kepala rumah tangga | Rp4.000.000-Rp4.999.999 | Rp5.000.000-Rp5.999.999 |\n",
       "     |-------------------------------------------------------------------------|\n",
       "     |            pekerjaan_selain  |              platform  |     jam_online  |\n",
       "     |                Wirausahawan  |           Gojek, Grab  |       8-10 jam  |\n",
       "     |-------------------------------------------------------------------------|\n",
       "     |    status~n     |    lama_dr~r     |    ojek_k~l     |     total_~n     |\n",
       "     |     Pribadi     |    5-7 tahun     |       Tidak     |            1     |\n",
       "     +-------------------------------------------------------------------------+\n",
       "\n",
       "     +-------------------------------------------------------------------------+\n",
       "  3. | usia  | perempuan  |  status~h  |               alamat_ja  |  alamat~w  |\n",
       "     |   35  | Laki-laki  |   Menikah  |    Jl. Sederhana No. 29  |     04/10  |\n",
       "     |---------------------------------+---------------------------------------|\n",
       "     |     alamat_kel  |   alamat_kec  |           alamat_kabkota  |  kodepos  |\n",
       "     |        Pasteur  |     Sukajadi  |             Kota Bandung  |        .  |\n",
       "     |-------------------------------------------------------------------------|\n",
       "     |   pendid~n   |   jml_mo~r   |   jml_mo~l   |   jml_se~a   |   jml_art   |\n",
       "     |    SMA/SMK   |          1   |          0   |          1   |         3   |\n",
       "     |-------------------------------------------------------------------------|\n",
       "     |           posisi_rt |     penghasilan_pribadi |    penghasilan_keluarga |\n",
       "     | Kepala rumah tangga | Rp3.000.000-Rp3.999.999 | Rp5.000.000-Rp5.999.999 |\n",
       "     |-------------------------------------------------------------------------|\n",
       "     |            pekerjaan_selain  |              platform  |     jam_online  |\n",
       "     |                   Tidak ada  |                 Gojek  | Di atas 10 jam  |\n",
       "     |-------------------------------------------------------------------------|\n",
       "     |    status~n     |    lama_dr~r     |    ojek_k~l     |     total_~n     |\n",
       "     |     Pribadi     |    5-7 tahun     |       Tidak     |            2     |\n",
       "     +-------------------------------------------------------------------------+\n",
       "\n",
       "     +-------------------------------------------------------------------------+\n",
       "  4. | usia  | perempuan  |  status~h  |               alamat_ja  |  alamat~w  |\n",
       "     |   70  | Laki-laki  |   Menikah  |  Jl. Gegerkalong Girang  |     02/01  |\n",
       "     |---------------------------------+---------------------------------------|\n",
       "     |     alamat_kel  |   alamat_kec  |           alamat_kabkota  |  kodepos  |\n",
       "     |    Gegerkalong  |     Sukasari  |             Kota Bandung  |        .  |\n",
       "     |-------------------------------------------------------------------------|\n",
       "     |   pendid~n   |   jml_mo~r   |   jml_mo~l   |   jml_se~a   |   jml_art   |\n",
       "     |        SMP   |          1   |          0   |          .   |         2   |\n",
       "     |-------------------------------------------------------------------------|\n",
       "     |           posisi_rt |     penghasilan_pribadi |    penghasilan_keluarga |\n",
       "     | Kepala rumah tangga | Rp3.000.000-Rp3.999.999 | Rp3.000.000-Rp3.999.999 |\n",
       "     |-------------------------------------------------------------------------|\n",
       "     |            pekerjaan_selain  |              platform  |     jam_online  |\n",
       "     |                   Tidak ada  |                 Gojek  |       8-10 jam  |\n",
       "     |-------------------------------------------------------------------------|\n",
       "     |    status~n     |    lama_dr~r     |    ojek_k~l     |     total_~n     |\n",
       "     |     Pribadi     |    5-7 tahun     |          Ya     |            1     |\n",
       "     +-------------------------------------------------------------------------+\n",
       "\n",
       "     +-------------------------------------------------------------------------+\n",
       "  5. | usia  | perempuan  |  status~h  |               alamat_ja  |  alamat~w  |\n",
       "     |   41  | Laki-laki  |   Menikah  |       Jl. Sersan Bajuri  |     03/07  |\n",
       "     |---------------------------------+---------------------------------------|\n",
       "     |     alamat_kel  |   alamat_kec  |           alamat_kabkota  |  kodepos  |\n",
       "     |      Cihideung  |   Parongpong  |  Kabupaten Bandung Barat  |        .  |\n",
       "     |-------------------------------------------------------------------------|\n",
       "     |   pendid~n   |   jml_mo~r   |   jml_mo~l   |   jml_se~a   |   jml_art   |\n",
       "     |        SMP   |          1   |          0   |          .   |         4   |\n",
       "     |-------------------------------------------------------------------------|\n",
       "     |           posisi_rt |     penghasilan_pribadi |    penghasilan_keluarga |\n",
       "     | Kepala rumah tangga | Rp3.000.000-Rp3.999.999 | Rp3.000.000-Rp3.999.999 |\n",
       "     |-------------------------------------------------------------------------|\n",
       "     |            pekerjaan_selain  |              platform  |     jam_online  |\n",
       "     |                   Tidak ada  |                 Gojek  | Di atas 10 jam  |\n",
       "     |-------------------------------------------------------------------------|\n",
       "     |    status~n     |    lama_dr~r     |    ojek_k~l     |     total_~n     |\n",
       "     |     Pribadi     |    7-9 tahun     |          Ya     |            1     |\n",
       "     +-------------------------------------------------------------------------+\n",
       "\n"
      ]
     },
     "metadata": {},
     "output_type": "display_data"
    }
   ],
   "source": [
    "%head 5"
   ]
  },
  {
   "cell_type": "markdown",
   "id": "68017140-5643-429a-9e60-93ce9252c9c2",
   "metadata": {},
   "source": [
    "Melalukan encoding pada variabel status menikah dengan membuat variabel baru untuk menyimpan hasil encoding"
   ]
  },
  {
   "cell_type": "code",
   "execution_count": 78,
   "id": "972a4f87-90eb-47e2-83ee-5f05f63f4af3",
   "metadata": {
    "tags": []
   },
   "outputs": [
    {
     "name": "stdout",
     "output_type": "stream",
     "text": [
      "\n",
      "status_nika |\n",
      "          h |      Freq.     Percent        Cum.\n",
      "------------+-----------------------------------\n",
      "      Cerai |          1        7.14        7.14\n",
      "    Menikah |         13       92.86      100.00\n",
      "------------+-----------------------------------\n",
      "      Total |         14      100.00\n"
     ]
    }
   ],
   "source": [
    "tab status_nikah"
   ]
  },
  {
   "cell_type": "code",
   "execution_count": 79,
   "id": "8b3c43f4-74d9-40ec-9962-c78d55975c25",
   "metadata": {
    "tags": []
   },
   "outputs": [],
   "source": [
    "encode status_nikah, generate(nikah_s)"
   ]
  },
  {
   "cell_type": "code",
   "execution_count": 80,
   "id": "a6011e7f-6d4c-4cb4-b85c-a2e81401a806",
   "metadata": {
    "tags": []
   },
   "outputs": [
    {
     "name": "stdout",
     "output_type": "stream",
     "text": [
      "\n",
      "    Variable |        Obs        Mean    Std. dev.       Min        Max\n",
      "-------------+---------------------------------------------------------\n",
      "status_nikah |          0\n"
     ]
    }
   ],
   "source": [
    "summarize status_nikah"
   ]
  },
  {
   "cell_type": "code",
   "execution_count": 81,
   "id": "8b0b5c89-42db-4e63-82de-fcd2b4eea48b",
   "metadata": {
    "tags": []
   },
   "outputs": [
    {
     "name": "stdout",
     "output_type": "stream",
     "text": [
      "\n",
      "    Variable |        Obs        Mean    Std. dev.       Min        Max\n",
      "-------------+---------------------------------------------------------\n",
      "     nikah_s |         14    1.928571    .2672612          1          2\n"
     ]
    }
   ],
   "source": [
    "summarize nikah_s"
   ]
  },
  {
   "cell_type": "markdown",
   "id": "ed617df9-b9b0-4a3d-991d-47ba65891e19",
   "metadata": {},
   "source": [
    "Perintah encode ini akan merubah variabel string menjadi numerik berdasarkan urutan alfabet pada string. Untuk mengatur ordernya secara manual, dapat perintah replace yang sebelumnya sudah dijelaskan."
   ]
  },
  {
   "cell_type": "markdown",
   "id": "ac5b5e1e-0044-4685-a6a9-5eb5af76a4f3",
   "metadata": {},
   "source": [
    "#### Recode Categories Variables"
   ]
  },
  {
   "cell_type": "markdown",
   "id": "b4b34d6f-ea6b-49d3-9999-6bc53cec3e77",
   "metadata": {},
   "source": [
    "Recode digunakan untuk mengkategorikan suatu nilai numerik. Contohnya adalah untuk mengkategorikan variabel usia."
   ]
  },
  {
   "cell_type": "code",
   "execution_count": 82,
   "id": "8c9478fa-e9ea-4dc4-a893-25da219a7104",
   "metadata": {
    "tags": []
   },
   "outputs": [
    {
     "name": "stdout",
     "output_type": "stream",
     "text": [
      "\n",
      "                            usia\n",
      "-------------------------------------------------------------\n",
      "      Percentiles      Smallest\n",
      " 1%           26             26\n",
      " 5%           26             30\n",
      "10%           30             31       Obs                  14\n",
      "25%           31             31       Sum of wgt.          14\n",
      "\n",
      "50%         38.5                      Mean           41.21429\n",
      "                        Largest       Std. dev.      11.90461\n",
      "75%           47             47\n",
      "90%           55             52       Variance       141.7198\n",
      "95%           70             55       Skewness       .9646913\n",
      "99%           70             70       Kurtosis       3.430499\n"
     ]
    }
   ],
   "source": [
    "summarize usia, detail"
   ]
  },
  {
   "cell_type": "code",
   "execution_count": 83,
   "id": "e9015bdb-d4a9-4fa3-8085-87b3fe9ff8fd",
   "metadata": {
    "tags": []
   },
   "outputs": [
    {
     "name": "stdout",
     "output_type": "stream",
     "text": [
      "(14 differences between usia and kelompok_usia)\n"
     ]
    }
   ],
   "source": [
    "recode usia (26/40=0 \"Muda\")(41/70=1 \"Orang Tua\"), generate(kelompok_usia)"
   ]
  },
  {
   "cell_type": "markdown",
   "id": "c07fdfd4-c4ea-4bdb-b198-73492e69af27",
   "metadata": {},
   "source": [
    "Perintah diatas mengkelompokkan usia pada 2 kelompok:\n",
    "* Muda: usia 26 hingga 40\n",
    "* Orang Tua: usia 41 hingga 70"
   ]
  },
  {
   "cell_type": "code",
   "execution_count": 84,
   "id": "c046351f-1632-4a4a-9386-ca0f67d64ceb",
   "metadata": {
    "tags": []
   },
   "outputs": [
    {
     "name": "stdout",
     "output_type": "stream",
     "text": [
      "\n",
      "  RECODE of |\n",
      "usia (usia) |      Freq.     Percent        Cum.\n",
      "------------+-----------------------------------\n",
      "       Muda |          7       50.00       50.00\n",
      "  Orang Tua |          7       50.00      100.00\n",
      "------------+-----------------------------------\n",
      "      Total |         14      100.00\n"
     ]
    }
   ],
   "source": [
    "tab kelompok_usia"
   ]
  },
  {
   "cell_type": "markdown",
   "id": "e8060b2f-6ffd-45f3-9e1a-908356848e7b",
   "metadata": {},
   "source": [
    "### Dataset Operations"
   ]
  },
  {
   "cell_type": "markdown",
   "id": "96e42597-df60-4a35-9060-eff07d25aae4",
   "metadata": {
    "tags": []
   },
   "source": [
    "#### Save dataset\n",
    "\n",
    "Setelah berbagai macam transformasi, data disimpan menggunakan perintah `save`"
   ]
  },
  {
   "cell_type": "code",
   "execution_count": 85,
   "id": "108879a7-2e40-474e-87aa-e4b472e70b37",
   "metadata": {
    "tags": []
   },
   "outputs": [
    {
     "name": "stdout",
     "output_type": "stream",
     "text": [
      "file data/output/data_v1.dta saved\n"
     ]
    }
   ],
   "source": [
    "* menyimpan dataset pada file dta baru\n",
    "save \"data/output/data_v1\""
   ]
  },
  {
   "cell_type": "markdown",
   "id": "6a18b959-5637-4deb-abc6-d0470b93d392",
   "metadata": {},
   "source": [
    "Jika ingin menyimpan pada file yang sama, gunakan option `replace`"
   ]
  },
  {
   "cell_type": "code",
   "execution_count": 86,
   "id": "e9e5b750-ec60-4d03-9c67-2792413c19db",
   "metadata": {
    "tags": []
   },
   "outputs": [
    {
     "name": "stdout",
     "output_type": "stream",
     "text": [
      "file data/output/data_v1.dta saved\n"
     ]
    }
   ],
   "source": [
    "* menyimpan dataset dan overwrite file data_ready.dta\n",
    "save \"data/output/data_v1\", replace"
   ]
  },
  {
   "cell_type": "markdown",
   "id": "264b68dd-be45-495f-9696-94ee2aabc5a1",
   "metadata": {},
   "source": [
    "#### Keeping and dropping variables\n",
    "\n",
    "Dalam menyiapkan dataset, menghapus suatu variabel atau kolom akan menjadi hal yang biasa terjadi. Menghapus variabel ini dapat dilakukan dengan 2 pendekatan, yaitu `keep` untuk memilih variabel apa yang akan tetap digunakan (sisanya dihapus) dan `drop` untuk memilih variabel apa yang akan dihapus.\n",
    "\n",
    "Biasanya keep digunakan apabila variabel yang akan dihapus ada banyak, sedangkan drop untuk menghapus sedikit variabel."
   ]
  },
  {
   "cell_type": "code",
   "execution_count": 87,
   "id": "78c6ed3a-ba6b-4e15-8508-fe670fb060a4",
   "metadata": {
    "tags": []
   },
   "outputs": [],
   "source": [
    "drop nikah_s"
   ]
  },
  {
   "cell_type": "code",
   "execution_count": 88,
   "id": "70a462e6-2ed5-4e03-ac8d-7cf48f6eecc6",
   "metadata": {
    "tags": []
   },
   "outputs": [
    {
     "data": {
      "text/html": [
       "<div>\n",
       "<style scoped>\n",
       "    .dataframe tbody tr th:only-of-type {\n",
       "        vertical-align: middle;\n",
       "    }\n",
       "\n",
       "    .dataframe tbody tr th {\n",
       "        vertical-align: top;\n",
       "    }\n",
       "\n",
       "    .dataframe thead th {\n",
       "        text-align: right;\n",
       "    }\n",
       "</style>\n",
       "<table border=\"1\" class=\"dataframe\">\n",
       "  <thead>\n",
       "    <tr style=\"text-align: right;\">\n",
       "      <th></th>\n",
       "      <th>usia</th>\n",
       "      <th>perempuan</th>\n",
       "      <th>status_nikah</th>\n",
       "      <th>alamat_ja</th>\n",
       "      <th>alamat_rt_rw</th>\n",
       "      <th>alamat_kel</th>\n",
       "      <th>alamat_kec</th>\n",
       "      <th>alamat_kabkota</th>\n",
       "      <th>kodepos</th>\n",
       "      <th>pendidikan</th>\n",
       "      <th>jml_motor</th>\n",
       "      <th>jml_mobil</th>\n",
       "      <th>jml_sepeda</th>\n",
       "      <th>jml_art</th>\n",
       "      <th>posisi_rt</th>\n",
       "      <th>penghasilan_pribadi</th>\n",
       "      <th>penghasilan_keluarga</th>\n",
       "      <th>pekerjaan_selain</th>\n",
       "      <th>platform</th>\n",
       "      <th>jam_online</th>\n",
       "      <th>status_kendaraan</th>\n",
       "      <th>lama_driver</th>\n",
       "      <th>ojek_konvensional</th>\n",
       "      <th>total_kendaraan</th>\n",
       "      <th>kelompok_usia</th>\n",
       "    </tr>\n",
       "  </thead>\n",
       "  <tbody>\n",
       "    <tr>\n",
       "      <th>1</th>\n",
       "      <td>26</td>\n",
       "      <td>Laki-laki</td>\n",
       "      <td>Menikah</td>\n",
       "      <td>Jl. Cihanjuang</td>\n",
       "      <td>03/18</td>\n",
       "      <td>Cibabat</td>\n",
       "      <td>Cimahi Utara</td>\n",
       "      <td>Kota Cimahi</td>\n",
       "      <td>.</td>\n",
       "      <td>SMA/SMK</td>\n",
       "      <td>1</td>\n",
       "      <td>0</td>\n",
       "      <td>.</td>\n",
       "      <td>3</td>\n",
       "      <td>Kepala rumah tangga</td>\n",
       "      <td>Rp5.000.000-Rp5.999.999</td>\n",
       "      <td>Rp5.000.000-Rp5.999.999</td>\n",
       "      <td>Karyawan Swasta (Full-time)</td>\n",
       "      <td>Gojek, Grab, Indriver</td>\n",
       "      <td>2-4 jam</td>\n",
       "      <td>Pribadi</td>\n",
       "      <td>1-3 tahun</td>\n",
       "      <td>Tidak</td>\n",
       "      <td>1</td>\n",
       "      <td>Muda</td>\n",
       "    </tr>\n",
       "    <tr>\n",
       "      <th>2</th>\n",
       "      <td>52</td>\n",
       "      <td>Laki-laki</td>\n",
       "      <td>Menikah</td>\n",
       "      <td>Jalan A.H. Nasution</td>\n",
       "      <td>02/02</td>\n",
       "      <td>Cipadung Wetan</td>\n",
       "      <td>Panyileukan</td>\n",
       "      <td>Kota Bandung</td>\n",
       "      <td>.</td>\n",
       "      <td>SMA/SMK</td>\n",
       "      <td>1</td>\n",
       "      <td>0</td>\n",
       "      <td>.</td>\n",
       "      <td>4</td>\n",
       "      <td>Kepala rumah tangga</td>\n",
       "      <td>Rp4.000.000-Rp4.999.999</td>\n",
       "      <td>Rp5.000.000-Rp5.999.999</td>\n",
       "      <td>Wirausahawan</td>\n",
       "      <td>Gojek, Grab</td>\n",
       "      <td>8-10 jam</td>\n",
       "      <td>Pribadi</td>\n",
       "      <td>5-7 tahun</td>\n",
       "      <td>Tidak</td>\n",
       "      <td>1</td>\n",
       "      <td>Orang Tua</td>\n",
       "    </tr>\n",
       "    <tr>\n",
       "      <th>3</th>\n",
       "      <td>35</td>\n",
       "      <td>Laki-laki</td>\n",
       "      <td>Menikah</td>\n",
       "      <td>Jl. Sederhana No. 29</td>\n",
       "      <td>04/10</td>\n",
       "      <td>Pasteur</td>\n",
       "      <td>Sukajadi</td>\n",
       "      <td>Kota Bandung</td>\n",
       "      <td>.</td>\n",
       "      <td>SMA/SMK</td>\n",
       "      <td>1</td>\n",
       "      <td>0</td>\n",
       "      <td>1</td>\n",
       "      <td>3</td>\n",
       "      <td>Kepala rumah tangga</td>\n",
       "      <td>Rp3.000.000-Rp3.999.999</td>\n",
       "      <td>Rp5.000.000-Rp5.999.999</td>\n",
       "      <td>Tidak ada</td>\n",
       "      <td>Gojek</td>\n",
       "      <td>Di atas 10 jam</td>\n",
       "      <td>Pribadi</td>\n",
       "      <td>5-7 tahun</td>\n",
       "      <td>Tidak</td>\n",
       "      <td>2</td>\n",
       "      <td>Muda</td>\n",
       "    </tr>\n",
       "    <tr>\n",
       "      <th>4</th>\n",
       "      <td>70</td>\n",
       "      <td>Laki-laki</td>\n",
       "      <td>Menikah</td>\n",
       "      <td>Jl. Gegerkalong Girang</td>\n",
       "      <td>02/01</td>\n",
       "      <td>Gegerkalong</td>\n",
       "      <td>Sukasari</td>\n",
       "      <td>Kota Bandung</td>\n",
       "      <td>.</td>\n",
       "      <td>SMP</td>\n",
       "      <td>1</td>\n",
       "      <td>0</td>\n",
       "      <td>.</td>\n",
       "      <td>2</td>\n",
       "      <td>Kepala rumah tangga</td>\n",
       "      <td>Rp3.000.000-Rp3.999.999</td>\n",
       "      <td>Rp3.000.000-Rp3.999.999</td>\n",
       "      <td>Tidak ada</td>\n",
       "      <td>Gojek</td>\n",
       "      <td>8-10 jam</td>\n",
       "      <td>Pribadi</td>\n",
       "      <td>5-7 tahun</td>\n",
       "      <td>Ya</td>\n",
       "      <td>1</td>\n",
       "      <td>Orang Tua</td>\n",
       "    </tr>\n",
       "    <tr>\n",
       "      <th>5</th>\n",
       "      <td>41</td>\n",
       "      <td>Laki-laki</td>\n",
       "      <td>Menikah</td>\n",
       "      <td>Jl. Sersan Bajuri</td>\n",
       "      <td>03/07</td>\n",
       "      <td>Cihideung</td>\n",
       "      <td>Parongpong</td>\n",
       "      <td>Kabupaten Bandung Barat</td>\n",
       "      <td>.</td>\n",
       "      <td>SMP</td>\n",
       "      <td>1</td>\n",
       "      <td>0</td>\n",
       "      <td>.</td>\n",
       "      <td>4</td>\n",
       "      <td>Kepala rumah tangga</td>\n",
       "      <td>Rp3.000.000-Rp3.999.999</td>\n",
       "      <td>Rp3.000.000-Rp3.999.999</td>\n",
       "      <td>Tidak ada</td>\n",
       "      <td>Gojek</td>\n",
       "      <td>Di atas 10 jam</td>\n",
       "      <td>Pribadi</td>\n",
       "      <td>7-9 tahun</td>\n",
       "      <td>Ya</td>\n",
       "      <td>1</td>\n",
       "      <td>Orang Tua</td>\n",
       "    </tr>\n",
       "  </tbody>\n",
       "</table>\n",
       "</div>"
      ],
      "text/plain": [
       "\n",
       "     +-------------------------------------------------------------------------+\n",
       "  1. | usia  | perempuan  |  status~h  |               alamat_ja  |  alamat~w  |\n",
       "     |   26  | Laki-laki  |   Menikah  |          Jl. Cihanjuang  |     03/18  |\n",
       "     |---------------------------------+---------------------------------------|\n",
       "     |     alamat_kel  |   alamat_kec  |           alamat_kabkota  |  kodepos  |\n",
       "     |        Cibabat  | Cimahi Utara  |              Kota Cimahi  |        .  |\n",
       "     |-------------------------------------------------------------------------|\n",
       "     |   pendid~n   |   jml_mo~r   |   jml_mo~l   |   jml_se~a   |   jml_art   |\n",
       "     |    SMA/SMK   |          1   |          0   |          .   |         3   |\n",
       "     |-------------------------------------------------------------------------|\n",
       "     |           posisi_rt |     penghasilan_pribadi |    penghasilan_keluarga |\n",
       "     | Kepala rumah tangga | Rp5.000.000-Rp5.999.999 | Rp5.000.000-Rp5.999.999 |\n",
       "     |-------------------------------------------------------------------------|\n",
       "     |            pekerjaan_selain  |              platform  |     jam_online  |\n",
       "     | Karyawan Swasta (Full-time)  | Gojek, Grab, Indriver  |        2-4 jam  |\n",
       "     |-------------------------------------------------------------------------|\n",
       "     |  status~n   |  lama_dr~r   |  ojek_k~l   |   total_~n   |   kelompo~a   |\n",
       "     |   Pribadi   |  1-3 tahun   |     Tidak   |          1   |        Muda   |\n",
       "     +-------------------------------------------------------------------------+\n",
       "\n",
       "     +-------------------------------------------------------------------------+\n",
       "  2. | usia  | perempuan  |  status~h  |               alamat_ja  |  alamat~w  |\n",
       "     |   52  | Laki-laki  |   Menikah  |     Jalan A.H. Nasution  |     02/02  |\n",
       "     |---------------------------------+---------------------------------------|\n",
       "     |     alamat_kel  |   alamat_kec  |           alamat_kabkota  |  kodepos  |\n",
       "     | Cipadung Wetan  |  Panyileukan  |             Kota Bandung  |        .  |\n",
       "     |-------------------------------------------------------------------------|\n",
       "     |   pendid~n   |   jml_mo~r   |   jml_mo~l   |   jml_se~a   |   jml_art   |\n",
       "     |    SMA/SMK   |          1   |          0   |          .   |         4   |\n",
       "     |-------------------------------------------------------------------------|\n",
       "     |           posisi_rt |     penghasilan_pribadi |    penghasilan_keluarga |\n",
       "     | Kepala rumah tangga | Rp4.000.000-Rp4.999.999 | Rp5.000.000-Rp5.999.999 |\n",
       "     |-------------------------------------------------------------------------|\n",
       "     |            pekerjaan_selain  |              platform  |     jam_online  |\n",
       "     |                Wirausahawan  |           Gojek, Grab  |       8-10 jam  |\n",
       "     |-------------------------------------------------------------------------|\n",
       "     |  status~n   |  lama_dr~r   |  ojek_k~l   |   total_~n   |   kelompo~a   |\n",
       "     |   Pribadi   |  5-7 tahun   |     Tidak   |          1   |   Orang Tua   |\n",
       "     +-------------------------------------------------------------------------+\n",
       "\n",
       "     +-------------------------------------------------------------------------+\n",
       "  3. | usia  | perempuan  |  status~h  |               alamat_ja  |  alamat~w  |\n",
       "     |   35  | Laki-laki  |   Menikah  |    Jl. Sederhana No. 29  |     04/10  |\n",
       "     |---------------------------------+---------------------------------------|\n",
       "     |     alamat_kel  |   alamat_kec  |           alamat_kabkota  |  kodepos  |\n",
       "     |        Pasteur  |     Sukajadi  |             Kota Bandung  |        .  |\n",
       "     |-------------------------------------------------------------------------|\n",
       "     |   pendid~n   |   jml_mo~r   |   jml_mo~l   |   jml_se~a   |   jml_art   |\n",
       "     |    SMA/SMK   |          1   |          0   |          1   |         3   |\n",
       "     |-------------------------------------------------------------------------|\n",
       "     |           posisi_rt |     penghasilan_pribadi |    penghasilan_keluarga |\n",
       "     | Kepala rumah tangga | Rp3.000.000-Rp3.999.999 | Rp5.000.000-Rp5.999.999 |\n",
       "     |-------------------------------------------------------------------------|\n",
       "     |            pekerjaan_selain  |              platform  |     jam_online  |\n",
       "     |                   Tidak ada  |                 Gojek  | Di atas 10 jam  |\n",
       "     |-------------------------------------------------------------------------|\n",
       "     |  status~n   |  lama_dr~r   |  ojek_k~l   |   total_~n   |   kelompo~a   |\n",
       "     |   Pribadi   |  5-7 tahun   |     Tidak   |          2   |        Muda   |\n",
       "     +-------------------------------------------------------------------------+\n",
       "\n",
       "     +-------------------------------------------------------------------------+\n",
       "  4. | usia  | perempuan  |  status~h  |               alamat_ja  |  alamat~w  |\n",
       "     |   70  | Laki-laki  |   Menikah  |  Jl. Gegerkalong Girang  |     02/01  |\n",
       "     |---------------------------------+---------------------------------------|\n",
       "     |     alamat_kel  |   alamat_kec  |           alamat_kabkota  |  kodepos  |\n",
       "     |    Gegerkalong  |     Sukasari  |             Kota Bandung  |        .  |\n",
       "     |-------------------------------------------------------------------------|\n",
       "     |   pendid~n   |   jml_mo~r   |   jml_mo~l   |   jml_se~a   |   jml_art   |\n",
       "     |        SMP   |          1   |          0   |          .   |         2   |\n",
       "     |-------------------------------------------------------------------------|\n",
       "     |           posisi_rt |     penghasilan_pribadi |    penghasilan_keluarga |\n",
       "     | Kepala rumah tangga | Rp3.000.000-Rp3.999.999 | Rp3.000.000-Rp3.999.999 |\n",
       "     |-------------------------------------------------------------------------|\n",
       "     |            pekerjaan_selain  |              platform  |     jam_online  |\n",
       "     |                   Tidak ada  |                 Gojek  |       8-10 jam  |\n",
       "     |-------------------------------------------------------------------------|\n",
       "     |  status~n   |  lama_dr~r   |  ojek_k~l   |   total_~n   |   kelompo~a   |\n",
       "     |   Pribadi   |  5-7 tahun   |        Ya   |          1   |   Orang Tua   |\n",
       "     +-------------------------------------------------------------------------+\n",
       "\n",
       "     +-------------------------------------------------------------------------+\n",
       "  5. | usia  | perempuan  |  status~h  |               alamat_ja  |  alamat~w  |\n",
       "     |   41  | Laki-laki  |   Menikah  |       Jl. Sersan Bajuri  |     03/07  |\n",
       "     |---------------------------------+---------------------------------------|\n",
       "     |     alamat_kel  |   alamat_kec  |           alamat_kabkota  |  kodepos  |\n",
       "     |      Cihideung  |   Parongpong  |  Kabupaten Bandung Barat  |        .  |\n",
       "     |-------------------------------------------------------------------------|\n",
       "     |   pendid~n   |   jml_mo~r   |   jml_mo~l   |   jml_se~a   |   jml_art   |\n",
       "     |        SMP   |          1   |          0   |          .   |         4   |\n",
       "     |-------------------------------------------------------------------------|\n",
       "     |           posisi_rt |     penghasilan_pribadi |    penghasilan_keluarga |\n",
       "     | Kepala rumah tangga | Rp3.000.000-Rp3.999.999 | Rp3.000.000-Rp3.999.999 |\n",
       "     |-------------------------------------------------------------------------|\n",
       "     |            pekerjaan_selain  |              platform  |     jam_online  |\n",
       "     |                   Tidak ada  |                 Gojek  | Di atas 10 jam  |\n",
       "     |-------------------------------------------------------------------------|\n",
       "     |  status~n   |  lama_dr~r   |  ojek_k~l   |   total_~n   |   kelompo~a   |\n",
       "     |   Pribadi   |  7-9 tahun   |        Ya   |          1   |   Orang Tua   |\n",
       "     +-------------------------------------------------------------------------+\n",
       "\n"
      ]
     },
     "metadata": {},
     "output_type": "display_data"
    }
   ],
   "source": [
    "%head 5"
   ]
  },
  {
   "cell_type": "code",
   "execution_count": 89,
   "id": "5eea5cbc-54b8-415d-a7fa-246068798b90",
   "metadata": {
    "tags": []
   },
   "outputs": [],
   "source": [
    "keep usia penghasilan_pribadi penghasilan_keluarga pekerjaan_selain"
   ]
  },
  {
   "cell_type": "code",
   "execution_count": 90,
   "id": "ede8339f-7b16-432a-b93a-32553fca5b5b",
   "metadata": {
    "tags": []
   },
   "outputs": [
    {
     "data": {
      "text/html": [
       "<div>\n",
       "<style scoped>\n",
       "    .dataframe tbody tr th:only-of-type {\n",
       "        vertical-align: middle;\n",
       "    }\n",
       "\n",
       "    .dataframe tbody tr th {\n",
       "        vertical-align: top;\n",
       "    }\n",
       "\n",
       "    .dataframe thead th {\n",
       "        text-align: right;\n",
       "    }\n",
       "</style>\n",
       "<table border=\"1\" class=\"dataframe\">\n",
       "  <thead>\n",
       "    <tr style=\"text-align: right;\">\n",
       "      <th></th>\n",
       "      <th>usia</th>\n",
       "      <th>penghasilan_pribadi</th>\n",
       "      <th>penghasilan_keluarga</th>\n",
       "      <th>pekerjaan_selain</th>\n",
       "    </tr>\n",
       "  </thead>\n",
       "  <tbody>\n",
       "    <tr>\n",
       "      <th>1</th>\n",
       "      <td>26</td>\n",
       "      <td>Rp5.000.000-Rp5.999.999</td>\n",
       "      <td>Rp5.000.000-Rp5.999.999</td>\n",
       "      <td>Karyawan Swasta (Full-time)</td>\n",
       "    </tr>\n",
       "    <tr>\n",
       "      <th>2</th>\n",
       "      <td>52</td>\n",
       "      <td>Rp4.000.000-Rp4.999.999</td>\n",
       "      <td>Rp5.000.000-Rp5.999.999</td>\n",
       "      <td>Wirausahawan</td>\n",
       "    </tr>\n",
       "    <tr>\n",
       "      <th>3</th>\n",
       "      <td>35</td>\n",
       "      <td>Rp3.000.000-Rp3.999.999</td>\n",
       "      <td>Rp5.000.000-Rp5.999.999</td>\n",
       "      <td>Tidak ada</td>\n",
       "    </tr>\n",
       "    <tr>\n",
       "      <th>4</th>\n",
       "      <td>70</td>\n",
       "      <td>Rp3.000.000-Rp3.999.999</td>\n",
       "      <td>Rp3.000.000-Rp3.999.999</td>\n",
       "      <td>Tidak ada</td>\n",
       "    </tr>\n",
       "    <tr>\n",
       "      <th>5</th>\n",
       "      <td>41</td>\n",
       "      <td>Rp3.000.000-Rp3.999.999</td>\n",
       "      <td>Rp3.000.000-Rp3.999.999</td>\n",
       "      <td>Tidak ada</td>\n",
       "    </tr>\n",
       "  </tbody>\n",
       "</table>\n",
       "</div>"
      ],
      "text/plain": [
       "\n",
       "     +----------------------------------------------------------+\n",
       "  1. | usia |     penghasilan_pribadi |    penghasilan_keluarga |\n",
       "     |   26 | Rp5.000.000-Rp5.999.999 | Rp5.000.000-Rp5.999.999 |\n",
       "     |----------------------------------------------------------|\n",
       "     |                          pekerjaan_selain                |\n",
       "     |               Karyawan Swasta (Full-time)                |\n",
       "     +----------------------------------------------------------+\n",
       "\n",
       "     +----------------------------------------------------------+\n",
       "  2. | usia |     penghasilan_pribadi |    penghasilan_keluarga |\n",
       "     |   52 | Rp4.000.000-Rp4.999.999 | Rp5.000.000-Rp5.999.999 |\n",
       "     |----------------------------------------------------------|\n",
       "     |                          pekerjaan_selain                |\n",
       "     |                              Wirausahawan                |\n",
       "     +----------------------------------------------------------+\n",
       "\n",
       "     +----------------------------------------------------------+\n",
       "  3. | usia |     penghasilan_pribadi |    penghasilan_keluarga |\n",
       "     |   35 | Rp3.000.000-Rp3.999.999 | Rp5.000.000-Rp5.999.999 |\n",
       "     |----------------------------------------------------------|\n",
       "     |                          pekerjaan_selain                |\n",
       "     |                                 Tidak ada                |\n",
       "     +----------------------------------------------------------+\n",
       "\n",
       "     +----------------------------------------------------------+\n",
       "  4. | usia |     penghasilan_pribadi |    penghasilan_keluarga |\n",
       "     |   70 | Rp3.000.000-Rp3.999.999 | Rp3.000.000-Rp3.999.999 |\n",
       "     |----------------------------------------------------------|\n",
       "     |                          pekerjaan_selain                |\n",
       "     |                                 Tidak ada                |\n",
       "     +----------------------------------------------------------+\n",
       "\n",
       "     +----------------------------------------------------------+\n",
       "  5. | usia |     penghasilan_pribadi |    penghasilan_keluarga |\n",
       "     |   41 | Rp3.000.000-Rp3.999.999 | Rp3.000.000-Rp3.999.999 |\n",
       "     |----------------------------------------------------------|\n",
       "     |                          pekerjaan_selain                |\n",
       "     |                                 Tidak ada                |\n",
       "     +----------------------------------------------------------+\n",
       "\n"
      ]
     },
     "metadata": {},
     "output_type": "display_data"
    }
   ],
   "source": [
    "%head 5"
   ]
  },
  {
   "cell_type": "markdown",
   "id": "fe8fc5ad-2d9b-42c6-8599-8f86f6cd8afc",
   "metadata": {},
   "source": [
    "Keep dan drop ini bisa digunakan menggunakan perintah kondisional (if) atau number of observation untuk menghapus atau tetap menyimpan suatu observasi"
   ]
  },
  {
   "cell_type": "code",
   "execution_count": 91,
   "id": "0045cd2b-5051-4cd2-bc09-c9fe793ce687",
   "metadata": {
    "tags": []
   },
   "outputs": [
    {
     "name": "stdout",
     "output_type": "stream",
     "text": [
      "(1 observation deleted)\n"
     ]
    }
   ],
   "source": [
    "drop if usia > 65"
   ]
  },
  {
   "cell_type": "code",
   "execution_count": 92,
   "id": "80e9d5ae-3422-42bb-a305-c075064f010f",
   "metadata": {
    "tags": []
   },
   "outputs": [
    {
     "name": "stdout",
     "output_type": "stream",
     "text": [
      "\n",
      "    Variable |        Obs        Mean    Std. dev.       Min        Max\n",
      "-------------+---------------------------------------------------------\n",
      "        usia |         13          39    8.897565         26         55\n"
     ]
    }
   ],
   "source": [
    "summarize usia"
   ]
  },
  {
   "cell_type": "code",
   "execution_count": 93,
   "id": "4e57bbe7-cc3d-4359-b279-b9951ed90bc6",
   "metadata": {
    "tags": []
   },
   "outputs": [
    {
     "name": "stdout",
     "output_type": "stream",
     "text": [
      "(3 observations deleted)\n"
     ]
    }
   ],
   "source": [
    "keep if pekerjaan_selain == \"Tidak ada\""
   ]
  },
  {
   "cell_type": "code",
   "execution_count": 94,
   "id": "4d5f2670-13ee-4422-abe0-f25d56e3e1e4",
   "metadata": {
    "tags": []
   },
   "outputs": [
    {
     "name": "stdout",
     "output_type": "stream",
     "text": [
      "\n",
      "           pekerjaan_selain |      Freq.     Percent        Cum.\n",
      "----------------------------+-----------------------------------\n",
      "                  Tidak ada |         10      100.00      100.00\n",
      "----------------------------+-----------------------------------\n",
      "                      Total |         10      100.00\n"
     ]
    }
   ],
   "source": [
    "tab pekerjaan_selain"
   ]
  },
  {
   "cell_type": "markdown",
   "id": "8796611a-e822-42a3-868a-631e99afb996",
   "metadata": {},
   "source": [
    "#### Sorting Data"
   ]
  },
  {
   "cell_type": "markdown",
   "id": "3dde5aa1-e98b-4b62-bb6e-6941218cea3a",
   "metadata": {
    "tags": []
   },
   "source": [
    "Untuk melakukan sorting data digunakan perintah `sort`. Sorting ini bisa dilakukan melalui 1 atau lebih variabel"
   ]
  },
  {
   "cell_type": "code",
   "execution_count": 95,
   "id": "78edd954-9462-4e59-80b2-49434708bfbb",
   "metadata": {
    "tags": []
   },
   "outputs": [
    {
     "data": {
      "text/html": [
       "<div>\n",
       "<style scoped>\n",
       "    .dataframe tbody tr th:only-of-type {\n",
       "        vertical-align: middle;\n",
       "    }\n",
       "\n",
       "    .dataframe tbody tr th {\n",
       "        vertical-align: top;\n",
       "    }\n",
       "\n",
       "    .dataframe thead th {\n",
       "        text-align: right;\n",
       "    }\n",
       "</style>\n",
       "<table border=\"1\" class=\"dataframe\">\n",
       "  <thead>\n",
       "    <tr style=\"text-align: right;\">\n",
       "      <th></th>\n",
       "      <th>usia</th>\n",
       "      <th>penghasilan_pribadi</th>\n",
       "      <th>penghasilan_keluarga</th>\n",
       "      <th>pekerjaan_selain</th>\n",
       "    </tr>\n",
       "  </thead>\n",
       "  <tbody>\n",
       "    <tr>\n",
       "      <th>1</th>\n",
       "      <td>35</td>\n",
       "      <td>Rp3.000.000-Rp3.999.999</td>\n",
       "      <td>Rp5.000.000-Rp5.999.999</td>\n",
       "      <td>Tidak ada</td>\n",
       "    </tr>\n",
       "    <tr>\n",
       "      <th>2</th>\n",
       "      <td>41</td>\n",
       "      <td>Rp3.000.000-Rp3.999.999</td>\n",
       "      <td>Rp3.000.000-Rp3.999.999</td>\n",
       "      <td>Tidak ada</td>\n",
       "    </tr>\n",
       "    <tr>\n",
       "      <th>3</th>\n",
       "      <td>42</td>\n",
       "      <td>Rp2.000.000-Rp2.999.999</td>\n",
       "      <td>Rp5.000.000-Rp5.999.999</td>\n",
       "      <td>Tidak ada</td>\n",
       "    </tr>\n",
       "    <tr>\n",
       "      <th>4</th>\n",
       "      <td>47</td>\n",
       "      <td>Rp3.000.000-Rp3.999.999</td>\n",
       "      <td>Rp3.000.000-Rp3.999.999</td>\n",
       "      <td>Tidak ada</td>\n",
       "    </tr>\n",
       "    <tr>\n",
       "      <th>5</th>\n",
       "      <td>30</td>\n",
       "      <td>Rp4.000.000-Rp4.999.999</td>\n",
       "      <td>Rp9.000.000-Rp9.999.999</td>\n",
       "      <td>Tidak ada</td>\n",
       "    </tr>\n",
       "  </tbody>\n",
       "</table>\n",
       "</div>"
      ],
      "text/plain": [
       "\n",
       "     +----------------------------------------------------------------------+\n",
       "     | usia       penghasilan_pribadi      penghasilan_keluarga   pekerja~n |\n",
       "     |----------------------------------------------------------------------|\n",
       "  1. |   35   Rp3.000.000-Rp3.999.999   Rp5.000.000-Rp5.999.999   Tidak ada |\n",
       "  2. |   41   Rp3.000.000-Rp3.999.999   Rp3.000.000-Rp3.999.999   Tidak ada |\n",
       "  3. |   42   Rp2.000.000-Rp2.999.999   Rp5.000.000-Rp5.999.999   Tidak ada |\n",
       "  4. |   47   Rp3.000.000-Rp3.999.999   Rp3.000.000-Rp3.999.999   Tidak ada |\n",
       "  5. |   30   Rp4.000.000-Rp4.999.999   Rp9.000.000-Rp9.999.999   Tidak ada |\n",
       "     +----------------------------------------------------------------------+\n",
       "\n"
      ]
     },
     "metadata": {},
     "output_type": "display_data"
    }
   ],
   "source": [
    "%head 5"
   ]
  },
  {
   "cell_type": "code",
   "execution_count": 96,
   "id": "5c940c7a-66a5-437d-90f8-4d924dbcfaa8",
   "metadata": {
    "tags": []
   },
   "outputs": [],
   "source": [
    "sort usia"
   ]
  },
  {
   "cell_type": "code",
   "execution_count": 97,
   "id": "53b92a91-927d-4a6e-b3bd-145d78a84176",
   "metadata": {
    "tags": []
   },
   "outputs": [
    {
     "data": {
      "text/html": [
       "<div>\n",
       "<style scoped>\n",
       "    .dataframe tbody tr th:only-of-type {\n",
       "        vertical-align: middle;\n",
       "    }\n",
       "\n",
       "    .dataframe tbody tr th {\n",
       "        vertical-align: top;\n",
       "    }\n",
       "\n",
       "    .dataframe thead th {\n",
       "        text-align: right;\n",
       "    }\n",
       "</style>\n",
       "<table border=\"1\" class=\"dataframe\">\n",
       "  <thead>\n",
       "    <tr style=\"text-align: right;\">\n",
       "      <th></th>\n",
       "      <th>usia</th>\n",
       "      <th>penghasilan_pribadi</th>\n",
       "      <th>penghasilan_keluarga</th>\n",
       "      <th>pekerjaan_selain</th>\n",
       "    </tr>\n",
       "  </thead>\n",
       "  <tbody>\n",
       "    <tr>\n",
       "      <th>1</th>\n",
       "      <td>30</td>\n",
       "      <td>Rp4.000.000-Rp4.999.999</td>\n",
       "      <td>Rp9.000.000-Rp9.999.999</td>\n",
       "      <td>Tidak ada</td>\n",
       "    </tr>\n",
       "    <tr>\n",
       "      <th>2</th>\n",
       "      <td>31</td>\n",
       "      <td>Rp1.000.000-Rp.1.999.999</td>\n",
       "      <td>Rp5.000.000-Rp5.999.999</td>\n",
       "      <td>Tidak ada</td>\n",
       "    </tr>\n",
       "    <tr>\n",
       "      <th>3</th>\n",
       "      <td>31</td>\n",
       "      <td>Di bawah Rp1.000.000</td>\n",
       "      <td>Rp4.000.000-Rp4.999.999</td>\n",
       "      <td>Tidak ada</td>\n",
       "    </tr>\n",
       "    <tr>\n",
       "      <th>4</th>\n",
       "      <td>35</td>\n",
       "      <td>Rp3.000.000-Rp3.999.999</td>\n",
       "      <td>Rp5.000.000-Rp5.999.999</td>\n",
       "      <td>Tidak ada</td>\n",
       "    </tr>\n",
       "    <tr>\n",
       "      <th>5</th>\n",
       "      <td>36</td>\n",
       "      <td>Rp4.000.000-Rp4.999.999</td>\n",
       "      <td>Di bawah Rp1.000.000</td>\n",
       "      <td>Tidak ada</td>\n",
       "    </tr>\n",
       "  </tbody>\n",
       "</table>\n",
       "</div>"
      ],
      "text/plain": [
       "\n",
       "     +-----------------------------------------------------------------------+\n",
       "     | usia        penghasilan_pribadi      penghasilan_keluarga   pekerja~n |\n",
       "     |-----------------------------------------------------------------------|\n",
       "  1. |   30    Rp4.000.000-Rp4.999.999   Rp9.000.000-Rp9.999.999   Tidak ada |\n",
       "  2. |   31   Rp1.000.000-Rp.1.999.999   Rp5.000.000-Rp5.999.999   Tidak ada |\n",
       "  3. |   31       Di bawah Rp1.000.000   Rp4.000.000-Rp4.999.999   Tidak ada |\n",
       "  4. |   35    Rp3.000.000-Rp3.999.999   Rp5.000.000-Rp5.999.999   Tidak ada |\n",
       "  5. |   36    Rp4.000.000-Rp4.999.999      Di bawah Rp1.000.000   Tidak ada |\n",
       "     +-----------------------------------------------------------------------+\n",
       "\n"
      ]
     },
     "metadata": {},
     "output_type": "display_data"
    }
   ],
   "source": [
    "%head 5"
   ]
  },
  {
   "cell_type": "code",
   "execution_count": 98,
   "id": "6534898c-1ae9-4bc9-a3e4-d967af05f918",
   "metadata": {
    "tags": []
   },
   "outputs": [],
   "source": [
    "sort usia penghasilan_pribadi"
   ]
  },
  {
   "cell_type": "code",
   "execution_count": 99,
   "id": "09689633-3f49-44f3-837e-c4e0652df187",
   "metadata": {
    "tags": []
   },
   "outputs": [
    {
     "data": {
      "text/html": [
       "<div>\n",
       "<style scoped>\n",
       "    .dataframe tbody tr th:only-of-type {\n",
       "        vertical-align: middle;\n",
       "    }\n",
       "\n",
       "    .dataframe tbody tr th {\n",
       "        vertical-align: top;\n",
       "    }\n",
       "\n",
       "    .dataframe thead th {\n",
       "        text-align: right;\n",
       "    }\n",
       "</style>\n",
       "<table border=\"1\" class=\"dataframe\">\n",
       "  <thead>\n",
       "    <tr style=\"text-align: right;\">\n",
       "      <th></th>\n",
       "      <th>usia</th>\n",
       "      <th>penghasilan_pribadi</th>\n",
       "      <th>penghasilan_keluarga</th>\n",
       "      <th>pekerjaan_selain</th>\n",
       "    </tr>\n",
       "  </thead>\n",
       "  <tbody>\n",
       "    <tr>\n",
       "      <th>1</th>\n",
       "      <td>30</td>\n",
       "      <td>Rp4.000.000-Rp4.999.999</td>\n",
       "      <td>Rp9.000.000-Rp9.999.999</td>\n",
       "      <td>Tidak ada</td>\n",
       "    </tr>\n",
       "    <tr>\n",
       "      <th>2</th>\n",
       "      <td>31</td>\n",
       "      <td>Di bawah Rp1.000.000</td>\n",
       "      <td>Rp4.000.000-Rp4.999.999</td>\n",
       "      <td>Tidak ada</td>\n",
       "    </tr>\n",
       "    <tr>\n",
       "      <th>3</th>\n",
       "      <td>31</td>\n",
       "      <td>Rp1.000.000-Rp.1.999.999</td>\n",
       "      <td>Rp5.000.000-Rp5.999.999</td>\n",
       "      <td>Tidak ada</td>\n",
       "    </tr>\n",
       "    <tr>\n",
       "      <th>4</th>\n",
       "      <td>35</td>\n",
       "      <td>Rp3.000.000-Rp3.999.999</td>\n",
       "      <td>Rp5.000.000-Rp5.999.999</td>\n",
       "      <td>Tidak ada</td>\n",
       "    </tr>\n",
       "    <tr>\n",
       "      <th>5</th>\n",
       "      <td>36</td>\n",
       "      <td>Rp3.000.000-Rp3.999.999</td>\n",
       "      <td>Rp3.000.000-Rp3.999.999</td>\n",
       "      <td>Tidak ada</td>\n",
       "    </tr>\n",
       "  </tbody>\n",
       "</table>\n",
       "</div>"
      ],
      "text/plain": [
       "\n",
       "     +-----------------------------------------------------------------------+\n",
       "     | usia        penghasilan_pribadi      penghasilan_keluarga   pekerja~n |\n",
       "     |-----------------------------------------------------------------------|\n",
       "  1. |   30    Rp4.000.000-Rp4.999.999   Rp9.000.000-Rp9.999.999   Tidak ada |\n",
       "  2. |   31       Di bawah Rp1.000.000   Rp4.000.000-Rp4.999.999   Tidak ada |\n",
       "  3. |   31   Rp1.000.000-Rp.1.999.999   Rp5.000.000-Rp5.999.999   Tidak ada |\n",
       "  4. |   35    Rp3.000.000-Rp3.999.999   Rp5.000.000-Rp5.999.999   Tidak ada |\n",
       "  5. |   36    Rp3.000.000-Rp3.999.999   Rp3.000.000-Rp3.999.999   Tidak ada |\n",
       "     +-----------------------------------------------------------------------+\n",
       "\n"
      ]
     },
     "metadata": {},
     "output_type": "display_data"
    }
   ],
   "source": [
    "%head 5"
   ]
  },
  {
   "cell_type": "markdown",
   "id": "9f63109f-b999-49d9-a423-d759e1061fd1",
   "metadata": {},
   "source": [
    "Selain itu, sorting juga bisa dilakukan dengan variasi ascending, descending, serta kombinasi keduanya. Hal ini bisa dilakukan melalui `gsort`"
   ]
  },
  {
   "cell_type": "code",
   "execution_count": 100,
   "id": "ca8648a5-ffaf-4f6f-837d-c2befa132c03",
   "metadata": {
    "tags": []
   },
   "outputs": [],
   "source": [
    "gsort -usia +penghasilan_pribadi // descending usia, ascending penghasilan_pribadi"
   ]
  },
  {
   "cell_type": "code",
   "execution_count": 101,
   "id": "fcc4cca4-4fda-41cf-a587-77baef6a3f44",
   "metadata": {
    "tags": []
   },
   "outputs": [
    {
     "data": {
      "text/html": [
       "<div>\n",
       "<style scoped>\n",
       "    .dataframe tbody tr th:only-of-type {\n",
       "        vertical-align: middle;\n",
       "    }\n",
       "\n",
       "    .dataframe tbody tr th {\n",
       "        vertical-align: top;\n",
       "    }\n",
       "\n",
       "    .dataframe thead th {\n",
       "        text-align: right;\n",
       "    }\n",
       "</style>\n",
       "<table border=\"1\" class=\"dataframe\">\n",
       "  <thead>\n",
       "    <tr style=\"text-align: right;\">\n",
       "      <th></th>\n",
       "      <th>usia</th>\n",
       "      <th>penghasilan_pribadi</th>\n",
       "      <th>penghasilan_keluarga</th>\n",
       "      <th>pekerjaan_selain</th>\n",
       "    </tr>\n",
       "  </thead>\n",
       "  <tbody>\n",
       "    <tr>\n",
       "      <th>1</th>\n",
       "      <td>55</td>\n",
       "      <td>Rp2.000.000-Rp2.999.999</td>\n",
       "      <td>Rp2.000.000-Rp2.999.999</td>\n",
       "      <td>Tidak ada</td>\n",
       "    </tr>\n",
       "    <tr>\n",
       "      <th>2</th>\n",
       "      <td>47</td>\n",
       "      <td>Rp3.000.000-Rp3.999.999</td>\n",
       "      <td>Rp3.000.000-Rp3.999.999</td>\n",
       "      <td>Tidak ada</td>\n",
       "    </tr>\n",
       "    <tr>\n",
       "      <th>3</th>\n",
       "      <td>42</td>\n",
       "      <td>Rp2.000.000-Rp2.999.999</td>\n",
       "      <td>Rp5.000.000-Rp5.999.999</td>\n",
       "      <td>Tidak ada</td>\n",
       "    </tr>\n",
       "    <tr>\n",
       "      <th>4</th>\n",
       "      <td>41</td>\n",
       "      <td>Rp3.000.000-Rp3.999.999</td>\n",
       "      <td>Rp3.000.000-Rp3.999.999</td>\n",
       "      <td>Tidak ada</td>\n",
       "    </tr>\n",
       "    <tr>\n",
       "      <th>5</th>\n",
       "      <td>36</td>\n",
       "      <td>Rp3.000.000-Rp3.999.999</td>\n",
       "      <td>Rp3.000.000-Rp3.999.999</td>\n",
       "      <td>Tidak ada</td>\n",
       "    </tr>\n",
       "  </tbody>\n",
       "</table>\n",
       "</div>"
      ],
      "text/plain": [
       "\n",
       "     +----------------------------------------------------------------------+\n",
       "     | usia       penghasilan_pribadi      penghasilan_keluarga   pekerja~n |\n",
       "     |----------------------------------------------------------------------|\n",
       "  1. |   55   Rp2.000.000-Rp2.999.999   Rp2.000.000-Rp2.999.999   Tidak ada |\n",
       "  2. |   47   Rp3.000.000-Rp3.999.999   Rp3.000.000-Rp3.999.999   Tidak ada |\n",
       "  3. |   42   Rp2.000.000-Rp2.999.999   Rp5.000.000-Rp5.999.999   Tidak ada |\n",
       "  4. |   41   Rp3.000.000-Rp3.999.999   Rp3.000.000-Rp3.999.999   Tidak ada |\n",
       "  5. |   36   Rp3.000.000-Rp3.999.999   Rp3.000.000-Rp3.999.999   Tidak ada |\n",
       "     +----------------------------------------------------------------------+\n",
       "\n"
      ]
     },
     "metadata": {},
     "output_type": "display_data"
    }
   ],
   "source": [
    "%head 5"
   ]
  },
  {
   "cell_type": "markdown",
   "id": "e54f04e1-4274-4633-bcb7-8f342bf064db",
   "metadata": {},
   "source": [
    "## Penutup\n",
    "\n",
    "Dengan berbagai macam materi di atas, praktikan diharap bisa familiar dengan cara kerja Stata dan Jupyter dalam memproses data. Untuk memperkaya pengetahuan praktikan di luar modul, praktikan ditugaskan untuk melakukan eksplorasi terkait beberapa topik data management di Stata. Topik itu adalah sebagai berikut.\n",
    "\n",
    "* Mengidentifikasi dan mengolah data duplikat\n",
    "* Mengolah data waktu (datetime)\n",
    "\n",
    "Bisa gunakan data yang tersedia oleh stata yang bisa diakses pada https://www.stata-press.com/data/r17/u.html. Data tersebut bisa langsung didownload atau diakses melalui command,\n",
    "\n",
    "```stata\n",
    "    webuse filename, clear\n",
    "```"
   ]
  },
  {
   "cell_type": "code",
   "execution_count": 102,
   "id": "75d676ee-6484-4c53-a084-62009d88767b",
   "metadata": {
    "tags": []
   },
   "outputs": [],
   "source": [
    "webuse datexmpl2, clear"
   ]
  },
  {
   "cell_type": "code",
   "execution_count": 103,
   "id": "187ef808-87ca-4680-a1d3-332e3ffb062d",
   "metadata": {
    "tags": []
   },
   "outputs": [
    {
     "data": {
      "text/html": [
       "<div>\n",
       "<style scoped>\n",
       "    .dataframe tbody tr th:only-of-type {\n",
       "        vertical-align: middle;\n",
       "    }\n",
       "\n",
       "    .dataframe tbody tr th {\n",
       "        vertical-align: top;\n",
       "    }\n",
       "\n",
       "    .dataframe thead th {\n",
       "        text-align: right;\n",
       "    }\n",
       "</style>\n",
       "<table border=\"1\" class=\"dataframe\">\n",
       "  <thead>\n",
       "    <tr style=\"text-align: right;\">\n",
       "      <th></th>\n",
       "      <th>id</th>\n",
       "      <th>timestamp</th>\n",
       "      <th>action</th>\n",
       "    </tr>\n",
       "  </thead>\n",
       "  <tbody>\n",
       "    <tr>\n",
       "      <th>1</th>\n",
       "      <td>1001</td>\n",
       "      <td>Tue Nov 14 08:59:43 CST 2006</td>\n",
       "      <td>15</td>\n",
       "    </tr>\n",
       "    <tr>\n",
       "      <th>2</th>\n",
       "      <td>1002</td>\n",
       "      <td>Wed Nov 15 07:36:49 CST 2006</td>\n",
       "      <td>15</td>\n",
       "    </tr>\n",
       "    <tr>\n",
       "      <th>3</th>\n",
       "      <td>1003</td>\n",
       "      <td>Wed Nov 15 09:21:07 CST 2006</td>\n",
       "      <td>11</td>\n",
       "    </tr>\n",
       "    <tr>\n",
       "      <th>4</th>\n",
       "      <td>1002</td>\n",
       "      <td>Wed Nov 15 14:57:36 CST 2006</td>\n",
       "      <td>16</td>\n",
       "    </tr>\n",
       "    <tr>\n",
       "      <th>5</th>\n",
       "      <td>1005</td>\n",
       "      <td>Thu Nov 16 08:22:53 CST 2006</td>\n",
       "      <td>12</td>\n",
       "    </tr>\n",
       "  </tbody>\n",
       "</table>\n",
       "</div>"
      ],
      "text/plain": [
       "\n",
       "     +----------------------------------------------+\n",
       "     |   id                      timestamp   action |\n",
       "     |----------------------------------------------|\n",
       "  1. | 1001   Tue Nov 14 08:59:43 CST 2006       15 |\n",
       "  2. | 1002   Wed Nov 15 07:36:49 CST 2006       15 |\n",
       "  3. | 1003   Wed Nov 15 09:21:07 CST 2006       11 |\n",
       "  4. | 1002   Wed Nov 15 14:57:36 CST 2006       16 |\n",
       "  5. | 1005   Thu Nov 16 08:22:53 CST 2006       12 |\n",
       "     +----------------------------------------------+\n",
       "\n"
      ]
     },
     "metadata": {},
     "output_type": "display_data"
    }
   ],
   "source": [
    "%head 5"
   ]
  }
 ],
 "metadata": {
  "kernelspec": {
   "display_name": "Stata",
   "language": "stata",
   "name": "stata"
  },
  "language_info": {
   "codemirror_mode": "stata",
   "file_extension": ".do",
   "mimetype": "text/x-stata",
   "name": "stata",
   "version": "15.1"
  }
 },
 "nbformat": 4,
 "nbformat_minor": 5
}
