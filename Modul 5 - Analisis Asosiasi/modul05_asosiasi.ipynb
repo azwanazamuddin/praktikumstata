{
 "cells": [
  {
   "cell_type": "markdown",
   "id": "8f0b9cee-7491-47b2-a55e-b12e15c32d26",
   "metadata": {},
   "source": [
    "# Modul 5: Analisis Asosiasi"
   ]
  },
  {
   "cell_type": "markdown",
   "id": "9f121549-77de-4232-9a37-36816670d9cf",
   "metadata": {},
   "source": [
    "### Objectives Praktikum"
   ]
  },
  {
   "cell_type": "markdown",
   "id": "404c5b06-f244-4428-9733-f2625da9a377",
   "metadata": {},
   "source": [
    "1. Praktikan mampu memahami prinsip-prinsip dasar analisis statistik asosiasi\n",
    "2. Praktikan mampu melakukan uji asosiasi untuk data nominal, data ordinal, data interval rasio pada Stata & Jupyter."
   ]
  },
  {
   "cell_type": "markdown",
   "id": "46d98c9e-e1cc-4f3c-b363-791f3cd9af79",
   "metadata": {},
   "source": [
    "### Review Teori"
   ]
  },
  {
   "cell_type": "markdown",
   "id": "35edc675-cad2-4fe7-8610-2c4f85a5764a",
   "metadata": {},
   "source": [
    "Metode Analisis Asosiasi merupakan teknik statistik yang membantu untuk menilai adanya hubungan antara dua atau lebih karakteristik objek atau yang disebut sebagai variabel, dengan menjawab beberapa pertanyaan tentang:"
   ]
  },
  {
   "cell_type": "markdown",
   "id": "2f816a7d-b7e9-4385-bfda-46989d588e9f",
   "metadata": {},
   "source": [
    "1. Keberadaan hubungan, yang berkaitan dengan ada atau tidaknya hubungan antara dua variabel yang diuji.\n",
    "2. Keeratan hubungan, yang berkaitan dengan derajat hubungan antar variabel (apakah hubungan sangat erat, cukup erat, atau lemah)\n",
    "3. Arah hubungan, yang berkaitan dengan arah hubungan yang sama atau berbeda antara satu variabel dengan variabel lainnya yang ditunjukan dengan positif atau negatifnya nilai koefisien\n",
    "4. Sifat hubungan, berkaitan dengan pola hubungan yang dapat ditunjukan dengan hubungan matematis antar varaibel. (Kachigan, 1986; Healey, 2010)"
   ]
  },
  {
   "cell_type": "markdown",
   "id": "283c11e4-ba93-4001-b943-e0ae90dfa29b",
   "metadata": {},
   "source": [
    "Selain itu menurut Kachigan (1986), hubungan yang ada antar dua variabel memiliki dua tipe dasar yaitu hubungan eksperimental dan hubungan korelasional. Hubungan bersifat eksperimen didasarkan pada percobaan serta menunjukan hubungan sebab akibat, sedangkan hubungan bersifat korelasi didasarkan pada lingkungan alamiah serta tidak menunjukan hubungan sebab akibat. Terdapat beberapa metode yang dapat digunakan dalam analisis asosiasi yang bergantung pada skala pengukuran datanya, yaitu (Healey,2012): Metode Analisis Asosiasi Variabel Nominal, Metode Asosiasi Variabel Ordinal, dan Metode Asosiasi Variabel Interval Rasio. Jenis-jenis analisis yang berada dalam lingkup analisis statistik asosiasi dapat terlihat pada tabel berikut ini:\n"
   ]
  },
  {
   "cell_type": "markdown",
   "id": "385ebe69-7b74-4c68-8f7a-4e868b404ef2",
   "metadata": {
    "tags": []
   },
   "source": [
    "| Penerapan                        | Nominal                                                                 | Ordinal                                                                                                                      | Interval/Rasio                                      |\n",
    "|----------------------------------|-------------------------------------------------------------------------|-----------------------------------------------------------------------------------------------------------------------------|-----------------------------------------------------|\n",
    "| **Asosiasi Bersifat Korelatif**  | **Ukuran Korelasi Berbasis Chi-Square**<br>Koefisien Phi<br>Koefisien V Creamer<br>Koefisien Kontingensi C<br>**Ukuran Korelasi Berbasis Proportional Reduction Error (PRE)**<br>Koefisien Lambda | Ukuran Korelasi Variabel Ordinal Kontinyu<br>Koefisien Korelasi Tau Kendal<br>Koefisien Korelasi Rho Spearmen<br>Ukuran Korelasi Variabel Ordinal Collapsed<br>Koefisien Gamma<br>Koefisien d Sommer<br>Koefisien Tau-b Kendal | Koefisien Korelasi r Pearson (Product Moment) |\n",
    "| **Asosiasi Bersifat Eksperimental** |                                                                         |                                                                                                                             | Analisis Variansi (ANOVA)<br>Analisis Regresi       |\n"
   ]
  },
  {
   "cell_type": "markdown",
   "id": "b1ce4514-7979-4816-ae40-29e6bf57d220",
   "metadata": {},
   "source": [
    "Pada praktikum ini akan dilakukan analisis statistik asosiasi dengan melakukan uji asosiasi untuk data nominal yaitu Cramer’s V, untuk data ordinal collapse dengan gamma dan Kendall’s tau-b, dan untuk interval rasio dengan R-Pearson, ANOVA, serta regresi linier 1 variabel."
   ]
  },
  {
   "cell_type": "markdown",
   "id": "63f1bba0-ae90-439a-8b45-7d2cb0680a78",
   "metadata": {},
   "source": [
    "### Hands-on Praktikum\n",
    "\n",
    "Pada bagian ini akan dibahas contoh kasus, tujuan dari pengolahan, dan tahapan analisis.\n",
    "\n",
    "**Contoh Kasus:**\n",
    "\n",
    "Pemerintah Kabupaten A merencanakan sebuah program yang akan dilaksanakan di Desa B. Sebelum menerapkan program tersebut pemerintah terlebih dahulu ingin mengetahui karakteristik dari Desa B dilihat dari hubungan antara variabel pekerjaan dan jenis kelamin, variabel pendidikan terakhir dan tingkat pendapatan, kondisi jalan dan kondisi drainase, total pendapatan dan total pengeluaran, total pendapatan dan pekerjaan serta total pengeluaran dan total pendapatan. Untuk mengetahui karakteristik dari masyarakat Desa B tersebut pemerintah melakukan survei terhadap 110 masyarakat Desa B. \n",
    "\n",
    "Berdasarkan contoh kasus tersebut, maka penyelesaian dapat dilakukan dengan beberapa tahapan yaitu: (1) merumuskan pertanyaan penelitian; (2) memasukkan data pada Stata; (3) mengolah data menggunakan Stata; (4) menganalisis hasil pengolahan data dan melakukan interpretasi."
   ]
  },
  {
   "cell_type": "markdown",
   "id": "620a3b0c-6e92-4e4a-a7be-fcb50218bfbc",
   "metadata": {},
   "source": [
    "#### 1. Merumuskan Pertanyaan Penelitian\n",
    "Dari contoh kasus tersebut maka didapat beberapa pertanyaan penelitian yaitu:\n",
    "* Bagaimanakah hubungan antara variabel pekerjaan dan jenis kelamin?\n",
    "* Bagaimanakah hubungan antara variabel pendidikan terakhir dan tingkat pendapatan?\n",
    "* Bagaimanakah hubungan antara variabel kondisi jalan dan kondisi drainase?\n",
    "* Bagaimanakah hubungan antara variabel total pendapatan dan total pengeluaran?\n",
    "* Bagaimanakah hubungan antara variabel total pendapatan dan pekerjaan?\n",
    "* Bagaimanakah hubungan antara variabel total pengeluaran dan total pendapatan?"
   ]
  },
  {
   "cell_type": "markdown",
   "id": "78b6acd0-9b8f-42f4-bd7e-7a746c5f1313",
   "metadata": {
    "tags": []
   },
   "source": [
    "#### 2. Memasukkan Data"
   ]
  },
  {
   "cell_type": "code",
   "execution_count": null,
   "id": "d83f0d62-71b3-4444-8aa7-61e90de038b6",
   "metadata": {
    "tags": []
   },
   "outputs": [],
   "source": [
    "use \"data/data05.dta\""
   ]
  },
  {
   "cell_type": "code",
   "execution_count": null,
   "id": "4683424b-3fc3-4a1f-ba0f-c596e2cb22b8",
   "metadata": {
    "tags": []
   },
   "outputs": [],
   "source": [
    "%head 5"
   ]
  },
  {
   "cell_type": "markdown",
   "id": "b846d014-8ff9-4e3b-b44c-cab0041568f7",
   "metadata": {},
   "source": [
    "#### 3. Mengolah data\n",
    "\n",
    "Analisis data akan dilakukan sesuai dengan jenis variabel yang ada pada pertanyaan penelitian. "
   ]
  },
  {
   "cell_type": "markdown",
   "id": "80f271dc-f3ca-488b-ae7b-1df9213b469a",
   "metadata": {},
   "source": [
    "##### A. Nominal (Uji Cramer’s V)\n",
    "\n",
    "Untuk mengetahui hubungan antara pekerjaan dan jenis kelamin dilakukan uji Cramer’s V karena dalam analisis statistik asosiasi yang digunakan harus mengikuti data dengan skala pengukuran terendah dimana skala pengukuran dari data pekerjaan adalah nominal dan skala pengukuran dari data jenis kelamin juga nominal.\n",
    "\n",
    "Langkah Penyelesaian:\n",
    "\n",
    "Menampilkan hasil semua uji analisis statistik asosiasi."
   ]
  },
  {
   "cell_type": "code",
   "execution_count": null,
   "id": "3dde4c5b-1f9e-42af-9cfd-55726f352cce",
   "metadata": {
    "tags": []
   },
   "outputs": [],
   "source": [
    "tab Pekerjaan Jenis_Kelamin, all exact"
   ]
  },
  {
   "cell_type": "markdown",
   "id": "c0d9bafa-5fc0-48f4-888d-96369407a08e",
   "metadata": {},
   "source": [
    "Hasilnya menunjukan nilai dari setiap uji yang dilakukan pada analisis statistik asosiasi. Namun terdapat cara lain untuk mengetahui 1 nilai statistik uji yang dibutuhkan yaitu, sebagai berikut:\n",
    "\n",
    "Menampilkan hasil Uji Cramer’s V"
   ]
  },
  {
   "cell_type": "code",
   "execution_count": null,
   "id": "6ef37216-944c-48b8-b109-478a340c9198",
   "metadata": {},
   "outputs": [],
   "source": [
    "tab Pekerjaan Jenis_Kelamin , chi2 V\n"
   ]
  },
  {
   "cell_type": "markdown",
   "id": "1f333241-539c-453a-92ea-4bb8ed8a924d",
   "metadata": {},
   "source": [
    "Hipotesa:\n",
    "* H0 = Tidak ada hubungan antar kedua variabel (variabel pekerjaan\n",
    "dan jenis kelamin).\n",
    "* H1 = Ada hubungan antar kedua variabel (variabel pekerjaan dan\n",
    "jenis kelamin)."
   ]
  },
  {
   "cell_type": "markdown",
   "id": "580a0130-8875-46ee-ab8b-332f223dd68a",
   "metadata": {},
   "source": [
    "Ketika Pr atau signifikasi ≤ 0.05 maka H1 yang diterima, dan ketika Pr atau signifikasi ≥ 0.05 H0 yang diterima. Karena pada gambar diatas terlihat bahwa Pr=0.000 maka H1 yang diterima. Hal ini menunjukan bahwa terdapat hubungan antara pekerjaan dan jenis kelamin. Hal ini juga dibuktikan dengan nilai Pearson Chi2 (X2) untuk df = 9 adalah 43.8513 dimana berada di wilayah kritis (berdasarkan tabel chi square pada signifikansi 0,05) yakni X2>16,9190 sehingga H0 dapat ditolak.\n",
    "\n",
    "Ketika nilai Cramer’s V = 0 maka tidak terdapat hubungan antara pekerjaan dan jenis kelamin, dan ketika nilai Cramer’s V = 1 maka terdapat hubungan yang sangat kuat antara jenis kelamin dan pekerjaan. Sehingga, dengan nilai Cramer’s V 0.6314 menunjukan terdapat hubungan yang cukup kuat antara pekerjaan dan jenis kelamin."
   ]
  },
  {
   "cell_type": "markdown",
   "id": "65735b25-e9c6-4207-b841-391dc7af2f9c",
   "metadata": {},
   "source": [
    "##### B. Ordinal Collapse Non Matriks Persegi (Uji Gamma)"
   ]
  },
  {
   "cell_type": "code",
   "execution_count": null,
   "id": "98ec8de0-a2c9-4cb7-ad5b-dd356ffda4e3",
   "metadata": {
    "tags": []
   },
   "outputs": [],
   "source": [
    "tab Pendidikan_Terakhir tkt_pendapatn, gamma"
   ]
  },
  {
   "cell_type": "markdown",
   "id": "907ae47e-5966-4c57-a214-d6339f858f23",
   "metadata": {},
   "source": [
    "Pada hasil tersebut terlihat bahwa nilai gamma yang didapat adalah \n",
    "-0.0675. Karena nilai gamma ≠ 0 maka terdapat hubungan antara Pendidikan terakhir dan tingkat pendapatan serta semua kasus dari dua variabel tersebut diurutkan dalam urutan yang berkebalikan (karena nilai gamma negative).\n",
    "\n",
    "Untuk melihat kekuatan hubungan dari uji Gamma dapat dilihat pada tabel berikut:\n",
    "\n",
    "| Nilai Gamma | Kekuatan |\n",
    "|---------|---------|\n",
    "| 0.0-0.3 | Lemah |\n",
    "| 0.31-0.6 | Moderat |\n",
    "| >0.6 | Kuat |\n",
    "\n"
   ]
  },
  {
   "cell_type": "markdown",
   "id": "569e3261-d145-4d26-b4b8-889525fd4bb4",
   "metadata": {},
   "source": [
    "##### C. Ordinal Collapse Matriks Persegi (Uji Kendall’s tau-b)"
   ]
  },
  {
   "cell_type": "code",
   "execution_count": null,
   "id": "e832ce72-4aa4-43b5-b2b8-b79ff3e3c19b",
   "metadata": {
    "tags": []
   },
   "outputs": [],
   "source": [
    "tab Kondisi_Jalan Kondisi_Drainase, taub"
   ]
  },
  {
   "cell_type": "markdown",
   "id": "b05291f9-371c-4324-a08b-26955b65fed2",
   "metadata": {},
   "source": [
    "Apabila Kendall’s tau- b bernilai 0 maka tidak ada hubungan antara kedua variabel, dan jika nilai kendall’s tau-b adalah 1 maka terdapat hubungan sempurna antara kedua variabel dimana jika positif maka hubungannya searah dan jika negative berkebalikan. Pada hasil analisis di atas didapat nilai Kendall’s tau-b 0.0509 yang berarti terdapat hubungan antara kondisi jalan dan kondisi drainase tetapi tidak sempurna serta searah.\n"
   ]
  },
  {
   "cell_type": "markdown",
   "id": "576629d4-6b75-45ff-b0d7-95978984c61c",
   "metadata": {},
   "source": [
    "##### D. Interval Rasio (Pearson Correlation)"
   ]
  },
  {
   "cell_type": "code",
   "execution_count": null,
   "id": "b7a27aa4-8f79-4c02-9b34-b8bb655af279",
   "metadata": {
    "tags": []
   },
   "outputs": [],
   "source": [
    "correlate Total_Pendapatan Total_Pengeluaran"
   ]
  },
  {
   "cell_type": "markdown",
   "id": "cc57b99a-2fea-4a55-98cd-44a1a6ef320b",
   "metadata": {},
   "source": [
    "Berdasarkan hasil analisis di atas, didapat nilai Pearson Correlation adalah 0.2039. Sehingga nilai tersebut menunjukan terdapat hubungan antara total pendapatan dan total pengeluaran. Selain itu nilai positif menunjukan arah hubungan yang sama antara variabel total pendapatan dan total pengeluaran. Jadi, total pengeluaran akan meningkat seiring meningkatnya total pendapatan."
   ]
  },
  {
   "cell_type": "markdown",
   "id": "ee815807-7173-4c0a-be6a-01c535794756",
   "metadata": {},
   "source": [
    "##### E. ANOVA"
   ]
  },
  {
   "cell_type": "code",
   "execution_count": null,
   "id": "2abdd0e9-483d-49fd-87d3-efa086ba065c",
   "metadata": {
    "tags": []
   },
   "outputs": [],
   "source": [
    "anova Total_Pendapatan Pekerjaan //variabel dependen terlebih dahulu lalu variabel independent"
   ]
  },
  {
   "cell_type": "markdown",
   "id": "8fcdc4e5-8983-4015-adb5-4cb5dde63c48",
   "metadata": {},
   "source": [
    "Hipotesis yang akan diuji dalam Uji ANOVA adalah sebagai berikut :\n",
    "\n",
    "* Ho: Tidak ada perbedaan rata-rata antara total pendapatan pada setiap jenis pekerjaan\n",
    "* H1: Ada perbedaan rata-rata antara total pendapatan pada setiap jenis pekerjaan\n",
    "\n",
    "Untuk menentukan Ho atau Ha yang diterima maka ketentuan yang harus diikuti adalah sebagai berikut : \n",
    "a) Jika Prob>F diatas 0.05, maka H0 diterima .\n",
    "b) Jika Prb>F dibawah 0.05, maka H0 ditolak.\n",
    "\n",
    "Berdasarkan hasil analisis di atas didapat nilai Prob>F 0.4929 maka H0 diterima sehingga tidak ada perbedaan rata-rata antara total pendapatan pada setiap jenis pekerjaan. Sehingga pekerjaan tidak mempunya pengaruh terhadap total pendapatan."
   ]
  },
  {
   "cell_type": "markdown",
   "id": "6de1fddc-e34c-4159-be99-3666fcb98bba",
   "metadata": {},
   "source": [
    "##### E. ANOVA\n",
    "\n",
    "Mengetahui persamaan garis regresi,"
   ]
  },
  {
   "cell_type": "code",
   "execution_count": null,
   "id": "f88ff3cf-5a84-49e7-9222-6436c0440c6a",
   "metadata": {
    "tags": []
   },
   "outputs": [],
   "source": [
    "regress Total_Pengeluaran Total_Pendapatan // variabel dependen terlebih dahulu, setelah itu variabel independent"
   ]
  },
  {
   "cell_type": "markdown",
   "id": "0965e665-0f5b-4ecb-b5ac-f26a828374a2",
   "metadata": {},
   "source": [
    "Dari hasil analisis di atas didapat nilai Adj R-squared adalah 0.0327. Nilai tersebut menunjukan bahwa terdapat hubungan yang cukup lemah dimana total pendapatan hanya dapat menjelaskan 3.27% nilai total pengeluaran. Selain itu didapat nilai F 4.69. Dan nilai Prob>F adalah 0.0326, karena nilai **Prob>F kurang dari 0.05** menunjukan bahwa **regresi dapat dipakai**. Selanjutnya diketahui pula Koefisien total pendapatan adalah 0.1248279 dan Konstanta 2079870. Sehingga dapat diketahui persamaan dari regresi ini adalah Y = 2079870 + 0.1248279 X.\n",
    "\n",
    "\n",
    "Selanjutnya, perlu dilihat juga signifikansi koefisien x dan konstanta dari persamaan regresi yang dihasilkan. Dengan melihat signifikansi dari kolom “P > |t|” terlihat bahwa nilai keduanya, koefisien total pendapatan dan konstantanya masing – masing 0,033 serta 0,000 yang mana nilainya lebih kecil dari 0,05 sehingga kedua koefisien ini memiliki keberartian dalam model ini.\n",
    "\n",
    "Mengetahui Grafik Regresi"
   ]
  },
  {
   "cell_type": "code",
   "execution_count": null,
   "id": "7c01b1a1-5aff-42c1-8f02-65f78f0189d2",
   "metadata": {
    "tags": []
   },
   "outputs": [],
   "source": [
    "predict prediksi_pengeluaran, xb"
   ]
  },
  {
   "cell_type": "markdown",
   "id": "dd2c16a3-183e-431a-bca2-b9c669486adf",
   "metadata": {},
   "source": [
    "Command diatas digunakan untuk memprediksi nilai pengeluaran menggunakan persamaan regresi yang telah terbentuk. Sehingga pada dataset akan didapat satu variabel baru yaitu variabel prediksi pengeluaran."
   ]
  },
  {
   "cell_type": "code",
   "execution_count": null,
   "id": "071b91c0-709e-49c8-9b7d-c9567ac5bf63",
   "metadata": {},
   "outputs": [],
   "source": [
    "twoway (scatter Total_Pengeluaran Total_Pendapatan, sort)(line prediksi_pengeluaran Total_Pendapatan, sort)"
   ]
  },
  {
   "cell_type": "markdown",
   "id": "634b1683-2aed-48ee-9840-75fad9a6a31f",
   "metadata": {},
   "source": [
    "Grafik tersebut menunjukan persebaran nilai total pengeluaran serta garis prediksi yang didapat dari persamaan regresi. Sebagian besar persebaran nilai total pengeluaran berada di sekitar garis prediksi atau regresi itu sendiri. "
   ]
  },
  {
   "cell_type": "markdown",
   "id": "2f1a7f3b-1065-4b35-8647-d4dc10e8d7d8",
   "metadata": {},
   "source": [
    "Daftar Pustaka\n",
    "\n",
    "Sawitri, Dewi. Maryati, Sri. 2014. Metode Analisis Perencanaan. Penerbit Universitas Terbuka: Tangerang.\n",
    "\n",
    "Healey J F. Statistics, A Tool for Social Research, Ninth Edition. Wadsworth Publishing Company.2012 \n",
    "\n",
    "Kachigan, Sam Kash. 1982. Statistical Analysis. Radius Press: New York."
   ]
  }
 ],
 "metadata": {
  "kernelspec": {
   "display_name": "Stata (nbstata)",
   "language": "stata",
   "name": "nbstata"
  },
  "language_info": {
   "file_extension": ".do",
   "mimetype": "text/x-stata",
   "name": "stata",
   "version": "17"
  }
 },
 "nbformat": 4,
 "nbformat_minor": 5
}
