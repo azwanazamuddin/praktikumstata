{
 "cells": [
  {
   "cell_type": "markdown",
   "id": "8f0b9cee-7491-47b2-a55e-b12e15c32d26",
   "metadata": {},
   "source": [
    "# Modul 2: Analisis Deskriptif"
   ]
  },
  {
   "cell_type": "markdown",
   "id": "9f121549-77de-4232-9a37-36816670d9cf",
   "metadata": {},
   "source": [
    "### Objectives Praktikum"
   ]
  },
  {
   "cell_type": "markdown",
   "id": "404c5b06-f244-4428-9733-f2625da9a377",
   "metadata": {},
   "source": [
    "1. Praktikum mampu memahami analisis dekstriptif\n",
    "2. Praktikum mampu melakukan analisis deskriptif"
   ]
  },
  {
   "cell_type": "markdown",
   "id": "46d98c9e-e1cc-4f3c-b363-791f3cd9af79",
   "metadata": {},
   "source": [
    "### Review Teori"
   ]
  },
  {
   "cell_type": "markdown",
   "id": "35edc675-cad2-4fe7-8610-2c4f85a5764a",
   "metadata": {},
   "source": [
    "Secara umum, statistik deskriptif bertujuan untuk mereduksi data sehingga dengan penampilan yang lebih sederhana dapat mendeskripsikan karakteristik data."
   ]
  },
  {
   "cell_type": "markdown",
   "id": "5fbd32f2-135c-442a-ae0f-7b0fb6809cb7",
   "metadata": {},
   "source": [
    "#### Analisis Deskriptif"
   ]
  },
  {
   "cell_type": "markdown",
   "id": "5d043072-dc3f-463d-806f-f80e13a2f706",
   "metadata": {},
   "source": [
    "Analisis deskriptif adalah suatu cara menggambarkan persoalan berdasarkan data yang dimiliki, yakni dengan cara menata data tersebut sedemikian rupa sehingga dengan mudah dapat dipahami karakteristiknya, dapat dijelaskan dan digunakan untuk keperluan selanjutnya melalui sebuah proses reduksi data. Reduksi data merupakan metode untuk meringkas sekumpulan data ke dalam kumpulan data yang lebih kecil yang menggambarkan pengamatan awal tanpa mengorbankan informasi penting. Analisis statistik deskriptif lebih berhubungan dengan kegiatan pengumpulan, peringkasan, dan penyajian data. Analisis ini melibatkan penggunaan sejumlah kecil angka, tabel, dan grafik untuk menyimpulkan sederet angka yang lebih besar. Secara umum, metode reduksi data dibagi menjadi tiga, yaitu:"
   ]
  },
  {
   "cell_type": "markdown",
   "id": "89bbb904-42f8-48c2-b982-af783e7b6f42",
   "metadata": {},
   "source": [
    "1. Reduksi Data Dasar\n",
    "    \n",
    "    Reduksi data dasar membantu menunjukkan distribusi data secara menyeluruh dan cepat. Reduksi data dasar terbagi menjadi tiga jenis, yaitu:\n",
    "    * Reduksi Data dalam Nilai Baku\n",
    "        \n",
    "        Reduksi data dengan cara membuat perbandingan antara jumlah kejadian dalam suatu kategori terhadap jumlah kejadian pada kategori lain maupun keseluruhan, baik yang nyata maupun yang potensial terjadi. Bentuk reduksi data dalam nilai baku adalah proporsi, prosentase, rates, dan rasio.\n",
    "    * Reduksi Data dalam Tabel\n",
    "\n",
    "        Reduksi data dalam bentuk tabel distribusi frekuensi, yaitu tabel yang meringkas distribusi nilai variabel dengan menunjukkan jumlah kejadian pada setiap kategori nilai variabel.\n",
    "\n",
    "    * Reduksi Data dalam Chart/Grafik\n",
    "        Reduksi data dalam Chart/Grafik, yaitu reduksi data dalam bentuk gambar yang dapat menunjukkan chart/grafik yang bermacam-macam sesuai kebutuhan. Namun, chart/grafik yang paling umum digunakan adalah pie chart yang menggunakan permukaan lingkaran untuk menggambarkan distribusi proporsi antar kategori, bar chart yang menggunakan balok untuk menggambarkan distribusi proporsi, histogram yang menggunakan balok untuk menggambarkan distribusi frekuensi data interval rasio, dan frequency polygons yang menggunakan titik untuk menggambarkan distribusi frekuensi data interval rasio.\n"
   ]
  },
  {
   "cell_type": "markdown",
   "id": "7fb61d7f-4aa5-415c-be54-39a9891213df",
   "metadata": {},
   "source": [
    "2. Ukuran Kecenderungan Memusat\n",
    "    \n",
    "    Ukuran kecenderungan memusat merupakan ukuran yang menunjukkan pada nilai variabel mana kejadian cenderung terkonsentrasi. Ukuran kecenderungan memusat yang digunakan ada tiga yaitu:\n",
    "    * Modus\n",
    "        \n",
    "        Modus adalah nilai yang paling banyak muncul. Modus digunakan sebagai tipe skala pengukuran kecenderungan memusat pada data nominal.\n",
    "    \n",
    "    * Median\n",
    "    \n",
    "        Median adalah nilai variabel dari objek yang mempunyai setengah jumlah objek di atasnya dan setengah jumlah objek di bawahnya setelah semua nilai variabel objek diurutkan dari yang terkecil sampai yang terbesar. Median digunakan sebagai tipe skala pengukuran kecenderungan memusat pada data ordinal.\n",
    "\n",
    "        $\\bar{X} =\\frac{\\sum_{t=1}^{n}{X}_i}{n}$"
   ]
  },
  {
   "cell_type": "markdown",
   "id": "d6949cba-65ff-4e67-a426-d420ef75af56",
   "metadata": {},
   "source": [
    "3. Ukuran Persebaran Data\n",
    "\n",
    "    Ukuran persebaran data adalah suatu ukuran yang memberikan suatu indikasi tingkat heterogenitas atau keragaman dalam distribusi nilai variabel. Terdapat tiga skala pengukuran yang digunakan sebagai ukuran persebaran data yaitu:\n",
    "    \n",
    "    * Indeks Variansi Kualitatif\n",
    "    \n",
    "        Indeks variansi kualitatif adalah rasio jumlah variasi yang diamati secara nyata dalam suatu distribusi nilai pada variasi maksimum yang dapat terjadi dalam distribusi tersebut. IQV kerap digunakan untuk melihat persebaran data pada data nominal. Indeks variansi kualitatif (IQV) dapat dihitung menggunakan rumus:\n",
    "        \n",
    "        $IQV = \\ \\frac{k\\ (N^{2} - \\ \\sum_{t=1}^{k}f_{i}^{2})}{N^{2\\ }(k - 1)}$\n",
    "\n",
    "\n",
    "        Dengan:\n",
    "\n",
    "        $k$ = jumlah kategori\n",
    "        \n",
    "        $N$ = jumlah kasus/objek\n",
    "        \n",
    "        $i$ = jumlah kasus/objek dalam kategori $i$\n",
    "        \n",
    "        $IQV$ = 0 memiliki arti bahwa tingkat heterogenitas rendah atau dapat dikatakan seragam\n",
    "        \n",
    "        $IQV$ = 1 memiliki arti bahwa tingkat heterogenitas tinggi\n",
    "\n",
    "    * Rentang\n",
    "    \n",
    "        Rentang merupakan selisih nilai variabel objek yang terbesar dan yang terkecil. Rentang digunakan untuk melihat persebaran data pada data ordinal.\n",
    "        \n",
    "    * Variansi dan Standar Deviasi/Simpangan Baku\n",
    "    \n",
    "        Variansi adalah nilai rata-rata kuadrat selisih nilai variabel setiap objek dengan nilai rata-rata variabel. Variansi dan standar deviasi digunakan untuk melihat persebaran data pada interval rasio. Nilai standar deviasi terkecil adalah 0 dimana semakin besar nilai variansi dan standar deviasi maka data makin bervariasi. Variansi dan standar deviasi dapat dihitung dengan rumus:\n",
    "        \n",
    "        $\\text{Variansi }\\left( S^{2} \\right) = \\ \\frac{\\sum_{i}^{k}(X_{i} - \\bar{X} )}{n}$\n",
    "        \n",
    "        $\\text{Standar Deviasi }(S) = \\ \\sqrt{ \\frac{\\sum_{i}^{k}(X_{i} - \\bar{X} )}{n} } $\n",
    "        \n",
    "        Dengan:\n",
    "        \n",
    "        $N$ = jumlah data\n",
    "        \n",
    "        ${X}_i$ = data ke-$i$\n",
    "        \n",
    "        $\\bar{X}$ = rata-rata sampel/populasi"
   ]
  },
  {
   "cell_type": "markdown",
   "id": "63f1bba0-ae90-439a-8b45-7d2cb0680a78",
   "metadata": {},
   "source": [
    "### Hands-on Praktikum"
   ]
  },
  {
   "cell_type": "markdown",
   "id": "ee20be12-3ec6-48e4-9b11-8e148b9f48c1",
   "metadata": {},
   "source": [
    "#### Penggunaan `locals` & `globals`"
   ]
  },
  {
   "cell_type": "markdown",
   "id": "ae0b6827-325d-4cf2-a06b-5969bfeee732",
   "metadata": {},
   "source": [
    "`locals` & `globals` adalah perintah untuk membuat suatu **macros**. Apa itu **macros**?\n",
    "\n",
    "Dalam Stata, **macros** adalah singkatan dari **macro variables**, yang merupakan elemen penting dalam mengotomatisasi analisis data dan pemrograman di Stata. **Macros** adalah variabel yang digunakan untuk menyimpan nilai atau string teks yang dapat digunakan kembali dalam perintah-perintah Stata. Dengan menggunakan **macros**, kalian dapat menghindari penulisan berulang-ulang dan membuat kode Stata lebih efisien dan mudah diatur.\n",
    "\n",
    "Kalian dapat menggunakan dua jenis **macros** yang berbeda: `local macros` dan `global macros`. Kedua jenis **macros** ini digunakan untuk menyimpan nilai atau string teks yang dapat digunakan kembali dalam perintah-perintah Stata, tetapi mereka memiliki cakupan yang berbeda.\n",
    "\n",
    "1. *Local Macros*\n",
    "    * Local macros didefinisikan dengan menggunakan perintah `local` dan hanya dapat diakses dalam konteks tertentu, seperti dalam file do/ipynb atau program yang sedang berjalan (tidak multifile)\n",
    "    * Local macros memiliki cakupan lokal atau terbatas pada tempat di mana mereka didefinisikan. Ini berarti mereka hanya dapat digunakan dalam file do/ipynb atau program yang sama di mana mereka didefinisikan.\n",
    "    * Contoh:\n",
    "    ```stata\n",
    "        local angka 5\n",
    "        display \"`angka'\" // harus menggunakan `nama_local' untuk memanggil local macros. Perhatikan simbol kutipnya (dibuka dengan ` dan ditutup dengan ')\n",
    "\n",
    "    ```"
   ]
  },
  {
   "cell_type": "code",
   "execution_count": 1,
   "id": "c08b20a2-018a-41b7-8a6d-23236601fde5",
   "metadata": {
    "tags": []
   },
   "outputs": [
    {
     "name": "stdout",
     "output_type": "stream",
     "text": [
      "\n",
      "  ___  ____  ____  ____  ____ ©\n",
      " /__    /   ____/   /   ____/      17.0\n",
      "___/   /   /___/   /   /___/       BE—Basic Edition\n",
      "\n",
      " Statistics and Data Science       Copyright 1985-2021 StataCorp LLC\n",
      "                                   StataCorp\n",
      "                                   4905 Lakeway Drive\n",
      "                                   College Station, Texas 77845 USA\n",
      "                                   800-STATA-PC        https://www.stata.com\n",
      "                                   979-696-4600        stata@stata.com\n",
      "\n",
      "Stata license: 25-student lab, expiring 14 Nov 2023\n",
      "Serial number: 301709411476\n",
      "  Licensed to: azwanaza\n",
      "               Labscan PWK SAPPK ITB\n",
      "\n",
      "Notes:\n",
      "      1. Unicode is supported; see help unicode_advice.\n"
     ]
    },
    {
     "data": {
      "text/html": [
       "<style>div.jp-Notebook .datagrid-container {min-height: 448px; }</style>"
      ],
      "text/plain": [
       "<IPython.core.display.HTML object>"
      ]
     },
     "metadata": {},
     "output_type": "display_data"
    },
    {
     "name": "stdout",
     "output_type": "stream",
     "text": [
      "Isi local angka: 5\n"
     ]
    }
   ],
   "source": [
    "local angka 5\n",
    "display \"Isi local angka: `angka'\" //untuk menampilkan isi angka"
   ]
  },
  {
   "cell_type": "code",
   "execution_count": 2,
   "id": "24ecde8c-e1b7-481e-882e-a0b1cf9b4262",
   "metadata": {
    "tags": []
   },
   "outputs": [
    {
     "name": "stdout",
     "output_type": "stream",
     "text": [
      "Halo, Budi!\n"
     ]
    }
   ],
   "source": [
    "local nama \"Budi\"\n",
    "display \"Halo, `nama'!\""
   ]
  },
  {
   "cell_type": "markdown",
   "id": "93bf012c-2648-4ee8-8776-5ad7e4209a07",
   "metadata": {},
   "source": [
    "Untuk memeriksa locals apa saja yang sedang digunakan dalam notebook ini, bisa menggunakan magics command, yaitu `%locals`. Perintah tersebut akan menampikan list locals yang aktif."
   ]
  },
  {
   "cell_type": "code",
   "execution_count": 3,
   "id": "cc64a134-667f-4375-96c9-18f4640efba1",
   "metadata": {
    "tags": []
   },
   "outputs": [
    {
     "name": "stdout",
     "output_type": "stream",
     "text": [
      "nama:           Budi\n",
      "angka:          5\n"
     ]
    }
   ],
   "source": [
    "%locals"
   ]
  },
  {
   "cell_type": "markdown",
   "id": "b0800384-cea8-476d-9e09-ed95bd0dfa24",
   "metadata": {},
   "source": [
    "2. *Global Macros*\n",
    "    * Global macros didefinisikan dengan menggunakan perintah `global` dan memiliki cakupan yang lebih luas, sehingga dapat diakses dari seluruh sesi Stata, termasuk file do/ipynb yang berbeda.\n",
    "    * Global macros digunakan ketika Anda ingin menyimpan variabel yang akan digunakan di seluruh sesi Stata atau untuk membagikan informasi antar file do/ipynb.\n",
    "    * Contoh:\n",
    "    \n",
    "    ```stata\n",
    "        global asal_kota \"Kota Bandung\"\n",
    "        display \"Halo, $asal_kota!\"\n",
    "        \n",
    "        *harus menggunakan $ untuk memanggil global macros\n",
    "    ```"
   ]
  },
  {
   "cell_type": "code",
   "execution_count": 4,
   "id": "1b9df0f1-8533-4439-be77-7b1332ca30cc",
   "metadata": {
    "tags": []
   },
   "outputs": [
    {
     "name": "stdout",
     "output_type": "stream",
     "text": [
      "Halo, Kota Bandung!\n"
     ]
    }
   ],
   "source": [
    "global asal_kota \"Kota Bandung\"\n",
    "display \"Halo, $asal_kota!\""
   ]
  },
  {
   "cell_type": "markdown",
   "id": "239bf9b6-2fde-4075-bd37-13aae40cd889",
   "metadata": {},
   "source": [
    "Untuk memeriksa global apa saja yang sedang digunakan dalam notebook ini, bisa menggunakan magics command, yaitu `macro list`. Perintah tersebut akan menampikan list global yang aktif."
   ]
  },
  {
   "cell_type": "code",
   "execution_count": 7,
   "id": "c1f29233-8b7d-483c-aeed-8e84f3e0700f",
   "metadata": {
    "tags": []
   },
   "outputs": [
    {
     "name": "stdout",
     "output_type": "stream",
     "text": [
      "asal_kota:      Kota Bandung\n",
      "S_level:        95\n",
      "F1:             help advice;\n",
      "F2:             describe;\n",
      "F7:             save\n",
      "F8:             use\n",
      "S_ADO:          BASE;SITE;.;PERSONAL;PLUS;OLDPLACE\n",
      "S_CONSOLE:      console\n",
      "S_OS:           Windows\n",
      "S_OSDTL:        64-bit\n",
      "S_MACH:         PC (64-bit x86-64)\n",
      "_nama:          Budi\n",
      "_angka:         5\n"
     ]
    }
   ],
   "source": [
    "macro list"
   ]
  },
  {
   "cell_type": "markdown",
   "id": "cc9262d7-44dd-4e99-8bba-dea415e8dd50",
   "metadata": {},
   "source": [
    "Kenapa ada banyak global? Dalam global, terdapat banyak macros bawaan yang sudah diset oleh Stata. Maka dari itu, hati-hati dalam menggunakan global agar tidak menimpa global default yang sudah ada."
   ]
  },
  {
   "cell_type": "markdown",
   "id": "dd3b72cb-72f5-4ded-ac1d-89b489add6b5",
   "metadata": {
    "tags": []
   },
   "source": [
    "#### Identifikasi data duplikat"
   ]
  },
  {
   "cell_type": "markdown",
   "id": "11a5afb2-65cb-48c5-809d-9896a1abd983",
   "metadata": {},
   "source": [
    "Data yang terduplikat adalah hal sering ditemui dalam dataset yang belum melalui data cleaning. Hal ini bisa dilakukan dengan menggunakan perintah `duplicates`. Di bawah ini adalah beberapa opsi yang dapat Anda gunakan dengan perintah duplicates:\n",
    "\n",
    "* `duplicates report`: Perintah duplicates report digunakan untuk melaporkan pengulangan dalam dataset kalian. Ini akan memberikan ringkasan tentang pengulangan yang ada, termasuk berapa banyak observasi yang duplikat dan apakah duplikasi itu merupakan keseluruhan pengulangan atau hanya pada beberapa variabel tertentu.\n",
    "\n",
    "Contoh penggunaan:\n",
    "```stata\n",
    "duplicates report\n",
    "```\n",
    "\n",
    "* `duplicates report [varlist]`: Ini adalah variasi dari duplicates report yang memungkinkan Anda untuk melihat ringkasan pengulangan berdasarkan variabel tertentu.\n",
    "\n",
    "Contoh penggunaan:\n",
    "```stata\n",
    "duplicates report nama_umum\n",
    "```\n",
    "\n",
    "* `duplicates report [varlist], unique`: Dengan opsi `unique`, Anda dapat melihat ringkasan pengulangan unik. Ini akan melaporkan hanya satu baris dari setiap kelompok pengulangan.\n",
    "\n",
    "Contoh penggunaan:\n",
    "```stata\n",
    "duplicates report nama_umum, unique\n",
    "```\n",
    "\n",
    "* `duplicates list [varlist]`: Perintah duplicates list digunakan untuk menampilkan daftar observasi yang merupakan duplikat. Anda dapat menggunakan opsi `[varlist]` untuk membatasi hasil hanya pada variabel tertentu.\n",
    "\n",
    "Contoh penggunaan:\n",
    "```stata\n",
    "duplicates list nama_umum\n",
    "```\n",
    "\n",
    "Berikut juga adalah contoh penggunaannya pada dataset `data_1` untuk mengetahui `id_driver` yang terduplikasi"
   ]
  },
  {
   "cell_type": "code",
   "execution_count": 1,
   "id": "2ab5461c-6671-4b1f-a47b-39c1758b6e66",
   "metadata": {
    "tags": []
   },
   "outputs": [
    {
     "name": "stdout",
     "output_type": "stream",
     "text": [
      "\n",
      "  ___  ____  ____  ____  ____ ©\n",
      " /__    /   ____/   /   ____/      17.0\n",
      "___/   /   /___/   /   /___/       BE—Basic Edition\n",
      "\n",
      " Statistics and Data Science       Copyright 1985-2021 StataCorp LLC\n",
      "                                   StataCorp\n",
      "                                   4905 Lakeway Drive\n",
      "                                   College Station, Texas 77845 USA\n",
      "                                   800-STATA-PC        https://www.stata.com\n",
      "                                   979-696-4600        stata@stata.com\n",
      "\n",
      "Stata license: 25-student lab, expiring 14 Nov 2023\n",
      "Serial number: 301709411476\n",
      "  Licensed to: azwanaza\n",
      "               Labscan PWK SAPPK ITB\n",
      "\n",
      "Notes:\n",
      "      1. Unicode is supported; see help unicode_advice.\n"
     ]
    },
    {
     "data": {
      "text/html": [
       "<style>div.jp-Notebook .datagrid-container {min-height: 448px; }</style>"
      ],
      "text/plain": [
       "<IPython.core.display.HTML object>"
      ]
     },
     "metadata": {},
     "output_type": "display_data"
    },
    {
     "name": "stdout",
     "output_type": "stream",
     "text": [
      "(encoding automatically selected: ISO-8859-1)\n",
      "(9 vars, 54 obs)\n"
     ]
    }
   ],
   "source": [
    "import delimited using \"data/data_1.csv\", clear"
   ]
  },
  {
   "cell_type": "code",
   "execution_count": 2,
   "id": "59faa302-0848-46ce-86f1-5827aede04bb",
   "metadata": {
    "tags": []
   },
   "outputs": [
    {
     "data": {
      "text/html": [
       "<div>\n",
       "<style scoped>\n",
       "    .dataframe tbody tr th:only-of-type {\n",
       "        vertical-align: middle;\n",
       "    }\n",
       "\n",
       "    .dataframe tbody tr th {\n",
       "        vertical-align: top;\n",
       "    }\n",
       "\n",
       "    .dataframe thead th {\n",
       "        text-align: right;\n",
       "    }\n",
       "</style>\n",
       "<table border=\"1\" class=\"dataframe\">\n",
       "  <thead>\n",
       "    <tr style=\"text-align: right;\">\n",
       "      <th></th>\n",
       "      <th>id_driver</th>\n",
       "      <th>preferensi_merchant</th>\n",
       "      <th>preferensi_transportasi</th>\n",
       "      <th>preferensi_pasar</th>\n",
       "      <th>usia</th>\n",
       "      <th>status_nikah</th>\n",
       "      <th>jml_motor</th>\n",
       "      <th>jml_mobil</th>\n",
       "      <th>jml_sepeda</th>\n",
       "    </tr>\n",
       "  </thead>\n",
       "  <tbody>\n",
       "    <tr>\n",
       "      <th>1</th>\n",
       "      <td>8.966e+10</td>\n",
       "      <td>Tidak penting</td>\n",
       "      <td>Penting</td>\n",
       "      <td>Netral</td>\n",
       "      <td>26</td>\n",
       "      <td>Menikah</td>\n",
       "      <td>1</td>\n",
       "      <td>0</td>\n",
       "      <td>0</td>\n",
       "    </tr>\n",
       "    <tr>\n",
       "      <th>2</th>\n",
       "      <td>8.211e+10</td>\n",
       "      <td>Penting</td>\n",
       "      <td>Penting</td>\n",
       "      <td>Sangat penting</td>\n",
       "      <td>52</td>\n",
       "      <td>Menikah</td>\n",
       "      <td>1</td>\n",
       "      <td>0</td>\n",
       "      <td>0</td>\n",
       "    </tr>\n",
       "    <tr>\n",
       "      <th>3</th>\n",
       "      <td>8.783e+10</td>\n",
       "      <td>Tidak penting</td>\n",
       "      <td>Penting</td>\n",
       "      <td>Sangat penting</td>\n",
       "      <td>35</td>\n",
       "      <td>Menikah</td>\n",
       "      <td>1</td>\n",
       "      <td>0</td>\n",
       "      <td>1</td>\n",
       "    </tr>\n",
       "    <tr>\n",
       "      <th>4</th>\n",
       "      <td>8.213e+10</td>\n",
       "      <td>Penting</td>\n",
       "      <td>Netral</td>\n",
       "      <td>Penting</td>\n",
       "      <td>70</td>\n",
       "      <td>Menikah</td>\n",
       "      <td>1</td>\n",
       "      <td>0</td>\n",
       "      <td>0</td>\n",
       "    </tr>\n",
       "    <tr>\n",
       "      <th>5</th>\n",
       "      <td>8.222e+10</td>\n",
       "      <td>Sangat tidak penting</td>\n",
       "      <td>Sangat tidak penting</td>\n",
       "      <td>Sangat penting</td>\n",
       "      <td>41</td>\n",
       "      <td>Menikah</td>\n",
       "      <td>1</td>\n",
       "      <td>0</td>\n",
       "      <td>0</td>\n",
       "    </tr>\n",
       "  </tbody>\n",
       "</table>\n",
       "</div>"
      ]
     },
     "metadata": {},
     "output_type": "display_data"
    }
   ],
   "source": [
    "%head 5"
   ]
  },
  {
   "cell_type": "code",
   "execution_count": 3,
   "id": "7ba2e54c-ada4-411e-9fb6-742721e28fe2",
   "metadata": {
    "tags": []
   },
   "outputs": [
    {
     "name": "stdout",
     "output_type": "stream",
     "text": [
      "\n",
      "Duplicates in terms of all variables\n",
      "\n",
      "--------------------------------------\n",
      "   Copies | Observations       Surplus\n",
      "----------+---------------------------\n",
      "        1 |           50             0\n",
      "        2 |            4             2\n",
      "--------------------------------------\n"
     ]
    }
   ],
   "source": [
    "duplicates report"
   ]
  },
  {
   "cell_type": "markdown",
   "id": "abc6ce39-2c5a-4563-9009-e7f3f5e56333",
   "metadata": {},
   "source": [
    "Menampilkan jumlah data terduplikasi pada seluruh variabel. Namun hal ini tidak efektif karena kemungkinan data lain (selain `id_driver`) terduplikasi sangat besar. Maka dari itu, fokus pada kasus data duplikat ini ada pada variabel `id_driver`"
   ]
  },
  {
   "cell_type": "code",
   "execution_count": 4,
   "id": "4cd1cca3-8910-4b1e-b496-e32050682278",
   "metadata": {
    "tags": []
   },
   "outputs": [
    {
     "name": "stdout",
     "output_type": "stream",
     "text": [
      "\n",
      "Duplicates in terms of id_driver\n",
      "\n",
      "--------------------------------------\n",
      "   Copies | Observations       Surplus\n",
      "----------+---------------------------\n",
      "        1 |           48             0\n",
      "        2 |            6             3\n",
      "--------------------------------------\n"
     ]
    }
   ],
   "source": [
    "duplicates report id_driver"
   ]
  },
  {
   "cell_type": "code",
   "execution_count": 5,
   "id": "386b3c12-a16f-4458-ad0e-79b5f6cd1dde",
   "metadata": {
    "tags": []
   },
   "outputs": [
    {
     "name": "stdout",
     "output_type": "stream",
     "text": [
      "\n",
      "Duplicates in terms of id_driver\n",
      "\n",
      "--------------------------------------\n",
      "   Copies | Observations       Surplus\n",
      "----------+---------------------------\n",
      "        1 |           48             0\n",
      "        2 |            6             3\n",
      "--------------------------------------\n"
     ]
    }
   ],
   "source": [
    "duplicates report id_driver, unique"
   ]
  },
  {
   "cell_type": "markdown",
   "id": "cdb8ff4f-a9d5-4b8e-9253-b10c4fe9cbc8",
   "metadata": {},
   "source": [
    "Keduanya memiliki hasil yang sama, mengingat id_driver merupakan variabel yang memiliki nilai-nilai unik."
   ]
  },
  {
   "cell_type": "code",
   "execution_count": 6,
   "id": "2a8836b8-bbad-4a72-b683-537f6edb390a",
   "metadata": {
    "tags": []
   },
   "outputs": [
    {
     "name": "stdout",
     "output_type": "stream",
     "text": [
      "\n",
      "Duplicates in terms of id_driver\n",
      "\n",
      "  +-------------------------+\n",
      "  | Group   Obs   id_driver |\n",
      "  |-------------------------|\n",
      "  |     1    22   8.191e+10 |\n",
      "  |     1    47   8.191e+10 |\n",
      "  |     2     8   8.535e+10 |\n",
      "  |     2    11   8.535e+10 |\n",
      "  |     3    29   8.580e+10 |\n",
      "  |-------------------------|\n",
      "  |     3    54   8.580e+10 |\n",
      "  +-------------------------+\n"
     ]
    }
   ],
   "source": [
    "duplicates list id_driver"
   ]
  },
  {
   "cell_type": "markdown",
   "id": "00cae84e-f3f3-4ab0-ae83-86ab1e92f81b",
   "metadata": {},
   "source": [
    "Dari hasil di atas, terdapat 3 id_driver yang terduplikat. Untuk mengatasi masalah duplikasi ini bisa dipilih langsung salah satu datanya. Namun, alangkah baiknya kita memeriksa apakah data yang akan dihapus benar atau salah. Caranya adalah dengan menandakan data yang terduplikasi dengan perintah `tag`."
   ]
  },
  {
   "cell_type": "code",
   "execution_count": 7,
   "id": "08123ac2-c43d-43e6-8be9-5093967ec340",
   "metadata": {
    "tags": []
   },
   "outputs": [
    {
     "name": "stdout",
     "output_type": "stream",
     "text": [
      "\n",
      "Duplicates in terms of id_driver\n"
     ]
    }
   ],
   "source": [
    "duplicates tag id_driver, gen(dup)"
   ]
  },
  {
   "cell_type": "markdown",
   "id": "77b5da08-27fc-43cf-97e3-8f9b7b719989",
   "metadata": {},
   "source": [
    "Perintah tersebut akan menambahkan variabel `dup` untuk menandakan data yang terduplikasi."
   ]
  },
  {
   "cell_type": "code",
   "execution_count": 8,
   "id": "96669600-acce-48e9-93b9-3e763c21925e",
   "metadata": {
    "tags": []
   },
   "outputs": [
    {
     "data": {
      "application/vnd.jupyter.widget-view+json": {
       "model_id": "86a2ed5f51ef4d2bb4b844f443137bc8",
       "version_major": 2,
       "version_minor": 0
      },
      "text/plain": [
       "DataGrid(auto_fit_params={'area': 'all', 'padding': 30, 'numCols': None}, base_row_size=21, column_widths={'id…"
      ]
     },
     "metadata": {},
     "output_type": "display_data"
    }
   ],
   "source": [
    "%browse if dup == 1"
   ]
  },
  {
   "cell_type": "markdown",
   "id": "ad504bd8-a2bc-4780-840f-f7d22fc1b2e9",
   "metadata": {},
   "source": [
    "Setelah memeriksa data melalui `%browse`, kalian bisa memilih data mana saya yang harus dihapus. Perintah yang biasa digunakan untuk menghapus data duplikat adalah `drop`. Contoh:\n",
    "\n",
    "```stata\n",
    "duplicates drop id_driver, force\n",
    "```\n",
    "\n",
    "**Penting!**\n",
    "Hati-hati dalam penggunaan perintah ini karena perintah ini akan langsung menghapus data yang terduplikat kecuali data yang pertama kali muncul. Jika ingin memilih data yang dihapus bisa menggunakan perintah `drop` biasa dengan opsi `if` untuk parameter conditionalnya. Contoh:\n",
    "```stata\n",
    "drop if id_driver == 81908896114\n",
    "```"
   ]
  },
  {
   "cell_type": "markdown",
   "id": "723f4cc9-a485-436f-adc3-972563f55886",
   "metadata": {},
   "source": [
    "Dalam kasus ini, perintah yang digunakan adalah perintah pertama"
   ]
  },
  {
   "cell_type": "code",
   "execution_count": 11,
   "id": "16999d07-48e6-4b19-a5b0-fcae35ae6971",
   "metadata": {
    "tags": []
   },
   "outputs": [
    {
     "name": "stdout",
     "output_type": "stream",
     "text": [
      "(1 observation deleted)\n"
     ]
    }
   ],
   "source": [
    "drop in 21"
   ]
  },
  {
   "cell_type": "code",
   "execution_count": 83,
   "id": "63912594-1204-4d70-9a63-52ee7076db58",
   "metadata": {
    "tags": []
   },
   "outputs": [
    {
     "name": "stdout",
     "output_type": "stream",
     "text": [
      "\n",
      "Duplicates in terms of id_driver\n",
      "\n",
      "(3 observations deleted)\n"
     ]
    }
   ],
   "source": [
    "duplicates drop id_driver, force"
   ]
  },
  {
   "cell_type": "code",
   "execution_count": 12,
   "id": "c9b4fb12-d5d8-46b7-a89a-c7c5b3182962",
   "metadata": {
    "tags": []
   },
   "outputs": [
    {
     "data": {
      "application/vnd.jupyter.widget-view+json": {
       "model_id": "74dfe9b48bdf4a6d9a953bc8d0bf6fc8",
       "version_major": 2,
       "version_minor": 0
      },
      "text/plain": [
       "DataGrid(auto_fit_params={'area': 'all', 'padding': 30, 'numCols': None}, base_row_size=21, column_widths={'id…"
      ]
     },
     "metadata": {},
     "output_type": "display_data"
    }
   ],
   "source": [
    "%browse if dup == 1"
   ]
  },
  {
   "cell_type": "markdown",
   "id": "2c7108d6-43a6-4e40-b4df-c07a2bcbfb66",
   "metadata": {},
   "source": [
    "Menghapus kembali variabel `dup`."
   ]
  },
  {
   "cell_type": "code",
   "execution_count": 85,
   "id": "79f7c7b6-2852-464f-a6ad-8e6aef2450c1",
   "metadata": {
    "tags": []
   },
   "outputs": [],
   "source": [
    "drop dup"
   ]
  },
  {
   "cell_type": "code",
   "execution_count": 86,
   "id": "9204b301-c991-4350-8598-e18938d74276",
   "metadata": {
    "tags": []
   },
   "outputs": [
    {
     "data": {
      "text/html": [
       "<div>\n",
       "<style scoped>\n",
       "    .dataframe tbody tr th:only-of-type {\n",
       "        vertical-align: middle;\n",
       "    }\n",
       "\n",
       "    .dataframe tbody tr th {\n",
       "        vertical-align: top;\n",
       "    }\n",
       "\n",
       "    .dataframe thead th {\n",
       "        text-align: right;\n",
       "    }\n",
       "</style>\n",
       "<table border=\"1\" class=\"dataframe\">\n",
       "  <thead>\n",
       "    <tr style=\"text-align: right;\">\n",
       "      <th></th>\n",
       "      <th>id_driver</th>\n",
       "      <th>preferensi_merchant</th>\n",
       "      <th>preferensi_transportasi</th>\n",
       "      <th>preferensi_pasar</th>\n",
       "      <th>usia</th>\n",
       "      <th>status_nikah</th>\n",
       "      <th>jml_motor</th>\n",
       "      <th>jml_mobil</th>\n",
       "      <th>jml_sepeda</th>\n",
       "    </tr>\n",
       "  </thead>\n",
       "  <tbody>\n",
       "    <tr>\n",
       "      <th>1</th>\n",
       "      <td>89656711172</td>\n",
       "      <td>Tidak penting</td>\n",
       "      <td>Penting</td>\n",
       "      <td>Netral</td>\n",
       "      <td>26</td>\n",
       "      <td>Menikah</td>\n",
       "      <td>1</td>\n",
       "      <td>0</td>\n",
       "      <td>0</td>\n",
       "    </tr>\n",
       "    <tr>\n",
       "      <th>2</th>\n",
       "      <td>82113569587</td>\n",
       "      <td>Penting</td>\n",
       "      <td>Penting</td>\n",
       "      <td>Sangat penting</td>\n",
       "      <td>52</td>\n",
       "      <td>Menikah</td>\n",
       "      <td>1</td>\n",
       "      <td>0</td>\n",
       "      <td>0</td>\n",
       "    </tr>\n",
       "    <tr>\n",
       "      <th>3</th>\n",
       "      <td>87827735804</td>\n",
       "      <td>Tidak penting</td>\n",
       "      <td>Penting</td>\n",
       "      <td>Sangat penting</td>\n",
       "      <td>35</td>\n",
       "      <td>Menikah</td>\n",
       "      <td>1</td>\n",
       "      <td>0</td>\n",
       "      <td>1</td>\n",
       "    </tr>\n",
       "    <tr>\n",
       "      <th>4</th>\n",
       "      <td>82130323744</td>\n",
       "      <td>Penting</td>\n",
       "      <td>Netral</td>\n",
       "      <td>Penting</td>\n",
       "      <td>70</td>\n",
       "      <td>Menikah</td>\n",
       "      <td>1</td>\n",
       "      <td>0</td>\n",
       "      <td>0</td>\n",
       "    </tr>\n",
       "    <tr>\n",
       "      <th>5</th>\n",
       "      <td>82215581645</td>\n",
       "      <td>Sangat tidak penting</td>\n",
       "      <td>Sangat tidak penting</td>\n",
       "      <td>Sangat penting</td>\n",
       "      <td>41</td>\n",
       "      <td>Menikah</td>\n",
       "      <td>1</td>\n",
       "      <td>0</td>\n",
       "      <td>0</td>\n",
       "    </tr>\n",
       "  </tbody>\n",
       "</table>\n",
       "</div>"
      ],
      "text/plain": [
       "\n",
       "     +-------------------------------------------------------------------+\n",
       "  1. |  id_driver   |   preferensi_merchant   |   preferensi_transpo~i   |\n",
       "     |  8.966e+10   |         Tidak penting   |                Penting   |\n",
       "     |-------------------------------------------------------------------|\n",
       "     | preferensi_p~r | usia | status~h | jml_mo~r | jml_mo~l | jml_se~a |\n",
       "     |         Netral |   26 |  Menikah |        1 |        0 |        0 |\n",
       "     +-------------------------------------------------------------------+\n",
       "\n",
       "     +-------------------------------------------------------------------+\n",
       "  2. |  id_driver   |   preferensi_merchant   |   preferensi_transpo~i   |\n",
       "     |  8.211e+10   |               Penting   |                Penting   |\n",
       "     |-------------------------------------------------------------------|\n",
       "     | preferensi_p~r | usia | status~h | jml_mo~r | jml_mo~l | jml_se~a |\n",
       "     | Sangat penting |   52 |  Menikah |        1 |        0 |        0 |\n",
       "     +-------------------------------------------------------------------+\n",
       "\n",
       "     +-------------------------------------------------------------------+\n",
       "  3. |  id_driver   |   preferensi_merchant   |   preferensi_transpo~i   |\n",
       "     |  8.783e+10   |         Tidak penting   |                Penting   |\n",
       "     |-------------------------------------------------------------------|\n",
       "     | preferensi_p~r | usia | status~h | jml_mo~r | jml_mo~l | jml_se~a |\n",
       "     | Sangat penting |   35 |  Menikah |        1 |        0 |        1 |\n",
       "     +-------------------------------------------------------------------+\n",
       "\n",
       "     +-------------------------------------------------------------------+\n",
       "  4. |  id_driver   |   preferensi_merchant   |   preferensi_transpo~i   |\n",
       "     |  8.213e+10   |               Penting   |                 Netral   |\n",
       "     |-------------------------------------------------------------------|\n",
       "     | preferensi_p~r | usia | status~h | jml_mo~r | jml_mo~l | jml_se~a |\n",
       "     |        Penting |   70 |  Menikah |        1 |        0 |        0 |\n",
       "     +-------------------------------------------------------------------+\n",
       "\n",
       "     +-------------------------------------------------------------------+\n",
       "  5. |  id_driver   |   preferensi_merchant   |   preferensi_transpo~i   |\n",
       "     |  8.222e+10   |  Sangat tidak penting   |   Sangat tidak penting   |\n",
       "     |-------------------------------------------------------------------|\n",
       "     | preferensi_p~r | usia | status~h | jml_mo~r | jml_mo~l | jml_se~a |\n",
       "     | Sangat penting |   41 |  Menikah |        1 |        0 |        0 |\n",
       "     +-------------------------------------------------------------------+\n",
       "\n"
      ]
     },
     "metadata": {},
     "output_type": "display_data"
    }
   ],
   "source": [
    "%head 5"
   ]
  },
  {
   "cell_type": "markdown",
   "id": "0314c445-842e-4c71-89c0-1c863e968159",
   "metadata": {},
   "source": [
    "#### Reduksi Tabel"
   ]
  },
  {
   "cell_type": "markdown",
   "id": "29979387-273c-487c-a192-8cc2c7f6847b",
   "metadata": {},
   "source": [
    "Mulai bagian ini, dataset yang digunakan adalah `data_2`"
   ]
  },
  {
   "cell_type": "code",
   "execution_count": 1,
   "id": "2c7abd0a-51ea-41ff-bd7a-7ae55c50a149",
   "metadata": {
    "collapsed": true,
    "jupyter": {
     "outputs_hidden": true
    },
    "tags": []
   },
   "outputs": [
    {
     "name": "stdout",
     "output_type": "stream",
     "text": [
      "\n",
      "  ___  ____  ____  ____  ____ ©\n",
      " /__    /   ____/   /   ____/      17.0\n",
      "___/   /   /___/   /   /___/       BE—Basic Edition\n",
      "\n",
      " Statistics and Data Science       Copyright 1985-2021 StataCorp LLC\n",
      "                                   StataCorp\n",
      "                                   4905 Lakeway Drive\n",
      "                                   College Station, Texas 77845 USA\n",
      "                                   800-STATA-PC        https://www.stata.com\n",
      "                                   979-696-4600        stata@stata.com\n",
      "\n",
      "Stata license: 25-student lab, expiring 14 Nov 2023\n",
      "Serial number: 301709411476\n",
      "  Licensed to: azwanaza\n",
      "               Labscan PWK SAPPK ITB\n",
      "\n",
      "Notes:\n",
      "      1. Unicode is supported; see help unicode_advice.\n"
     ]
    },
    {
     "data": {
      "text/html": [
       "<style>div.jp-Notebook .datagrid-container {min-height: 448px; }</style>"
      ],
      "text/plain": [
       "<IPython.core.display.HTML object>"
      ]
     },
     "metadata": {},
     "output_type": "display_data"
    },
    {
     "name": "stdout",
     "output_type": "stream",
     "text": [
      "(encoding automatically selected: ISO-8859-1)\n",
      "(28 vars, 579 obs)\n"
     ]
    }
   ],
   "source": [
    "import delimited using \"data/data_2.csv\", clear"
   ]
  },
  {
   "cell_type": "code",
   "execution_count": 2,
   "id": "ce896b62-2c06-47fb-9a04-1b54492a3a9b",
   "metadata": {
    "tags": []
   },
   "outputs": [
    {
     "data": {
      "text/html": [
       "<div>\n",
       "<style scoped>\n",
       "    .dataframe tbody tr th:only-of-type {\n",
       "        vertical-align: middle;\n",
       "    }\n",
       "\n",
       "    .dataframe tbody tr th {\n",
       "        vertical-align: top;\n",
       "    }\n",
       "\n",
       "    .dataframe thead th {\n",
       "        text-align: right;\n",
       "    }\n",
       "</style>\n",
       "<table border=\"1\" class=\"dataframe\">\n",
       "  <thead>\n",
       "    <tr style=\"text-align: right;\">\n",
       "      <th></th>\n",
       "      <th>id</th>\n",
       "      <th>peta_acuan</th>\n",
       "      <th>pr_permukiman</th>\n",
       "      <th>pr_perkantoan</th>\n",
       "      <th>pr_pendidikan</th>\n",
       "      <th>pr_ofm</th>\n",
       "      <th>pr_transport_umum</th>\n",
       "      <th>pr_taman</th>\n",
       "      <th>pr_hotel</th>\n",
       "      <th>pr_pasar_mall</th>\n",
       "      <th>pr_kesehatan</th>\n",
       "      <th>usia</th>\n",
       "      <th>jk</th>\n",
       "      <th>status_menikah</th>\n",
       "      <th>pendidikan</th>\n",
       "      <th>jml_motor</th>\n",
       "      <th>jml_mobil</th>\n",
       "      <th>jml_sepeda</th>\n",
       "      <th>jml_kendaraan_pribadi</th>\n",
       "      <th>jml_anggota_rt</th>\n",
       "      <th>posisi_rt</th>\n",
       "      <th>penghasilan_pribadi</th>\n",
       "      <th>penghasilan_keluarga</th>\n",
       "      <th>pekerjaan_selain</th>\n",
       "      <th>jam_online</th>\n",
       "      <th>status_kepemilikan</th>\n",
       "      <th>lama_driver</th>\n",
       "      <th>ojek_konvensional</th>\n",
       "    </tr>\n",
       "  </thead>\n",
       "  <tbody>\n",
       "    <tr>\n",
       "      <th>1</th>\n",
       "      <td>1</td>\n",
       "      <td>4</td>\n",
       "      <td>Sangat penting</td>\n",
       "      <td>Sangat penting</td>\n",
       "      <td>Sangat penting</td>\n",
       "      <td>Tidak penting</td>\n",
       "      <td>Penting</td>\n",
       "      <td>Tidak penting</td>\n",
       "      <td>Netral</td>\n",
       "      <td>Netral</td>\n",
       "      <td>Penting</td>\n",
       "      <td>26</td>\n",
       "      <td>Laki-laki</td>\n",
       "      <td>Menikah</td>\n",
       "      <td>SMA/SMK</td>\n",
       "      <td>1</td>\n",
       "      <td>0</td>\n",
       "      <td>0</td>\n",
       "      <td>1</td>\n",
       "      <td>3</td>\n",
       "      <td>Kepala rumah tangga</td>\n",
       "      <td>Rp5.000.000-Rp5.999.999</td>\n",
       "      <td>Rp5.000.000-Rp5.999.999</td>\n",
       "      <td>Karyawan Swasta (Full-time)</td>\n",
       "      <td>2-4 jam</td>\n",
       "      <td>Pribadi</td>\n",
       "      <td>1-3 tahun</td>\n",
       "      <td>Tidak</td>\n",
       "    </tr>\n",
       "    <tr>\n",
       "      <th>2</th>\n",
       "      <td>2</td>\n",
       "      <td>3</td>\n",
       "      <td>Penting</td>\n",
       "      <td>Penting</td>\n",
       "      <td>Sangat penting</td>\n",
       "      <td>Penting</td>\n",
       "      <td>Penting</td>\n",
       "      <td>Netral</td>\n",
       "      <td>Sangat penting</td>\n",
       "      <td>Sangat penting</td>\n",
       "      <td>Sangat penting</td>\n",
       "      <td>52</td>\n",
       "      <td>Laki-laki</td>\n",
       "      <td>Menikah</td>\n",
       "      <td>SMA/SMK</td>\n",
       "      <td>1</td>\n",
       "      <td>0</td>\n",
       "      <td>0</td>\n",
       "      <td>1</td>\n",
       "      <td>4</td>\n",
       "      <td>Kepala rumah tangga</td>\n",
       "      <td>Rp4.000.000-Rp4.999.999</td>\n",
       "      <td>Rp5.000.000-Rp5.999.999</td>\n",
       "      <td>Wirausahawan</td>\n",
       "      <td>8-10 jam</td>\n",
       "      <td>Pribadi</td>\n",
       "      <td>5-7 tahun</td>\n",
       "      <td>Tidak</td>\n",
       "    </tr>\n",
       "    <tr>\n",
       "      <th>3</th>\n",
       "      <td>3</td>\n",
       "      <td>4</td>\n",
       "      <td>Penting</td>\n",
       "      <td>Penting</td>\n",
       "      <td>Sangat penting</td>\n",
       "      <td>Tidak penting</td>\n",
       "      <td>Penting</td>\n",
       "      <td>Netral</td>\n",
       "      <td>Sangat penting</td>\n",
       "      <td>Sangat penting</td>\n",
       "      <td>Sangat penting</td>\n",
       "      <td>35</td>\n",
       "      <td>Laki-laki</td>\n",
       "      <td>Menikah</td>\n",
       "      <td>SMA/SMK</td>\n",
       "      <td>1</td>\n",
       "      <td>0</td>\n",
       "      <td>1</td>\n",
       "      <td>2</td>\n",
       "      <td>3</td>\n",
       "      <td>Kepala rumah tangga</td>\n",
       "      <td>Rp3.000.000-Rp3.999.999</td>\n",
       "      <td>Rp5.000.000-Rp5.999.999</td>\n",
       "      <td>Tidak ada</td>\n",
       "      <td>Di atas 10 jam</td>\n",
       "      <td>Pribadi</td>\n",
       "      <td>5-7 tahun</td>\n",
       "      <td>Tidak</td>\n",
       "    </tr>\n",
       "    <tr>\n",
       "      <th>4</th>\n",
       "      <td>4</td>\n",
       "      <td>4</td>\n",
       "      <td>Penting</td>\n",
       "      <td>Penting</td>\n",
       "      <td>Sangat penting</td>\n",
       "      <td>Penting</td>\n",
       "      <td>Netral</td>\n",
       "      <td>Tidak penting</td>\n",
       "      <td>Netral</td>\n",
       "      <td>Penting</td>\n",
       "      <td>Penting</td>\n",
       "      <td>70</td>\n",
       "      <td>Laki-laki</td>\n",
       "      <td>Menikah</td>\n",
       "      <td>SMP</td>\n",
       "      <td>1</td>\n",
       "      <td>0</td>\n",
       "      <td>0</td>\n",
       "      <td>1</td>\n",
       "      <td>2</td>\n",
       "      <td>Kepala rumah tangga</td>\n",
       "      <td>Rp3.000.000-Rp3.999.999</td>\n",
       "      <td>Rp3.000.000-Rp3.999.999</td>\n",
       "      <td>Tidak ada</td>\n",
       "      <td>8-10 jam</td>\n",
       "      <td>Pribadi</td>\n",
       "      <td>5-7 tahun</td>\n",
       "      <td>Ya</td>\n",
       "    </tr>\n",
       "    <tr>\n",
       "      <th>5</th>\n",
       "      <td>5</td>\n",
       "      <td>3</td>\n",
       "      <td>Tidak penting</td>\n",
       "      <td>Sangat tidak penting</td>\n",
       "      <td>Sangat penting</td>\n",
       "      <td>Sangat tidak penting</td>\n",
       "      <td>Sangat tidak penting</td>\n",
       "      <td>Sangat tidak penting</td>\n",
       "      <td>Penting</td>\n",
       "      <td>Sangat penting</td>\n",
       "      <td>Penting</td>\n",
       "      <td>41</td>\n",
       "      <td>Laki-laki</td>\n",
       "      <td>Menikah</td>\n",
       "      <td>SMP</td>\n",
       "      <td>1</td>\n",
       "      <td>0</td>\n",
       "      <td>0</td>\n",
       "      <td>1</td>\n",
       "      <td>4</td>\n",
       "      <td>Kepala rumah tangga</td>\n",
       "      <td>Rp3.000.000-Rp3.999.999</td>\n",
       "      <td>Rp3.000.000-Rp3.999.999</td>\n",
       "      <td>Tidak ada</td>\n",
       "      <td>Di atas 10 jam</td>\n",
       "      <td>Pribadi</td>\n",
       "      <td>7-9 tahun</td>\n",
       "      <td>Ya</td>\n",
       "    </tr>\n",
       "  </tbody>\n",
       "</table>\n",
       "</div>"
      ]
     },
     "metadata": {},
     "output_type": "display_data"
    }
   ],
   "source": [
    "%head 5"
   ]
  },
  {
   "cell_type": "markdown",
   "id": "f34471d2-fbe6-4714-9b1c-1720715dc9c0",
   "metadata": {},
   "source": [
    "1. Melakukan reduksi data tabel frekuensi menggunakan `tabulate`"
   ]
  },
  {
   "cell_type": "code",
   "execution_count": 3,
   "id": "6602b924-2cad-4774-8f12-a8bc3c785a92",
   "metadata": {
    "tags": []
   },
   "outputs": [
    {
     "name": "stdout",
     "output_type": "stream",
     "text": [
      "\n",
      "                    pendidikan |      Freq.     Percent        Cum.\n",
      "-------------------------------+-----------------------------------\n",
      "                            D3 |          1        0.17        0.17\n",
      "                       Diploma |         36        6.22        6.39\n",
      "Pascasarjana atau lebih tinggi |          1        0.17        6.56\n",
      "                            SD |         32        5.53       12.09\n",
      "                       SMA/SMK |        383       66.15       78.24\n",
      "                           SMP |         79       13.64       91.88\n",
      "                           STM |          1        0.17       92.06\n",
      "                       Sarjana |         45        7.77       99.83\n",
      "                     Tidak ada |          1        0.17      100.00\n",
      "-------------------------------+-----------------------------------\n",
      "                         Total |        579      100.00\n"
     ]
    }
   ],
   "source": [
    "tabulate pendidikan"
   ]
  },
  {
   "cell_type": "markdown",
   "id": "8530bcee-1a32-40ce-b32b-d4eefecd2bfe",
   "metadata": {
    "tags": []
   },
   "source": [
    "2. Melihat ukuran kecenderungan terpusat dengan`summarize`"
   ]
  },
  {
   "cell_type": "code",
   "execution_count": 20,
   "id": "128bc604-9de6-4dd5-bf97-e8eab74af26b",
   "metadata": {
    "tags": []
   },
   "outputs": [
    {
     "name": "stdout",
     "output_type": "stream",
     "text": [
      "\n",
      "    Variable |        Obs        Mean    Std. dev.       Min        Max\n",
      "-------------+---------------------------------------------------------\n",
      "jml_kendar~i |        579    1.689119    1.263023          0         16\n"
     ]
    }
   ],
   "source": [
    "summarize jml_kendaraan_pribadi"
   ]
  },
  {
   "cell_type": "code",
   "execution_count": 22,
   "id": "45e4bfa1-257d-45aa-bbdc-8395ef1e9eab",
   "metadata": {
    "tags": []
   },
   "outputs": [
    {
     "name": "stdout",
     "output_type": "stream",
     "text": [
      "\n",
      "                    jml_kendaraan_pribadi\n",
      "-------------------------------------------------------------\n",
      "      Percentiles      Smallest\n",
      " 1%            0              0\n",
      " 5%            1              0\n",
      "10%            1              0       Obs                 579\n",
      "25%            1              0       Sum of wgt.         579\n",
      "\n",
      "50%            1                      Mean           1.689119\n",
      "                        Largest       Std. dev.      1.263023\n",
      "75%            2              8\n",
      "90%            3              9       Variance       1.595227\n",
      "95%            4              9       Skewness        4.22957\n",
      "99%            6             16       Kurtosis        36.3555\n"
     ]
    }
   ],
   "source": [
    "summarize jml_kendaraan_pribadi, detail"
   ]
  },
  {
   "cell_type": "markdown",
   "id": "a29765c2-889e-4742-bc0d-a16780d953a7",
   "metadata": {},
   "source": [
    "#### Reduksi Grafik"
   ]
  },
  {
   "cell_type": "markdown",
   "id": "30f0f727-e8fc-4200-9a1b-830f3d5b03ad",
   "metadata": {
    "tags": []
   },
   "source": [
    "1. Histogram & Box-plot"
   ]
  },
  {
   "cell_type": "markdown",
   "id": "1d0b7856-aeff-4df3-abb6-e53fb5ae8dc0",
   "metadata": {},
   "source": [
    "Histogram dan boxplot menampilkan distribusi data kontinyu. Histogram menampikan data berdasarkan `bins` atau 'kantong' rentang angka yang menampilkan bar. Sedangkan box-plot menampilkan summary sebaran data seperti median, interquartile range (IQR), dan outliers (lebih dari 1.5*IQR) "
   ]
  },
  {
   "cell_type": "code",
   "execution_count": 4,
   "id": "ef50d2c8-a73f-4b81-a390-d19a4fbb7809",
   "metadata": {
    "tags": []
   },
   "outputs": [
    {
     "name": "stdout",
     "output_type": "stream",
     "text": [
      "(bin=24, start=16, width=22.583333)\n"
     ]
    },
    {
     "data": {
      "image/png": "[encoded data removed]",
      "text/plain": [
       "<IPython.core.display.Image object>"
      ]
     },
     "metadata": {},
     "output_type": "display_data"
    }
   ],
   "source": [
    "histogram usia"
   ]
  },
  {
   "cell_type": "code",
   "execution_count": 13,
   "id": "c8bd0a1f-0bd9-4d31-9d85-0fe3679bd0a2",
   "metadata": {
    "tags": []
   },
   "outputs": [
    {
     "data": {
      "image/png": "[encoded data removed]",
      "text/plain": [
       "<IPython.core.display.Image object>"
      ]
     },
     "metadata": {},
     "output_type": "display_data"
    }
   ],
   "source": [
    "graph box usia"
   ]
  },
  {
   "cell_type": "markdown",
   "id": "dc8992da-2d56-47ef-a6b9-ee9cb6929b67",
   "metadata": {},
   "source": [
    "3. Two-way boxplot"
   ]
  },
  {
   "cell_type": "code",
   "execution_count": 28,
   "id": "63683974-ac68-488c-a070-21265ea12f73",
   "metadata": {
    "tags": []
   },
   "outputs": [
    {
     "data": {
      "image/png": "[encoded data removed]",
      "text/plain": [
       "<IPython.core.display.Image object>"
      ]
     },
     "metadata": {},
     "output_type": "display_data"
    }
   ],
   "source": [
    "graph box usia, over(status_menikah)"
   ]
  },
  {
   "cell_type": "markdown",
   "id": "1f342322-106b-4932-9f7c-4654811cc518",
   "metadata": {},
   "source": [
    "Coba interpretasi ketiga grafik di atas!"
   ]
  },
  {
   "cell_type": "markdown",
   "id": "1c5af49c-5f11-4218-ba5b-ad472e1e1f6d",
   "metadata": {
    "tags": []
   },
   "source": [
    "2. Pie Chart"
   ]
  },
  {
   "cell_type": "code",
   "execution_count": 10,
   "id": "72577bb5-9999-42b9-bfae-eabc9ba5a7ff",
   "metadata": {
    "tags": []
   },
   "outputs": [
    {
     "data": {
      "image/png": "[encoded data removed]",
      "text/plain": [
       "<IPython.core.display.Image object>"
      ]
     },
     "metadata": {},
     "output_type": "display_data"
    }
   ],
   "source": [
    "graph pie, over(jk) plabel(_all percent)"
   ]
  },
  {
   "cell_type": "markdown",
   "id": "52246c5d-1a28-4cf2-980f-d8ee7fe4760e",
   "metadata": {},
   "source": [
    "3. Bar Chart"
   ]
  },
  {
   "cell_type": "code",
   "execution_count": 12,
   "id": "492a8437-961f-46ee-824f-44686ad09c21",
   "metadata": {
    "tags": []
   },
   "outputs": [
    {
     "data": {
      "image/png": "[encoded data removed]",
      "text/plain": [
       "<IPython.core.display.Image object>"
      ]
     },
     "metadata": {},
     "output_type": "display_data"
    }
   ],
   "source": [
    "graph bar (count), over(status_menikah)"
   ]
  },
  {
   "cell_type": "markdown",
   "id": "193aa106-33a2-48c4-94a7-30a3f8ba0a92",
   "metadata": {},
   "source": [
    "4. Two-way bar chart"
   ]
  },
  {
   "cell_type": "code",
   "execution_count": 18,
   "id": "d742b2fc-5f45-492b-a195-0b0d568b9890",
   "metadata": {
    "tags": []
   },
   "outputs": [
    {
     "data": {
      "image/png": "[encoded data removed]",
      "text/plain": [
       "<IPython.core.display.Image object>"
      ]
     },
     "metadata": {},
     "output_type": "display_data"
    }
   ],
   "source": [
    "graph bar (count), over(status_menikah) over(jk) asyvars //asyvars untuk mewarnai barchart sesuai pengelompokkan pertama"
   ]
  },
  {
   "cell_type": "markdown",
   "id": "69b62b24-5c71-4aaf-b143-98761fe88ec4",
   "metadata": {},
   "source": [
    "4. Scatter plot"
   ]
  },
  {
   "cell_type": "code",
   "execution_count": 15,
   "id": "298ebeac-bdec-474b-b07d-4ddb7af41863",
   "metadata": {
    "tags": []
   },
   "outputs": [
    {
     "data": {
      "image/png": "[encoded data removed]",
      "text/plain": [
       "<IPython.core.display.Image object>"
      ]
     },
     "metadata": {},
     "output_type": "display_data"
    }
   ],
   "source": [
    "scatter jml_anggota_rt jml_kendaraan_pribadi"
   ]
  },
  {
   "cell_type": "markdown",
   "id": "8d0332ff-c276-40b1-89d5-f99d9144ec06",
   "metadata": {},
   "source": [
    "Scatter plot dengan gris linear."
   ]
  },
  {
   "cell_type": "code",
   "execution_count": 16,
   "id": "180ac2ac-468c-4f04-b371-eb87ae1a7eb0",
   "metadata": {
    "tags": []
   },
   "outputs": [
    {
     "data": {
      "image/png": "[encoded data removed]",
      "text/plain": [
       "<IPython.core.display.Image object>"
      ]
     },
     "metadata": {},
     "output_type": "display_data"
    }
   ],
   "source": [
    "twoway (scatter jml_anggota_rt jml_kendaraan_pribadi) (lfit jml_anggota_rt jml_kendaraan_pribadi)"
   ]
  }
 ],
 "metadata": {
  "kernelspec": {
   "display_name": "Stata (nbstata)",
   "language": "stata",
   "name": "nbstata"
  },
  "language_info": {
   "file_extension": ".do",
   "mimetype": "text/x-stata",
   "name": "stata",
   "version": "17"
  }
 },
 "nbformat": 4,
 "nbformat_minor": 5
}
