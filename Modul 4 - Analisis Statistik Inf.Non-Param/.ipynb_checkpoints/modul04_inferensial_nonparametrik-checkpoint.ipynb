{
 "cells": [
  {
   "cell_type": "markdown",
   "id": "8f0b9cee-7491-47b2-a55e-b12e15c32d26",
   "metadata": {},
   "source": [
    "# Modul 4: Analisis Statistik Infernsial (Non-Parametrik)"
   ]
  },
  {
   "cell_type": "markdown",
   "id": "9f121549-77de-4232-9a37-36816670d9cf",
   "metadata": {},
   "source": [
    "### Objectives Praktikum"
   ]
  },
  {
   "cell_type": "markdown",
   "id": "404c5b06-f244-4428-9733-f2625da9a377",
   "metadata": {},
   "source": [
    "1. Praktikan mampu memahami prinsip-prinsip dasar analisis statistik inferensial nonparametrik, yaitu uji Run (uji keacakan), uji Sign (uji tanda), uji Wilcoxon Sign-Rank, dan uji Mann Whitney U\n",
    "2. Praktikan mampu melakukan uji Run, uji Sign, uji Wilcoxon Sign-Rank, dan uji Mann Whitney U pada Stata & Jupyter."
   ]
  },
  {
   "cell_type": "markdown",
   "id": "46d98c9e-e1cc-4f3c-b363-791f3cd9af79",
   "metadata": {},
   "source": [
    "### Review Teori"
   ]
  },
  {
   "cell_type": "markdown",
   "id": "35edc675-cad2-4fe7-8610-2c4f85a5764a",
   "metadata": {},
   "source": [
    "Analisis statistik inferensial merupakan analisis yang menarik kesimpulan mengenai karakteristik suatu populasi dari observasi terhadap sampel (Kachigan, 1982). Analisis statistik ini dapat dilakukan dengan dua pendekatan, yaitu estimasi parameter dan pengujian hipotesis. Estimasi parameter dilakukan dengan langsung memperkirakan karakteristik populasi melalui pengamatan sampel. Pengujian hipotesis dilakukan dengan menjadikan kesimpulan pengamatan sampel sebagai landasan untuk mendukung atau menentang hipotesis awal dalam menggambarkan karakteristik populasi. \n",
    "\n",
    "Pengujian hipotesis terbagi dua, yaitu pengujian hipotesis parametrik untuk data yang memiliki distribusi normal dan pengujian hipotesis nonparametrik untuk data yang memiliki distribusi tidak normal (Healey, 2012; Chase and Bown, 1998; Kachigan, 1982). Pengujian hipotesis nonparametrik di antaranya adalah uji Run, uji Sign, uji Wilcoxon Sign-Rank, dan uji Mann Whitney U. Adapun kegunaan masing-masing uji diuraikan sebagai berikut:"
   ]
  },
  {
   "cell_type": "markdown",
   "id": "2f816a7d-b7e9-4385-bfda-46989d588e9f",
   "metadata": {},
   "source": [
    "1. Uji Run dilakukan untuk mengetahui keacakan dari proses pengambilan sampel;\n",
    "2. Uji Sign dilakukan untuk mengetahui ada tidaknya perbedaan yang nyata dari sampel berpasangan. Pasangan yang dimaksud biasanya kondisi sebelum dan sesudah, yang dinyatakan dalam bentuk tanda positif dan negatif. Uji ini hanya melihat arah dan ada tidaknya perbedaan nyata tanpa memperhatikan besarnya perbedaan;\n",
    "3. Uji Wilcoxon Sign-Rank awalnya diperkenalkan sebagai penyempurnaan uji Sign. Selain memperhatikan  tanda perbedaan, uji ini memperhatikan besarnya perbedaan dalam menentukan ada tidaknya perbedaan nyata dari sampel berpasangan;\n",
    "3. Uji Mann Whitney U dilakukan untuk mengetahui ada tidaknya perbedaan yang nyata dari sampel independen."
   ]
  },
  {
   "cell_type": "markdown",
   "id": "63f1bba0-ae90-439a-8b45-7d2cb0680a78",
   "metadata": {},
   "source": [
    "### Hands-on Praktikum\n",
    "\n",
    "Melalui praktikum ini, praktikan diarahkan untuk melakukan pengujian hipotesis parametrik berupa uji Run, uji Sign (dengan 1 variabel dan 2 variabel), uji Wilcoxon Sign-Rank (dengan 1 variabel dan 2 variabel), dan uji Mann Whitney U."
   ]
  },
  {
   "cell_type": "markdown",
   "id": "3ec544c8-19f4-40c0-8e7f-d9ff4523c328",
   "metadata": {},
   "source": [
    "#### 1. Uji Run\n",
    "Uji Run merupakan uji yang digunakan untuk mengetahui keacakan dari proses pengambilan sampel. Satu Run adalah satu deretan simbol yang sama.\n",
    "\n",
    "![uji run](img/img1.png)\n",
    "\n",
    "Pada pengujian kali ini, data yang digunakan adalah data suatu kabupaten yang berupa kawasan perdesaan dengan kegiatan ekonomi utama berupa pertanian. Dalam musim panen ini, kabupaten ini mengalami kerugian akibat gagal panen yang dialami beberapa kecamatan. Pemerintah Daerah, khususnya Dinas Pertanian, ingin mengetahui apakah kegagalan tersebut terjadi secara acak (kebetulan) atau diakibatkan kesalahan dalam proses sebelum panen. Untuk itu, diambil sampel kecamatan A-Z dengan klasifikasi hasil panen 1=Berhasil dan 2=Gagal)."
   ]
  },
  {
   "cell_type": "code",
   "execution_count": 1,
   "id": "d83f0d62-71b3-4444-8aa7-61e90de038b6",
   "metadata": {
    "tags": []
   },
   "outputs": [
    {
     "name": "stdout",
     "output_type": "stream",
     "text": [
      "\n",
      "  ___  ____  ____  ____  ____ ©\n",
      " /__    /   ____/   /   ____/      17.0\n",
      "___/   /   /___/   /   /___/       BE—Basic Edition\n",
      "\n",
      " Statistics and Data Science       Copyright 1985-2021 StataCorp LLC\n",
      "                                   StataCorp\n",
      "                                   4905 Lakeway Drive\n",
      "                                   College Station, Texas 77845 USA\n",
      "                                   800-STATA-PC        https://www.stata.com\n",
      "                                   979-696-4600        stata@stata.com\n",
      "\n",
      "Stata license: 25-student lab, expiring 14 Nov 2023\n",
      "Serial number: 301709411476\n",
      "  Licensed to: azwanaza\n",
      "               Labscan PWK SAPPK ITB\n",
      "\n",
      "Notes:\n",
      "      1. Unicode is supported; see help unicode_advice.\n"
     ]
    },
    {
     "data": {
      "text/html": [
       "<style>div.jp-Notebook .datagrid-container {min-height: 448px; }</style>"
      ],
      "text/plain": [
       "<IPython.core.display.HTML object>"
      ]
     },
     "metadata": {},
     "output_type": "display_data"
    }
   ],
   "source": [
    "use \"data/run.dta\""
   ]
  },
  {
   "cell_type": "code",
   "execution_count": 2,
   "id": "4683424b-3fc3-4a1f-ba0f-c596e2cb22b8",
   "metadata": {
    "tags": []
   },
   "outputs": [
    {
     "data": {
      "text/html": [
       "<div>\n",
       "<style scoped>\n",
       "    .dataframe tbody tr th:only-of-type {\n",
       "        vertical-align: middle;\n",
       "    }\n",
       "\n",
       "    .dataframe tbody tr th {\n",
       "        vertical-align: top;\n",
       "    }\n",
       "\n",
       "    .dataframe thead th {\n",
       "        text-align: right;\n",
       "    }\n",
       "</style>\n",
       "<table border=\"1\" class=\"dataframe\">\n",
       "  <thead>\n",
       "    <tr style=\"text-align: right;\">\n",
       "      <th></th>\n",
       "      <th>kecamatan</th>\n",
       "      <th>h_panen</th>\n",
       "    </tr>\n",
       "  </thead>\n",
       "  <tbody>\n",
       "    <tr>\n",
       "      <th>1</th>\n",
       "      <td>A</td>\n",
       "      <td>1</td>\n",
       "    </tr>\n",
       "    <tr>\n",
       "      <th>2</th>\n",
       "      <td>B</td>\n",
       "      <td>1</td>\n",
       "    </tr>\n",
       "    <tr>\n",
       "      <th>3</th>\n",
       "      <td>C</td>\n",
       "      <td>1</td>\n",
       "    </tr>\n",
       "    <tr>\n",
       "      <th>4</th>\n",
       "      <td>D</td>\n",
       "      <td>2</td>\n",
       "    </tr>\n",
       "    <tr>\n",
       "      <th>5</th>\n",
       "      <td>E</td>\n",
       "      <td>1</td>\n",
       "    </tr>\n",
       "  </tbody>\n",
       "</table>\n",
       "</div>"
      ]
     },
     "metadata": {},
     "output_type": "display_data"
    }
   ],
   "source": [
    "%head 5"
   ]
  },
  {
   "cell_type": "markdown",
   "id": "f4480572-e1c3-4853-9348-48c99a3a2f93",
   "metadata": {},
   "source": [
    "Berikut adalah langkah-langkah Uji Run:\n",
    "a. Untuk melihat distribusi dan jumlah runs pada data hasil panen, dapat dituliskan command:"
   ]
  },
  {
   "cell_type": "code",
   "execution_count": 3,
   "id": "3dde4c5b-1f9e-42af-9cfd-55726f352cce",
   "metadata": {
    "tags": []
   },
   "outputs": [
    {
     "name": "stdout",
     "output_type": "stream",
     "text": [
      " N(h_panen <= 1) = 19\n",
      " N(h_panen >  1) = 7\n",
      "             obs = 26\n",
      "         N(runs) = 12\n",
      "              z  = .4\n",
      "        Prob>|z| = .6899999999999999\n"
     ]
    }
   ],
   "source": [
    "runtest h_panen"
   ]
  },
  {
   "cell_type": "markdown",
   "id": "c0d9bafa-5fc0-48f4-888d-96369407a08e",
   "metadata": {},
   "source": [
    "* Terdapat 19 panen yang berhasil, ditunjukkan oleh nilai N(h_panen<= 1);\n",
    "* Terdapat 7 panen yang gagal, ditunjukkan oleh nilai N(h_panen > 1);\n",
    "* Terdapat 12 Runs, ditunjukkan oleh N (runs)."
   ]
  },
  {
   "cell_type": "markdown",
   "id": "1f333241-539c-453a-92ea-4bb8ed8a924d",
   "metadata": {},
   "source": [
    "b. Langkah yang selanjutnya dilakukan adalah menentukan hipotesis awal. Pada kasus ini, hipotesis awal adalah sebagai berikut.\n",
    "* H0 = Kegagalan panen bersifat acak (sig => 0,05);\n",
    "* H1 = Kegagalan panen tidak bersifat acak (sig < 0,05)\n",
    "\n",
    "Untuk menentukan hipotesis awal yang diterima, **H0 diterima jika nilai signifikansi   > 0,05**. Nilai signifikansi dilihat dari nilai prob>|z| yang diperoleh. Pada kasus ini nilai prob > |z| yaitu 0,69 > 0,05, maka H0 diterima. Artinya, terjadinya gagal panen bersifat acak (kebetulan), bukan karena adanya kesalahan teknis dalam proses sebelum panen seperti penanaman, pembibitan, dan sebagainya."
   ]
  },
  {
   "cell_type": "markdown",
   "id": "65735b25-e9c6-4207-b841-391dc7af2f9c",
   "metadata": {},
   "source": [
    "#### 2. Uji Sign\n",
    "Uji Sign merupakan uji yang dilakukan untuk mengetahui ada tidaknya perbedaan yang nyata dari sampel berpasangan. Pasangan yang dimaksud biasanya kondisi sebelum dan sesudah, yang dinyatakan dalam bentuk tanda positif dan negatif. Uji ini hanya melihat arah dan ada tidaknya perbedaan nyata tanpa memperhatikan besarnya perbedaan. Uji Sign tersebut memiliki 2 bentuk, yaitu dengan menggunakan 1 variabel dan dengan menggunakan 2 variabel.\n",
    "\n",
    "Pada pengujian kali ini, digunakan data yang berisi data nilai kesejahteraan masyarakat sebelum Program Bandung Juara dan sesudah Program Bandung Juara."
   ]
  },
  {
   "cell_type": "code",
   "execution_count": 4,
   "id": "98ec8de0-a2c9-4cb7-ad5b-dd356ffda4e3",
   "metadata": {
    "tags": []
   },
   "outputs": [],
   "source": [
    "use \"data/sign test sign rank dan wilcoxon.dta\", clear"
   ]
  },
  {
   "cell_type": "code",
   "execution_count": 5,
   "id": "6a6778a2-b0fd-4d36-8891-ed75715044cc",
   "metadata": {
    "tags": []
   },
   "outputs": [
    {
     "data": {
      "text/html": [
       "<div>\n",
       "<style scoped>\n",
       "    .dataframe tbody tr th:only-of-type {\n",
       "        vertical-align: middle;\n",
       "    }\n",
       "\n",
       "    .dataframe tbody tr th {\n",
       "        vertical-align: top;\n",
       "    }\n",
       "\n",
       "    .dataframe thead th {\n",
       "        text-align: right;\n",
       "    }\n",
       "</style>\n",
       "<table border=\"1\" class=\"dataframe\">\n",
       "  <thead>\n",
       "    <tr style=\"text-align: right;\">\n",
       "      <th></th>\n",
       "      <th>Responden</th>\n",
       "      <th>sejahterasb</th>\n",
       "      <th>sejahterasd</th>\n",
       "    </tr>\n",
       "  </thead>\n",
       "  <tbody>\n",
       "    <tr>\n",
       "      <th>1</th>\n",
       "      <td>Hana</td>\n",
       "      <td>60</td>\n",
       "      <td>90</td>\n",
       "    </tr>\n",
       "    <tr>\n",
       "      <th>2</th>\n",
       "      <td>Novia Lesmana</td>\n",
       "      <td>70</td>\n",
       "      <td>85</td>\n",
       "    </tr>\n",
       "    <tr>\n",
       "      <th>3</th>\n",
       "      <td>Muliati</td>\n",
       "      <td>60</td>\n",
       "      <td>90</td>\n",
       "    </tr>\n",
       "    <tr>\n",
       "      <th>4</th>\n",
       "      <td>Tirfan Juandi</td>\n",
       "      <td>60</td>\n",
       "      <td>90</td>\n",
       "    </tr>\n",
       "    <tr>\n",
       "      <th>5</th>\n",
       "      <td>Fajar Muhammadh</td>\n",
       "      <td>60</td>\n",
       "      <td>90</td>\n",
       "    </tr>\n",
       "  </tbody>\n",
       "</table>\n",
       "</div>"
      ]
     },
     "metadata": {},
     "output_type": "display_data"
    }
   ],
   "source": [
    "%head 5"
   ]
  },
  {
   "cell_type": "markdown",
   "id": "907ae47e-5966-4c57-a214-d6339f858f23",
   "metadata": {},
   "source": [
    "Berikut langkah-langkah **Uji Sign dengan 1 variabel**.\n",
    "\n",
    "a. Menentukan hipotesis. Pada kasus ini, diasumsikan bahwa nilai kesejahteraan masyarakat dinilai baik jika mencapai nilai 80. Terdapat 3 hipotesis yang mungkin dibuat, yaitu:\n",
    "\n",
    "**Hipotesis one-tailed (1)**:\n",
    "* H0 : Nilai median pada populasi <= 80 (sig=>0.05);\n",
    "* H1 : Nilai median pada populasi > 80 (sig<0.05).\n",
    "\n",
    "**Hipotesis one-tailed (2)**:\n",
    "* H0 : Nilai median pada populasi >= 80 (sig=>0.05);\n",
    "* H1 : Nilai median pada populasi < 80 (sig<0.05).\n",
    "\n",
    "**Hipotesis two-tailed (1)**:\n",
    "* H0 : Nilai median pada populasi = 80 (sig=>0.05);\n",
    "* H1 : Nilai median pada populasi ≠ 80 (sig<0.05)."
   ]
  },
  {
   "cell_type": "markdown",
   "id": "569e3261-d145-4d26-b4b8-889525fd4bb4",
   "metadata": {},
   "source": [
    "b. Menuliskan command berikut."
   ]
  },
  {
   "cell_type": "code",
   "execution_count": 6,
   "id": "e832ce72-4aa4-43b5-b2b8-b79ff3e3c19b",
   "metadata": {
    "tags": []
   },
   "outputs": [
    {
     "name": "stdout",
     "output_type": "stream",
     "text": [
      "\n",
      "Sign test\n",
      "\n",
      "        Sign |    Observed    Expected\n",
      "-------------+------------------------\n",
      "    Positive |          24        25.5\n",
      "    Negative |          27        25.5\n",
      "        Zero |          23          23\n",
      "-------------+------------------------\n",
      "         All |          74          74\n",
      "\n",
      "One-sided tests:\n",
      "  H0: median of sejahter~d - 80 = 0 vs.\n",
      "  Ha: median of sejahter~d - 80 > 0\n",
      "      Pr(#positive >= 24) =\n",
      "         Binomial(n = 51, x >= 24, p = 0.5) = 0.7121\n",
      "\n",
      "  H0: median of sejahter~d - 80 = 0 vs.\n",
      "  Ha: median of sejahter~d - 80 < 0\n",
      "      Pr(#negative >= 27) =\n",
      "         Binomial(n = 51, x >= 27, p = 0.5) = 0.3899\n",
      "\n",
      "Two-sided test:\n",
      "  H0: median of sejahter~d - 80 = 0 vs.\n",
      "  Ha: median of sejahter~d - 80 != 0\n",
      "      Pr(#positive >= 27 or #negative >= 27) =\n",
      "         min(1, 2*Binomial(n = 51, x >= 27, p = 0.5)) = 0.7798\n"
     ]
    }
   ],
   "source": [
    "signtest sejahterasd = 80"
   ]
  },
  {
   "cell_type": "markdown",
   "id": "b05291f9-371c-4324-a08b-26955b65fed2",
   "metadata": {},
   "source": [
    "Untuk menentukan hipotesis awal yang diterima, **H0 diterima jika nilai signifikansi > 0,05**. Pada hasil two-sided test, karena 0,7798 > 0,05, H0 diterima. Berarti, nilai median pada populasi sama dengan 80 sehingga tidak perlu melihat hasil one-sided test. Berarti, karena median mencapai angka 80, nilai kesejahteraan masyarakat dapat dinilai baik."
   ]
  },
  {
   "cell_type": "markdown",
   "id": "24be3d51-1a6d-4288-a3c5-c0427755ddbe",
   "metadata": {},
   "source": [
    "Berikut langkah-langkah **Uji Sign dengan 2 variabel**\n",
    "a. Menentukan hipotesis. Terdapat 3 hipotesis yang mungkin dibuat, yaitu:\n",
    "\n",
    "**Hipotesis one-tailed (1)**:\n",
    "* H0 : Nilai median kesejahteraan sesudah program – kesejahteraan sebelum program <= 0 (sig=>0.05) \n",
    "* H1 : Nilai median kesejahteraan sesudah program – kesejahteraan sebelum program > 0 (sig<0.05)\n",
    "\n",
    "**Hipotesis one-tailed (2)**:\n",
    "* H0 : Nilai median kesejahteraan sesudah program – kesejahteraan sebelum program >= 0 (sig=>0.05) \n",
    "* H1 : Nilai median kesejahteraan sesudah program – kesejahteraan sebelum program < 0 (sig<0.05) \n",
    "\n",
    "**Hipotesis two-tailed (1)**:\n",
    "* H0 : Nilai median kesejahteraan sesudah program – kesejahteraan sebelum program = 0 (sig=>0.05) \n",
    "* H1 : Nilai median kesejahteraan sesudah program – kesejahteraan sebelum program ≠ 0 (sig<0.05)\n",
    "\n",
    "b. Menuliskan command sebagai berikut"
   ]
  },
  {
   "cell_type": "code",
   "execution_count": 7,
   "id": "27855016-4087-4f85-9273-f52eb8dd8176",
   "metadata": {
    "tags": []
   },
   "outputs": [
    {
     "name": "stdout",
     "output_type": "stream",
     "text": [
      "\n",
      "Sign test\n",
      "\n",
      "        Sign |    Observed    Expected\n",
      "-------------+------------------------\n",
      "    Positive |          49        25.5\n",
      "    Negative |           2        25.5\n",
      "        Zero |          23          23\n",
      "-------------+------------------------\n",
      "         All |          74          74\n",
      "\n",
      "One-sided tests:\n",
      "  H0: median of sejahter~d - sejahterasb = 0 vs.\n",
      "  Ha: median of sejahter~d - sejahterasb > 0\n",
      "      Pr(#positive >= 49) =\n",
      "         Binomial(n = 51, x >= 49, p = 0.5) = 0.0000\n",
      "\n",
      "  H0: median of sejahter~d - sejahterasb = 0 vs.\n",
      "  Ha: median of sejahter~d - sejahterasb < 0\n",
      "      Pr(#negative >= 2) =\n",
      "         Binomial(n = 51, x >= 2, p = 0.5) = 1.0000\n",
      "\n",
      "Two-sided test:\n",
      "  H0: median of sejahter~d - sejahterasb = 0 vs.\n",
      "  Ha: median of sejahter~d - sejahterasb != 0\n",
      "      Pr(#positive >= 49 or #negative >= 49) =\n",
      "         min(1, 2*Binomial(n = 51, x >= 49, p = 0.5)) = 0.0000\n"
     ]
    }
   ],
   "source": [
    "signtest sejahterasd = sejahterasb"
   ]
  },
  {
   "cell_type": "markdown",
   "id": "c8322757-83cc-4016-acf6-dc8dfbc9ae95",
   "metadata": {},
   "source": [
    "Untuk menentukan hipotesis awal yang diterima, **H0 diterima jika nilai signifikansi > 0,05**. Pada hasil two-sided test, karena 0 < 0,05, H0 ditolak dan H1 diterima. Berarti, selisih nilai median kesejahteraan masyarakat sesudah dan sebelum adanya program Bandung Juara tidak sama dengan 0. Berarti, nilai kesejahteraan masyarakat Sekeloa mengalami perubahan antara sebelum dan sesudah adanya program Bandung Juara. \n",
    "Perubahan dapat dilihat pada hasil one-sided test. Pada one-sided test pertama, karena 0 < 0,005, H0 ditolak dan H1 diterima. Nilai median kesejahteraan sesudah program – kesejahteraan sebelum program > 0 (sig<0.05). Berarti, terdapat peningkatan persepsi penilaian tingkat kesejahteraan masyarakat Sekeloa setelah adanya program Bandung Juara.\n",
    "Jika dilihat dari one-sided test kedua pun hasilnya sama. Karena 1 > 0,005, berarti H0 diterima. Nilai median kesejahteraan sesudah program – kesejahteraan sebelum program >= 0 (sig=>0.05). Berarti terdapat peningkatan persepsi penilaian tingkat kesejahteraan masyarakat Sekeloa setelah adanya program Bandung Juara.\n"
   ]
  },
  {
   "cell_type": "markdown",
   "id": "1f3c0653-25ad-41aa-81e6-4a0e502767f8",
   "metadata": {},
   "source": [
    "#### 3. Uji Wilcoxon Sign-Rank\n",
    "Terdapat 2 bentuk Uji Wilcoxon Sign-Rank, yaitu dengan menggunakan 1 variabel dan dengan menggunakan 2 variabel.\n",
    "\n",
    "**Uji Wilcoxon Sign-Rank 1 Variabel**\n",
    "\n",
    "Uji ini digunakan untuk melihat distribusi data pada satu data. Data yang digunakan masih data mengenai kesejahteraan sesudah program Bandung Juara. Berikut merupakan langkah-langkah untuk melakukan Uji Wilcoxon Sign-Rank 1 variabel.\n",
    "\n",
    "a. Menentukan hipotesis\n",
    "* H0 : Nilai median pada populasi = 80 (sig=>0.05) \n",
    "* H1 : Nilai median pada populasi ≠ 80 (sig<0.05)\n",
    "\n",
    "b. Menulis command sebagai berikut."
   ]
  },
  {
   "cell_type": "code",
   "execution_count": 9,
   "id": "b7a27aa4-8f79-4c02-9b34-b8bb655af279",
   "metadata": {
    "tags": []
   },
   "outputs": [
    {
     "name": "stdout",
     "output_type": "stream",
     "text": [
      "\n",
      "Wilcoxon signed-rank test\n",
      "\n",
      "        Sign |      Obs   Sum ranks    Expected\n",
      "-------------+---------------------------------\n",
      "    Positive |       24         958      1249.5\n",
      "    Negative |       27        1541      1249.5\n",
      "        Zero |       23         276         276\n",
      "-------------+---------------------------------\n",
      "         All |       74        2775        2775\n",
      "\n",
      "Unadjusted variance    34456.25\n",
      "Adjustment for ties     -123.75\n",
      "Adjustment for zeros   -1081.00\n",
      "                     ----------\n",
      "Adjusted variance      33251.50\n",
      "\n",
      "H0: sejahterasd = 80\n",
      "         z = -1.599\n",
      "Prob > |z| = 0.1099\n",
      "Exact prob = 0.1107\n"
     ]
    }
   ],
   "source": [
    "signrank sejahterasd = 80"
   ]
  },
  {
   "cell_type": "markdown",
   "id": "cc57b99a-2fea-4a55-98cd-44a1a6ef320b",
   "metadata": {},
   "source": [
    "Berdasarkan hasil uji tersebut didapatkan bahwa:\n",
    "* Nilai kesejahteraan sesudah program Bandung Juara > 80 → Rank positif = 24\n",
    "* Nilai kesejahteraan sesudah program Bandung Juara < 80 → Rank negatif= 27\n",
    "* Nilai kesejahteraan sesudah program Bandung Juara = 80 → Zero = 23\n",
    "\n",
    "Berdasarkan hasil uji, didapatkan bahwa nilai prob>|z| yaitu 0,1099 > 0,05, maka H0 diterima. Artinya, nilai median pada populasi sama dengan 80."
   ]
  },
  {
   "cell_type": "markdown",
   "id": "ee815807-7173-4c0a-be6a-01c535794756",
   "metadata": {},
   "source": [
    "**Uji Wilcoxon Sign-Rank 2 variabel**\n",
    "\n",
    "Uji ini digunakan untuk kasus dua sampel yang dependen atau saling bergantungan/terkait. Uji ini menggunakan W sebagai statistik uji, yang merupakan jumlah Rank positif atau negatif berdasarkan perbedaan nilai setiap kasus dengan median yang diuji. Berikut merupakan langkah-langkah untuk melakukan **Uji Wilcoxon Sign-Rank Test 2 variabel**.\n",
    "\n",
    "a. Menentukan hipotesis\n",
    "* H0 : Tidak ada perbedaan nilai median populasi dari dua variabel dependen (sig=>0.05) \n",
    "* H1 : Terdapat perbedaan nilai median populasi dari dua variabel dependen (sig<0.05) \n",
    "\n",
    "b. Menuliskan command sebagai berikut"
   ]
  },
  {
   "cell_type": "code",
   "execution_count": 10,
   "id": "2abdd0e9-483d-49fd-87d3-efa086ba065c",
   "metadata": {
    "tags": []
   },
   "outputs": [
    {
     "name": "stdout",
     "output_type": "stream",
     "text": [
      "\n",
      "Wilcoxon signed-rank test\n",
      "\n",
      "        Sign |      Obs   Sum ranks    Expected\n",
      "-------------+---------------------------------\n",
      "    Positive |       49        2383      1249.5\n",
      "    Negative |        2         116      1249.5\n",
      "        Zero |       23         276         276\n",
      "-------------+---------------------------------\n",
      "         All |       74        2775        2775\n",
      "\n",
      "Unadjusted variance    34456.25\n",
      "Adjustment for ties     -101.38\n",
      "Adjustment for zeros   -1081.00\n",
      "                     ----------\n",
      "Adjusted variance      33273.88\n",
      "\n",
      "H0: sejahterasd = sejahterasb\n",
      "         z =  6.214\n",
      "Prob > |z| = 0.0000\n",
      "Exact prob = 0.0000\n"
     ]
    }
   ],
   "source": [
    "signrank sejahterasd = sejahterasb"
   ]
  },
  {
   "cell_type": "markdown",
   "id": "8fcdc4e5-8983-4015-adb5-4cb5dde63c48",
   "metadata": {},
   "source": [
    "Berdasarkan hasil uji tersebut didapatkan bahwa:\n",
    "* Nilai kesejahteraan sebelum program Bandung Juara < Nilai kesejahteraan sesudah program Bandung Juara → Rank positif = 49\n",
    "* Nilai kesejahteraan sebelum program Bandung Juara > Nilai kesejahteraan sesudah program Bandung Juara → Rank negatif = 2\n",
    "* Nilai kesejahteraan sebelum program Bandung Juara = Nilai kesejahteraan sesudah program Bandung Juara → Zero = 23\n",
    "\n",
    "Berdasarkan hasil uji, didapatkan nilai prob>|z| yaitu 0,0000 < 0,05, maka H1 diterima. Artinya, terdapat perbedaan antara nilai kesejahteraan sebelum dan sesudah program Bandung Juara."
   ]
  },
  {
   "cell_type": "markdown",
   "id": "6de1fddc-e34c-4159-be99-3666fcb98bba",
   "metadata": {},
   "source": [
    "#### 4. Uji Mann-Whitney U\n",
    "Uji Mann-Whitney atau Uji U merupakan uji yang dilakukan untuk membandingkan dua median populasi berdasarkan suatu pengurutan semua sampel data secara merata. Uji U ini bisa membandingkan dua sampel yang independen. Data kedua sampel digabungkan dan diberi peringkat dari terkecil hingga terbesar. \n",
    "\n",
    "Pada pengujian kali ini, data yang digunakan adalah data yang berisi data nilai persepsi masyarakat terhadap kesejahteraan dan pendidikan di Kelurahan Sekeloa setelah adanya program Bandung Juara. Data ini berisi nilai mata pelajaran Fisika (1) dan Biologi (2) kelas A."
   ]
  },
  {
   "cell_type": "code",
   "execution_count": 11,
   "id": "f88ff3cf-5a84-49e7-9222-6436c0440c6a",
   "metadata": {
    "tags": []
   },
   "outputs": [],
   "source": [
    "use \"data/mann-whitney.dta\", clear"
   ]
  },
  {
   "cell_type": "code",
   "execution_count": 12,
   "id": "229adad8-4fb5-4bf2-b56b-47bcee41a672",
   "metadata": {
    "tags": []
   },
   "outputs": [
    {
     "data": {
      "text/html": [
       "<div>\n",
       "<style scoped>\n",
       "    .dataframe tbody tr th:only-of-type {\n",
       "        vertical-align: middle;\n",
       "    }\n",
       "\n",
       "    .dataframe tbody tr th {\n",
       "        vertical-align: top;\n",
       "    }\n",
       "\n",
       "    .dataframe thead th {\n",
       "        text-align: right;\n",
       "    }\n",
       "</style>\n",
       "<table border=\"1\" class=\"dataframe\">\n",
       "  <thead>\n",
       "    <tr style=\"text-align: right;\">\n",
       "      <th></th>\n",
       "      <th>mata_pel</th>\n",
       "      <th>nilai</th>\n",
       "    </tr>\n",
       "  </thead>\n",
       "  <tbody>\n",
       "    <tr>\n",
       "      <th>1</th>\n",
       "      <td>1</td>\n",
       "      <td>24</td>\n",
       "    </tr>\n",
       "    <tr>\n",
       "      <th>2</th>\n",
       "      <td>1</td>\n",
       "      <td>43</td>\n",
       "    </tr>\n",
       "    <tr>\n",
       "      <th>3</th>\n",
       "      <td>1</td>\n",
       "      <td>58</td>\n",
       "    </tr>\n",
       "    <tr>\n",
       "      <th>4</th>\n",
       "      <td>1</td>\n",
       "      <td>71</td>\n",
       "    </tr>\n",
       "    <tr>\n",
       "      <th>5</th>\n",
       "      <td>1</td>\n",
       "      <td>43</td>\n",
       "    </tr>\n",
       "  </tbody>\n",
       "</table>\n",
       "</div>"
      ]
     },
     "metadata": {},
     "output_type": "display_data"
    }
   ],
   "source": [
    "%head 5"
   ]
  },
  {
   "cell_type": "markdown",
   "id": "0965e665-0f5b-4ecb-b5ac-f26a828374a2",
   "metadata": {},
   "source": [
    "Berikut merupakan langkah-langkah untuk melakukan Uji Mann-Whitney U\n",
    "a. Menentukan hipotesis\n",
    "* H0 : Tidak ada perbedaan nilai median populasi dari dua variabel independen (sig=>0.05) \n",
    "* H1 : Terdapat perbedaan nilai median populasi dari dua variabel independen (sig<0.05)\n",
    "\n",
    "b. Menuliskan command sebagai berikut."
   ]
  },
  {
   "cell_type": "code",
   "execution_count": 13,
   "id": "7c01b1a1-5aff-42c1-8f02-65f78f0189d2",
   "metadata": {
    "tags": []
   },
   "outputs": [
    {
     "name": "stdout",
     "output_type": "stream",
     "text": [
      "\n",
      "Two-sample Wilcoxon rank-sum (Mann–Whitney) test\n",
      "\n",
      "    mata_pel |      Obs    Rank sum    Expected\n",
      "-------------+---------------------------------\n",
      "Nilai Fisika |       21         410         357\n",
      "Nilai Biolog |       12         151         204\n",
      "-------------+---------------------------------\n",
      "    Combined |       33         561         561\n",
      "\n",
      "Unadjusted variance      714.00\n",
      "Adjustment for ties       -1.79\n",
      "                     ----------\n",
      "Adjusted variance        712.21\n",
      "\n",
      "H0: nilai(mata_pel==Nilai Fisika) = nilai(mata_pel==Nilai Biologi)\n",
      "         z =  1.986\n",
      "Prob > |z| = 0.0470\n",
      "Exact prob = 0.0470\n"
     ]
    }
   ],
   "source": [
    "ranksum nilai, by(mata_pel)"
   ]
  },
  {
   "cell_type": "markdown",
   "id": "72ac0c88-5aab-4cba-8cb3-fa0ddadec4a4",
   "metadata": {},
   "source": [
    "Berdasarkan hasil uji, nilai signifikansi (prob>|z|) yang ada di dalam tabel, maka diketahui bahwa nilai prob>|z| yaitu 0,047 < 0,05. Maka H0 ditolak dan H1 diterima, sehingga dapat disimpulkan bahwa terdapat perbedaan antara nilai median mata pelajaran fisika dan biologi."
   ]
  },
  {
   "cell_type": "markdown",
   "id": "2f1a7f3b-1065-4b35-8647-d4dc10e8d7d8",
   "metadata": {},
   "source": [
    "Daftar Pustaka\n",
    "\n",
    "Chase, W, & Bown F. (1998). General Statistics. John Wiley and Sons.\n",
    "\n",
    "Healey, J. F. (2012). Statistics, A Tool for Social Research. Wadsworth Publishing Company.\n",
    "\n",
    "Kachigan, S. K. (1982). Statistical Analysis. Radius Press: New York.\n",
    "\n",
    "(2012). Solusi Praktis dan Mudah Menguasai SPSS 20 untuk Pengolahan Data. Penerbit Andi: Yogyakarta."
   ]
  }
 ],
 "metadata": {
  "kernelspec": {
   "display_name": "Stata (nbstata)",
   "language": "stata",
   "name": "nbstata"
  },
  "language_info": {
   "file_extension": ".do",
   "mimetype": "text/x-stata",
   "name": "stata",
   "version": "17"
  }
 },
 "nbformat": 4,
 "nbformat_minor": 5
}
