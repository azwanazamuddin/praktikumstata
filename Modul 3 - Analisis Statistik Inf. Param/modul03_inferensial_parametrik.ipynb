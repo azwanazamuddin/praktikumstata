{
 "cells": [
  {
   "cell_type": "markdown",
   "id": "8f0b9cee-7491-47b2-a55e-b12e15c32d26",
   "metadata": {},
   "source": [
    "# Modul 3: Analisis Statistik Inferensial (Parametrik)"
   ]
  },
  {
   "cell_type": "markdown",
   "id": "9f121549-77de-4232-9a37-36816670d9cf",
   "metadata": {},
   "source": [
    "### Objectives Praktikum"
   ]
  },
  {
   "cell_type": "markdown",
   "id": "404c5b06-f244-4428-9733-f2625da9a377",
   "metadata": {},
   "source": [
    "1. Praktikan mampu memahami prinsip-prinsip dasar analisis statistik inferensial parametrik dengan metode estimasi parameter dan pengujian hipotesa\n",
    "2. Praktikan mampu melakukan analisis inferensial parametrik dengan metode estimasi parameter dan pengujian hipotesa dengan pemrograman Stata pada Jupyter"
   ]
  },
  {
   "cell_type": "markdown",
   "id": "46d98c9e-e1cc-4f3c-b363-791f3cd9af79",
   "metadata": {},
   "source": [
    "### Review Teori"
   ]
  },
  {
   "cell_type": "markdown",
   "id": "35edc675-cad2-4fe7-8610-2c4f85a5764a",
   "metadata": {},
   "source": [
    "Analisis statistik inferensial adalah metode analisis yang membantu\n",
    "dalam membuat kesimpulan umum tentang karakteristik populasi berdasarkan\n",
    "apa yang di analisis dari data sampel yang diperoleh dari populasi\n",
    "tersebut. Penerapan analisis statistik inferensial dapat dilakukan dalam\n",
    "dua bentuk yaitu estimasi parameter dan pengujian hipotesis. Pada\n",
    "praktikum ini, yang akan dibahas adalah estimasi parameter dan pengujian\n",
    "hipotesis."
   ]
  },
  {
   "cell_type": "markdown",
   "id": "5fbd32f2-135c-442a-ae0f-7b0fb6809cb7",
   "metadata": {},
   "source": [
    "#### Estimasi Parameter"
   ]
  },
  {
   "cell_type": "markdown",
   "id": "5d043072-dc3f-463d-806f-f80e13a2f706",
   "metadata": {},
   "source": [
    "Estimasi parameter adalah suatu perkiraan parameter populasi yang dibuat\n",
    "pada apa yang diketahui tentang sampel. Estimasi digolongkan menjadi dua\n",
    "yaitu estimasi titik (*point estimation*) dan estimasi *confidence interval*."
   ]
  },
  {
   "cell_type": "markdown",
   "id": "89bbb904-42f8-48c2-b982-af783e7b6f42",
   "metadata": {},
   "source": [
    "1. Estimasi Titik\n",
    "\n",
    "    Sebuah nilai tunggal yang digunakan untuk mengestimasi sebuah parameter disebut titik estimator, sedangkan proses untuk mengestimasi titik tersebut disebut estimasi titik (Harinaldi, 2005). Pada estimasi titik, nilainya hanya ada satu dan sangat mengandalkan asumsi parameter. Estimasi titik lebih mudah dalam hal penghitungan, tetapi penaksirannya sangat diragukan karena sangat jarang nilai karakteristik populasi sama persis dengan nilai karakteristik sampel. Hasil estimasi titik juga tidak memberikan tingkat kepercayaan tertentu."
   ]
  },
  {
   "cell_type": "markdown",
   "id": "7fb61d7f-4aa5-415c-be54-39a9891213df",
   "metadata": {},
   "source": [
    "2. Estimasi *Confidence Interval*\n",
    "\n",
    "    Estimasi interval adalah penaksiran populasi dengan nilai-nilai dalam suatu interval tertentu. Dasar adanya estimasi interval adalah karena pada setiap penaksiran pasti mengandung peluang kesalahan.\n",
    "    \n",
    "    * Estimasi Interval Rata-rata Populasi Satu Sampel\n",
    "    \n",
    "        a. Sampel Besar\n",
    "        \n",
    "        $CI =  \\bar{X} \\pm Z\\frac{S_{x}}{\\sqrt{n-1}}$\n",
    "        \n",
    "        b. Sampel Kecil\n",
    "        \n",
    "        $CI =  \\bar{X} \\pm t\\frac{S_{x}}{\\sqrt{n-1}}$\n",
    "        \n",
    "    \n",
    "    * Estimasi Interval Perbedaan Rata-Rata Berpasangan\n",
    "        \n",
    "        a. Sampel Besar\n",
    "        \n",
    "        $CI =  \\bar{D} \\pm Z\\frac{S_{D}}{\\sqrt{n-1}}$\n",
    "        \n",
    "        b. Sampel Kecil\n",
    "        \n",
    "        $CI =  \\bar{D} \\pm t\\frac{S_{D}}{\\sqrt{n-1}}$\n",
    "        \n",
    "    * Estimasi Interval Perbedaan Rata-Rata Independen\n",
    "    \n",
    "        a. Sampel Besar\n",
    "        \n",
    "        $CI = (\\bar{X_{1}} - \\bar{X_{2}})  \\pm t \\sqrt{\\frac{S_{1}^{2}}{n_{1}} + \\frac{S_{2}^{2}}{n_{2}}}$\n",
    "        \n",
    "        b. Sampel Kecil\n",
    "        \n",
    "        $CI = (\\bar{X_{1}} - \\bar{X_{2}})  \\pm t \\sqrt{\\frac{S_{1}^{2}}{n_{1} - 1} + \\frac{S_{2}^{2}}{n_{2} - 1}}$\n",
    "        \n",
    "    * Estimari Interval Proporsi\n",
    "        \n",
    "        $CI = P_{S} \\pm \\sqrt{\\frac{P_{\\mu}(1-P_{\\mu})}{n}}$\n",
    "        \n",
    "        $CI = {(P}_{S1} +  P_{S2}) \\pm Z\\sigma_{P - P}$\n",
    "        "
   ]
  },
  {
   "cell_type": "markdown",
   "id": "d6949cba-65ff-4e67-a426-d420ef75af56",
   "metadata": {},
   "source": [
    "3. Pengujian Hipotesis\n",
    "\n",
    "    Pengujian hipotesis juga terbagi dua, yaitu pengujian hipotesis parametrik untuk data yang memiliki distribusi normal dan pengujian hipotesis non parametrik untuk data yang tidak memerlukan distribusi normal. Pengujian hipotesis parametrik sendiri terdiri dari uji satu sampel (uji proporsi dan uji rata-rata) dan uji dua sampel, yang meliputi dua sampel non independen (uji uji perbedaan rata-rata berpasangan), dan dua sampel independen (uji perbedaan rata-rata independen, dan uji perbedaan dua proporsi).\n",
    "    \n",
    "    Prosedur pengujian hipotesa terdiri dari:\n",
    "    \n",
    "    1. Penentuan asumsi yang terdiri dari asumsi mengenai proses pengambilan sampel, tipe skala pengukuran, dan bentuk distribusi sampling.\n",
    "    \n",
    "    2. Pernyataan hipotesa awal, dengan $o$ merupakan suatu pernyataan tidak ada perbedaan, dan $i$ : suatu pernyataan yang secara langsung bertentangan dengan $o$\n",
    "    \n",
    "    3. Pemilihan distribusi sampling dan penentuan wilayah kritis, dengan mengukur wilayah di bawah distribusi dengan menggunakan distribusi yang sesuai. Wilayah kritis terdiri dari wilayah di bawah distribusi sampling yang mencakup semua hasil sampel yang tidak mungkin dan disebut daerah penolakan $o$. Ukuran wilayah kritis diungkapkan dalam $α$ (proporsi dari seluruh wilayah yang tercakup dalam wilayah kritis).\n",
    "    \n",
    "    4. Penghitungan statistik uji untuk mengevaluasi probabilitas beberapa hasil sampel tertentu, nilai sampel harus diubah ke dalam nilai standar, sesuai dengan distribusi yang digunakan. Apabila menggunakan ditribusi $z$ maka nilai sampel diubah dalan skor $z$, dan apabila menggunakan distribusi $t$ maka nilai sampel diubah dalam skor $t$.\n",
    "    \n",
    "    $Z_{hitung} =\\frac{Statistik Parameter}{Standard Error}$\n",
    "    \n",
    "            Nilai Z biasanya cocok untuk sampel besar, sedangkan nilai t dapat digunakan untuk baik sampel besar maupun kecil, sehingga pada software statistik seperti Stata, lebih sering digunakan nilai t saja.\n",
    "            \n",
    "    \n",
    "    5. Membuat keputusan, keputusan dibuat dengan membandingkan statistik uji ($z$ hitung) dengan wilayah kritis ($z$ tabel). $o$ ditolak bila statistik uji di wilayah kritis dan $o$ diterima bila statistik uji berada di wilayah tidak kritis."
   ]
  },
  {
   "cell_type": "markdown",
   "id": "63f1bba0-ae90-439a-8b45-7d2cb0680a78",
   "metadata": {},
   "source": [
    "### Hands-on Praktikum\n",
    "\n",
    "Dalam praktikum ini akan dilakukan analisis inferensial berupa estimasi rata-rata satu sampel, estimasi rata-rata dua sampel, estimasi proporsi satu sampel, uji rata-rata satu sampel kecil, uji perbedaan rata-rata independen 2 sampel kecil, uji perbedaan rata-rata berpasangan 2 sampel kecil, uji proporsi satu sampel, serta uji proporsi dua sampel independen."
   ]
  },
  {
   "cell_type": "markdown",
   "id": "c7db8261-074d-4850-b8b7-d90d3a302b32",
   "metadata": {},
   "source": [
    "Dataset yang digunakan untuk praktikum ini adalah dataset `Airbnb Prices in European Cities` yang diambil dari portal `Kaggle`. Berikut adalah penjelasan lebih lanjut terkait dataset yang tersedia pada portal `Kaggle`.\n",
    "\n",
    "*This dataset provides a comprehensive look at Airbnb prices in some of the most popular European cities. Each listing is evaluated for various attributes such as room types, cleanliness and satisfaction ratings, bedrooms, distance from the city centre, and more to capture an in-depth understanding of Airbnb prices on both weekdays and weekends. Using spatial econometric methods, we analyse and identify the determinants of Airbnb prices across these cities. Our dataset includes information such as realSum (the total price of the listing), room_type (private/shared/entire home/apt), host_is_superhost (boolean value indicating if host is a superhost or not), multi (indicator whether listing is for multiple rooms or not), biz (business indicator) , guest_satisfaction_overall (overall rating from guests camparing all listings offered by host ), bedrooms, dist (distance from city center) , lng & lat coordinates for location identification etc. We hope that this data set offers insight into how global markets are affected by social dynamics and geographical factors which in turn determine pricing strategies for optimal profitability!*\n",
    "\n",
    "Dalam kasus praktikum ini, dataset yang digunakan berfokus pada data harga Airbnb di London, UK pada saat weekend."
   ]
  },
  {
   "cell_type": "code",
   "execution_count": 1,
   "id": "436e1905-d80b-4bb6-9889-40c11167c357",
   "metadata": {
    "tags": []
   },
   "outputs": [
    {
     "name": "stdout",
     "output_type": "stream",
     "text": [
      "\n",
      "  ___  ____  ____  ____  ____ ©\n",
      " /__    /   ____/   /   ____/      17.0\n",
      "___/   /   /___/   /   /___/       BE—Basic Edition\n",
      "\n",
      " Statistics and Data Science       Copyright 1985-2021 StataCorp LLC\n",
      "                                   StataCorp\n",
      "                                   4905 Lakeway Drive\n",
      "                                   College Station, Texas 77845 USA\n",
      "                                   800-STATA-PC        https://www.stata.com\n",
      "                                   979-696-4600        stata@stata.com\n",
      "\n",
      "Stata license: 25-student lab, expiring 14 Nov 2023\n",
      "Serial number: 301709411476\n",
      "  Licensed to: azwanaza\n",
      "               Labscan PWK SAPPK ITB\n",
      "\n",
      "Notes:\n",
      "      1. Unicode is supported; see help unicode_advice.\n"
     ]
    },
    {
     "data": {
      "text/html": [
       "<style>div.jp-Notebook .datagrid-container {min-height: 448px; }</style>"
      ],
      "text/plain": [
       "<IPython.core.display.HTML object>"
      ]
     },
     "metadata": {},
     "output_type": "display_data"
    },
    {
     "name": "stdout",
     "output_type": "stream",
     "text": [
      "(encoding automatically selected: ISO-8859-1)\n",
      "(19 vars, 5,379 obs)\n"
     ]
    }
   ],
   "source": [
    "import delimited using \"data/london_weekends.csv\", clear"
   ]
  },
  {
   "cell_type": "code",
   "execution_count": 2,
   "id": "4683424b-3fc3-4a1f-ba0f-c596e2cb22b8",
   "metadata": {
    "tags": []
   },
   "outputs": [
    {
     "data": {
      "text/html": [
       "<div>\n",
       "<style scoped>\n",
       "    .dataframe tbody tr th:only-of-type {\n",
       "        vertical-align: middle;\n",
       "    }\n",
       "\n",
       "    .dataframe tbody tr th {\n",
       "        vertical-align: top;\n",
       "    }\n",
       "\n",
       "    .dataframe thead th {\n",
       "        text-align: right;\n",
       "    }\n",
       "</style>\n",
       "<table border=\"1\" class=\"dataframe\">\n",
       "  <thead>\n",
       "    <tr style=\"text-align: right;\">\n",
       "      <th></th>\n",
       "      <th>realsum</th>\n",
       "      <th>room_type</th>\n",
       "      <th>room_shared</th>\n",
       "      <th>room_private</th>\n",
       "      <th>person_capacity</th>\n",
       "      <th>host_is_superhost</th>\n",
       "      <th>multi</th>\n",
       "      <th>biz</th>\n",
       "      <th>cleanliness_rating</th>\n",
       "      <th>guest_satisfaction_overall</th>\n",
       "      <th>bedrooms</th>\n",
       "      <th>dist</th>\n",
       "      <th>metro_dist</th>\n",
       "      <th>attr_index</th>\n",
       "      <th>attr_index_norm</th>\n",
       "      <th>rest_index</th>\n",
       "      <th>rest_index_norm</th>\n",
       "      <th>lng</th>\n",
       "      <th>lat</th>\n",
       "    </tr>\n",
       "  </thead>\n",
       "  <tbody>\n",
       "    <tr>\n",
       "      <th>1</th>\n",
       "      <td>121.1223</td>\n",
       "      <td>Private room</td>\n",
       "      <td>FALSE</td>\n",
       "      <td>TRUE</td>\n",
       "      <td>2</td>\n",
       "      <td>FALSE</td>\n",
       "      <td>0</td>\n",
       "      <td>0</td>\n",
       "      <td>6</td>\n",
       "      <td>69</td>\n",
       "      <td>1</td>\n",
       "      <td>5.734117</td>\n",
       "      <td>.437094</td>\n",
       "      <td>222.8822</td>\n",
       "      <td>15.49341</td>\n",
       "      <td>470.0885</td>\n",
       "      <td>8.413765</td>\n",
       "      <td>-.04975</td>\n",
       "      <td>51.5257</td>\n",
       "    </tr>\n",
       "    <tr>\n",
       "      <th>2</th>\n",
       "      <td>195.9124</td>\n",
       "      <td>Private room</td>\n",
       "      <td>FALSE</td>\n",
       "      <td>TRUE</td>\n",
       "      <td>2</td>\n",
       "      <td>FALSE</td>\n",
       "      <td>1</td>\n",
       "      <td>0</td>\n",
       "      <td>10</td>\n",
       "      <td>96</td>\n",
       "      <td>1</td>\n",
       "      <td>4.788905</td>\n",
       "      <td>1.464051</td>\n",
       "      <td>235.3858</td>\n",
       "      <td>16.36259</td>\n",
       "      <td>530.1335</td>\n",
       "      <td>9.488466</td>\n",
       "      <td>-.08475</td>\n",
       "      <td>51.5421</td>\n",
       "    </tr>\n",
       "    <tr>\n",
       "      <th>3</th>\n",
       "      <td>193.3253</td>\n",
       "      <td>Private room</td>\n",
       "      <td>FALSE</td>\n",
       "      <td>TRUE</td>\n",
       "      <td>3</td>\n",
       "      <td>FALSE</td>\n",
       "      <td>1</td>\n",
       "      <td>0</td>\n",
       "      <td>10</td>\n",
       "      <td>95</td>\n",
       "      <td>1</td>\n",
       "      <td>4.596677</td>\n",
       "      <td>.4503062</td>\n",
       "      <td>268.9138</td>\n",
       "      <td>18.69325</td>\n",
       "      <td>548.9876</td>\n",
       "      <td>9.825922</td>\n",
       "      <td>-.14585</td>\n",
       "      <td>51.54802</td>\n",
       "    </tr>\n",
       "    <tr>\n",
       "      <th>4</th>\n",
       "      <td>180.3899</td>\n",
       "      <td>Private room</td>\n",
       "      <td>FALSE</td>\n",
       "      <td>TRUE</td>\n",
       "      <td>2</td>\n",
       "      <td>FALSE</td>\n",
       "      <td>1</td>\n",
       "      <td>0</td>\n",
       "      <td>9</td>\n",
       "      <td>87</td>\n",
       "      <td>1</td>\n",
       "      <td>2.054769</td>\n",
       "      <td>.1326705</td>\n",
       "      <td>472.3813</td>\n",
       "      <td>32.83707</td>\n",
       "      <td>1021.271</td>\n",
       "      <td>18.27897</td>\n",
       "      <td>-.10611</td>\n",
       "      <td>51.52108</td>\n",
       "    </tr>\n",
       "    <tr>\n",
       "      <th>5</th>\n",
       "      <td>405.701</td>\n",
       "      <td>Entire home/apt</td>\n",
       "      <td>FALSE</td>\n",
       "      <td>FALSE</td>\n",
       "      <td>3</td>\n",
       "      <td>FALSE</td>\n",
       "      <td>0</td>\n",
       "      <td>1</td>\n",
       "      <td>7</td>\n",
       "      <td>65</td>\n",
       "      <td>0</td>\n",
       "      <td>4.491277</td>\n",
       "      <td>.3541075</td>\n",
       "      <td>318.4915</td>\n",
       "      <td>22.13958</td>\n",
       "      <td>692.7754</td>\n",
       "      <td>12.39947</td>\n",
       "      <td>-.18797</td>\n",
       "      <td>51.49399</td>\n",
       "    </tr>\n",
       "  </tbody>\n",
       "</table>\n",
       "</div>"
      ]
     },
     "metadata": {},
     "output_type": "display_data"
    }
   ],
   "source": [
    "%head 5"
   ]
  },
  {
   "cell_type": "markdown",
   "id": "86b2257f-a4fd-4aa3-946c-8f1ec40c903e",
   "metadata": {
    "tags": []
   },
   "source": [
    "| Column Name                 | Description                                                | Data Type  |\n",
    "|-----------------------------|------------------------------------------------------------|------------|\n",
    "| realSum                     | The total price of the Airbnb listing.                    | Numeric    |\n",
    "| room_type                   | The type of room being offered (e.g. private, shared, etc.) | Categorical|\n",
    "| room_shared                 | Whether the room is shared or not.                         | Boolean    |\n",
    "| room_private                | Whether the room is private or not.                        | Boolean    |\n",
    "| person_capacity             | The maximum number of people that can stay in the room.    | Numeric    |\n",
    "| host_is_superhost           | Whether the host is a superhost or not.                    | Boolean    |\n",
    "| multi                       | Whether the listing is for multiple rooms or not.         | Boolean    |\n",
    "| biz                         | Whether the listing is for business purposes or not.      | Boolean    |\n",
    "| cleanliness_rating          | The cleanliness rating of the listing.                    | Numeric    |\n",
    "| guest_satisfaction_overall | The overall guest satisfaction rating of the listing.     | Numeric    |\n",
    "| bedrooms                    | The number of bedrooms in the listing.                    | Numeric    |\n",
    "| dist                        | The distance from the city center.                         | Numeric    |\n",
    "| metro_dist                  | The distance from the nearest metro station.              | Numeric    |\n",
    "| lng                         | The longitude of the listing.                             | Numeric    |\n",
    "| lat                         | The latitude of the listing.                              | Numeric    |\n"
   ]
  },
  {
   "cell_type": "markdown",
   "id": "06d70b64-5792-4374-bc82-863c96585bc2",
   "metadata": {},
   "source": [
    "### Analisis Inferensial: Estimasi Parameter"
   ]
  },
  {
   "cell_type": "markdown",
   "id": "01d3850a-42ed-44b2-a1cb-cd4f8317e1cc",
   "metadata": {},
   "source": [
    "#### 1. Estimasi Rata-Rata 1 Sampel\n",
    "\n",
    "Pada kasus estimasi rata-rata 1 sampel ini, kita akan mencoba melihat estimasi rata-rata dari harga Airbnb secara keseluruhan."
   ]
  },
  {
   "cell_type": "code",
   "execution_count": 3,
   "id": "3dde4c5b-1f9e-42af-9cfd-55726f352cce",
   "metadata": {
    "tags": []
   },
   "outputs": [
    {
     "name": "stdout",
     "output_type": "stream",
     "text": [
      "\n",
      "    Variable |        Obs        Mean    Std. err.       [95% conf. interval]\n",
      "-------------+---------------------------------------------------------------\n",
      "     realsum |      5,379    364.3897    5.968538         352.689    376.0905\n"
     ]
    }
   ],
   "source": [
    "ci means realsum"
   ]
  },
  {
   "cell_type": "markdown",
   "id": "c0d9bafa-5fc0-48f4-888d-96369407a08e",
   "metadata": {},
   "source": [
    "Dari hasil tersebut didapatkan bahwa rata-rata harga listing Airbnb di London pada weekend itu berada pada interval 352.689 hingga 376.0905 euro."
   ]
  },
  {
   "cell_type": "markdown",
   "id": "1f333241-539c-453a-92ea-4bb8ed8a924d",
   "metadata": {},
   "source": [
    "#### 2. Estimasi Rata-Rata 2 Sampel Berpasangan\n",
    "\n",
    "Pasa kasus ini kita akan membandingkan perbedaan nilai antara jarak ke city center dan metro terdekat dari suatu lokasi listing Airbnb ini."
   ]
  },
  {
   "cell_type": "code",
   "execution_count": 4,
   "id": "98ec8de0-a2c9-4cb7-ad5b-dd356ffda4e3",
   "metadata": {
    "tags": []
   },
   "outputs": [],
   "source": [
    "generate diff_dist = dist - metro_dist"
   ]
  },
  {
   "cell_type": "code",
   "execution_count": 5,
   "id": "6a6778a2-b0fd-4d36-8891-ed75715044cc",
   "metadata": {
    "tags": []
   },
   "outputs": [
    {
     "name": "stdout",
     "output_type": "stream",
     "text": [
      "\n",
      "    Variable |        Obs        Mean    Std. err.       [95% conf. interval]\n",
      "-------------+---------------------------------------------------------------\n",
      "   diff_dist |      5,379    4.311087    .0278181        4.256552    4.365621\n"
     ]
    }
   ],
   "source": [
    "ci means diff_dist"
   ]
  },
  {
   "cell_type": "markdown",
   "id": "907ae47e-5966-4c57-a214-d6339f858f23",
   "metadata": {},
   "source": [
    "Perbedaan yang didapatkan pada interval 4.256 hingga 4.365 yang menunjukkan bahwa jarak listing Airbnb di London ini cenderung lebih jauh jaraknya ke city center dibandingkan dengan ke metro station terdekat."
   ]
  },
  {
   "cell_type": "markdown",
   "id": "569e3261-d145-4d26-b4b8-889525fd4bb4",
   "metadata": {},
   "source": [
    "#### 3. Estimasi Proporsi 1 Sampel\n",
    "\n",
    "Pasa kasus ini kita akan memperkirakan proporsi room yang private atau tidak."
   ]
  },
  {
   "cell_type": "code",
   "execution_count": 6,
   "id": "e832ce72-4aa4-43b5-b2b8-b79ff3e3c19b",
   "metadata": {
    "tags": []
   },
   "outputs": [],
   "source": [
    "* Mengonversi \"FALSE\" menjadi 0 dan \"TRUE\" menjadi 1\n",
    "gen room_shared_new = (room_shared == \"TRUE\")\n",
    "gen room_private_new = (room_private == \"TRUE\")"
   ]
  },
  {
   "cell_type": "code",
   "execution_count": 36,
   "id": "c7570b2b-f465-420c-aa4a-8e6c2eecba6d",
   "metadata": {
    "tags": []
   },
   "outputs": [
    {
     "name": "stdout",
     "output_type": "stream",
     "text": [
      "\n",
      "                                                            Binomial exact   \n",
      "    Variable |        Obs  Proportion    Std. err.       [95% conf. interval]\n",
      "-------------+---------------------------------------------------------------\n",
      "room_priva~w |      5,379    .5454545    .0067892        .5320334    .5588263\n"
     ]
    }
   ],
   "source": [
    "ci prop room_private_new"
   ]
  },
  {
   "cell_type": "markdown",
   "id": "b05291f9-371c-4324-a08b-26955b65fed2",
   "metadata": {},
   "source": [
    "Dari hasil tersebut didapatkan bahwa room private memiliki proporsi pada interval 0.53 hingga 0.55"
   ]
  },
  {
   "cell_type": "markdown",
   "id": "654d8dff-4ae9-4a28-8fb2-e5bafa88c0ef",
   "metadata": {
    "tags": []
   },
   "source": [
    "### Analisis Inferensial: Uji Hipotesa"
   ]
  },
  {
   "cell_type": "markdown",
   "id": "24be3d51-1a6d-4288-a3c5-c0427755ddbe",
   "metadata": {},
   "source": [
    "#### 1. Uji rata-rata satu sampel\n",
    "Pada uji ini, data yang digunakan harus memiliki distribusi normal. Maka dari itu, gunakan data `realSum_bootstrap.csv` untuk menguji hipotesis rata-rata dari realSum dari dataset."
   ]
  },
  {
   "cell_type": "code",
   "execution_count": 9,
   "id": "86b626b8-9196-48b3-b081-2aca9f74fe9b",
   "metadata": {
    "tags": []
   },
   "outputs": [
    {
     "name": "stdout",
     "output_type": "stream",
     "text": [
      "(encoding automatically selected: ISO-8859-2)\n",
      "(1 var, 1,000 obs)\n"
     ]
    }
   ],
   "source": [
    "import delimited using \"data/realSum_bootstrap.csv\", clear"
   ]
  },
  {
   "cell_type": "code",
   "execution_count": 10,
   "id": "27855016-4087-4f85-9273-f52eb8dd8176",
   "metadata": {
    "tags": []
   },
   "outputs": [
    {
     "data": {
      "text/html": [
       "<div>\n",
       "<style scoped>\n",
       "    .dataframe tbody tr th:only-of-type {\n",
       "        vertical-align: middle;\n",
       "    }\n",
       "\n",
       "    .dataframe tbody tr th {\n",
       "        vertical-align: top;\n",
       "    }\n",
       "\n",
       "    .dataframe thead th {\n",
       "        text-align: right;\n",
       "    }\n",
       "</style>\n",
       "<table border=\"1\" class=\"dataframe\">\n",
       "  <thead>\n",
       "    <tr style=\"text-align: right;\">\n",
       "      <th></th>\n",
       "      <th>bootstrap_means</th>\n",
       "    </tr>\n",
       "  </thead>\n",
       "  <tbody>\n",
       "    <tr>\n",
       "      <th>1</th>\n",
       "      <td>368.0068</td>\n",
       "    </tr>\n",
       "    <tr>\n",
       "      <th>2</th>\n",
       "      <td>350.1387</td>\n",
       "    </tr>\n",
       "    <tr>\n",
       "      <th>3</th>\n",
       "      <td>363.8197</td>\n",
       "    </tr>\n",
       "    <tr>\n",
       "      <th>4</th>\n",
       "      <td>354.6002</td>\n",
       "    </tr>\n",
       "    <tr>\n",
       "      <th>5</th>\n",
       "      <td>370.6549</td>\n",
       "    </tr>\n",
       "  </tbody>\n",
       "</table>\n",
       "</div>"
      ]
     },
     "metadata": {},
     "output_type": "display_data"
    }
   ],
   "source": [
    "%head 5"
   ]
  },
  {
   "cell_type": "markdown",
   "id": "c8322757-83cc-4016-acf6-dc8dfbc9ae95",
   "metadata": {},
   "source": [
    "Buat Hipotesa Awal, yaitu menyatakan nilai μ sebagai rata-rata populasi\n",
    "sehingga:\n",
    "\n",
    "$H_{0}: rata-rata harga listing = 350$\n",
    "\n",
    "$H_{1}: rata-rata harga listing ≠ 350$"
   ]
  },
  {
   "cell_type": "code",
   "execution_count": 11,
   "id": "0ebf589d-ee48-4aca-9f2b-c490c607ba25",
   "metadata": {
    "tags": []
   },
   "outputs": [
    {
     "name": "stdout",
     "output_type": "stream",
     "text": [
      "\n",
      "One-sample t test\n",
      "------------------------------------------------------------------------------\n",
      "Variable |     Obs        Mean    Std. err.   Std. dev.   [95% conf. interval]\n",
      "---------+--------------------------------------------------------------------\n",
      "bootst~s |   1,000    364.4376    .1834059    5.799803    364.0777    364.7975\n",
      "------------------------------------------------------------------------------\n",
      "    mean = mean(bootstrap_means)                                  t =  78.7196\n",
      "H0: mean = 350                                   Degrees of freedom =      999\n",
      "\n",
      "   Ha: mean < 350               Ha: mean != 350               Ha: mean > 350\n",
      " Pr(T < t) = 1.0000         Pr(|T| > |t|) = 0.0000          Pr(T > t) = 0.0000\n"
     ]
    }
   ],
   "source": [
    "ttest bootstrap_means ==  350"
   ]
  },
  {
   "cell_type": "markdown",
   "id": "92e81997-4f0a-457e-ae7e-ada13688f7d9",
   "metadata": {},
   "source": [
    "* Perhatikan nilai $Pr(|T| > |t|)$, jika nilainya $> 0.05$ maka $H_{0}$ diterima, jika nilainya $<= 0.05$ maka $H_{1}$ yang diterima.\n",
    "* Selanjutnya jika H1 yang diterima, perhatikan nilai $Pr(T < t)$, jika nilainya $≤ 0.05$ maka, rata-rata populasi $< 350$ (wilayah kritis sisi kiri) atau jika nilai $Pr(T > t) ≤ 0.05$, maka rata2 populasi $> 350$ (wilayah kritis sisi kanan).\n",
    "* Pada analisis di atas, nilai $Pr(|T| > |t|) < 0.05$ maka $H_{1}$ diterima, yakni bahwa di dalam populasinya, nilai rata-rata harga listing bukan 350 (dengan tingkat keberartian 5%), namun lebih dari 350 karena $Pr(T > t) ≤ 0.05$."
   ]
  },
  {
   "cell_type": "markdown",
   "id": "1f3c0653-25ad-41aa-81e6-4a0e502767f8",
   "metadata": {},
   "source": [
    "#### 2. Uji proporsi 1 sampel\n",
    "Pasa kasus ini kita akan menguji proporsi room yang private atau tidak dengan hipotesis awal.\n",
    "\n",
    "$H_{0}: proporsi private = 0.54$\n",
    "\n",
    "$H_{1}: proporsi private ≠ 0.54$"
   ]
  },
  {
   "cell_type": "code",
   "execution_count": 12,
   "id": "840603ff-0aaf-425b-b6b3-96f083a2cc82",
   "metadata": {
    "tags": []
   },
   "outputs": [
    {
     "name": "stdout",
     "output_type": "stream",
     "text": [
      "(encoding automatically selected: ISO-8859-1)\n",
      "(19 vars, 5,379 obs)\n"
     ]
    }
   ],
   "source": [
    "import delimited using \"data/london_weekends.csv\", clear\n",
    "* Mengonversi \"FALSE\" menjadi 0 dan \"TRUE\" menjadi 1\n",
    "gen room_shared_new = (room_shared == \"TRUE\")\n",
    "gen room_private_new = (room_private == \"TRUE\")"
   ]
  },
  {
   "cell_type": "code",
   "execution_count": 14,
   "id": "b7a27aa4-8f79-4c02-9b34-b8bb655af279",
   "metadata": {
    "tags": []
   },
   "outputs": [
    {
     "name": "stdout",
     "output_type": "stream",
     "text": [
      "\n",
      "One-sample test of proportion                   Number of obs      =      5379\n",
      "\n",
      "------------------------------------------------------------------------------\n",
      "    Variable |       Mean   Std. err.                     [95% conf. interval]\n",
      "-------------+----------------------------------------------------------------\n",
      "room_priva~w |   .5454545   .0067892                       .532148    .5587611\n",
      "------------------------------------------------------------------------------\n",
      "    p = proportion(room_priva~w)                                  z =   6.6674\n",
      "H0: p = 0.5\n",
      "\n",
      "     Ha: p < 0.5                 Ha: p != 0.5                   Ha: p > 0.5\n",
      " Pr(Z < z) = 1.0000         Pr(|Z| > |z|) = 0.0000          Pr(Z > z) = 0.0000\n"
     ]
    }
   ],
   "source": [
    "prtest room_private_new == 0.5"
   ]
  },
  {
   "cell_type": "markdown",
   "id": "cc57b99a-2fea-4a55-98cd-44a1a6ef320b",
   "metadata": {},
   "source": [
    "* Jika nilai $Pr(|Z| > |z|) > 0.05$ maka $H_{0}$ diterima, atau jika $H_{1}$ diterima maka:\n",
    "* Jika nilai $Pr(Z < z) ≤ 0.05$ maka $p < 0.5$ \n",
    "* Atau jika nilai $Pr(Z > z) ≤ 0.05$ maka $p > 0.5$\n",
    "* Pada analisis di atas, nilai $Pr(|Z| > |z|) ≤ 0.05$ maka $H_{1}$ diterima sehingga disimpulkan bahwa proporsi room private pada populasi bukan 0.5, sehingga perhatikan nilai yang lain:\n",
    "    Dari analisis didapatkan bahwa $Pr(Z > z) ≤ 0.05$ maka $p > 0.5$. Artinya bahwa proporsi room private dalam populasi bernilai lebih dari 0.5 pada tingkat keberartian 5%"
   ]
  },
  {
   "cell_type": "markdown",
   "id": "ee815807-7173-4c0a-be6a-01c535794756",
   "metadata": {},
   "source": [
    "#### 3. Uji perbedaan rata-rata independen (dua sampel)\n",
    "Pasa kasus ini kita akan menguji apakah ada perbedaan jarak terhadap pusat kota antara listing Airbnb yang memiliki room private dan tidak.\n",
    "\n",
    "$H_{0}: diff = 0$\n",
    "\n",
    "$H_{1}: diff ≠ 0$\n",
    "\n",
    "diff: mean jarak listing room private - mean jarak listing tidak private"
   ]
  },
  {
   "cell_type": "code",
   "execution_count": 16,
   "id": "2abdd0e9-483d-49fd-87d3-efa086ba065c",
   "metadata": {
    "tags": []
   },
   "outputs": [
    {
     "name": "stdout",
     "output_type": "stream",
     "text": [
      "\n",
      "Two-sample t test with equal variances\n",
      "------------------------------------------------------------------------------\n",
      "   Group |     Obs        Mean    Std. err.   Std. dev.   [95% conf. interval]\n",
      "---------+--------------------------------------------------------------------\n",
      "       0 |   2,445     4.80649    .0501502    2.479775    4.708148    4.904831\n",
      "       1 |   2,934    5.761896    .0518483    2.808435    5.660233    5.863558\n",
      "---------+--------------------------------------------------------------------\n",
      "Combined |   5,379     5.32762    .0368956    2.705986     5.25529     5.39995\n",
      "---------+--------------------------------------------------------------------\n",
      "    diff |           -.9554059    .0729506               -1.098419   -.8123932\n",
      "------------------------------------------------------------------------------\n",
      "    diff = mean(0) - mean(1)                                      t = -13.0966\n",
      "H0: diff = 0                                     Degrees of freedom =     5377\n",
      "\n",
      "    Ha: diff < 0                 Ha: diff != 0                 Ha: diff > 0\n",
      " Pr(T < t) = 0.0000         Pr(|T| > |t|) = 0.0000          Pr(T > t) = 1.0000\n"
     ]
    }
   ],
   "source": [
    "ttest dist, by(room_private_new)"
   ]
  },
  {
   "cell_type": "markdown",
   "id": "8fcdc4e5-8983-4015-adb5-4cb5dde63c48",
   "metadata": {},
   "source": [
    "* Jika nilai $Pr(|T| > |t|) > 0.05$, maka $H_{0}$ diterima. Atau, jika $H_{1}$ diterima maka:\n",
    "* Jika nilai $Pr(T < t) ≤ 0.05$, maka $diff < 0$\n",
    "* Atau, jika nilai $Pr(T > t) ≤ 0.05$ maka $diff > 0$\n",
    "\n",
    "Pada analisis di atas, nilai $Pr(|T| > |t|) < 0.05$ maka $H_{1}$ diterima, artinya didapatkan bahwa pada tingkat keberartian 5%, ada perbedaan jarak terhadap pusat kota antara listing Airbnb yang memiliki room private dan tidak. Lalu, $Pr(T < t) ≤ 0.05$, maka $diff < 0$ atau jarak listing tidak private terhadap pusat kota lebih jauh daripada listing private."
   ]
  },
  {
   "cell_type": "markdown",
   "id": "6de1fddc-e34c-4159-be99-3666fcb98bba",
   "metadata": {},
   "source": [
    "#### 4. Uji Perbedaan Rata-rata Berpasangan sampel (dua Sampel)\n",
    "Pasa kasus ini kita akan menguji apakah ada perbedaan nilai antara jarak terhadap pusat kota dan metro stasiun terdekat\n",
    "\n",
    "$H_{0}: diff = 0$\n",
    "\n",
    "$H_{1}: diff ≠ 0$\n",
    "\n",
    "diff: mean jarak terhadap pusat - mean jarak terhadap metro stasiun terdekat."
   ]
  },
  {
   "cell_type": "code",
   "execution_count": 17,
   "id": "f88ff3cf-5a84-49e7-9222-6436c0440c6a",
   "metadata": {
    "tags": []
   },
   "outputs": [
    {
     "name": "stdout",
     "output_type": "stream",
     "text": [
      "\n",
      "Paired t test\n",
      "------------------------------------------------------------------------------\n",
      "Variable |     Obs        Mean    Std. err.   Std. dev.   [95% conf. interval]\n",
      "---------+--------------------------------------------------------------------\n",
      "    dist |   5,379     5.32762    .0368956    2.705986     5.25529     5.39995\n",
      "metro_~t |   5,379    1.016534    .0172507    1.265193    .9827153    1.050352\n",
      "---------+--------------------------------------------------------------------\n",
      "    diff |   5,379    4.311087    .0278181    2.040227    4.256552    4.365621\n",
      "------------------------------------------------------------------------------\n",
      "     mean(diff) = mean(dist - metro_dist)                         t = 154.9741\n",
      " H0: mean(diff) = 0                              Degrees of freedom =     5378\n",
      "\n",
      " Ha: mean(diff) < 0           Ha: mean(diff) != 0           Ha: mean(diff) > 0\n",
      " Pr(T < t) = 1.0000         Pr(|T| > |t|) = 0.0000          Pr(T > t) = 0.0000\n"
     ]
    }
   ],
   "source": [
    "ttest dist = metro_dist"
   ]
  },
  {
   "cell_type": "markdown",
   "id": "0965e665-0f5b-4ecb-b5ac-f26a828374a2",
   "metadata": {},
   "source": [
    "* Jika nilai $Pr(|T| > |t|) > 0.05$, maka $H_{0}$ diterima. Atau, jika $H_{1}$ diterima maka:\n",
    "* Jika nilai $Pr(T < t) ≤ 0.05$, maka $diff < 0$\n",
    "* Atau, jika nilai $Pr(T > t) ≤ 0.05$ maka $diff > 0$\n",
    "\n",
    "Pada analisis di atas, nilai $Pr(|T| > |t|) < 0.05$ maka $H_{1}$ diterima, artinya ada perbedaan panjang jalan tahun 2004 ke tahun 2005 pada tingkat keberartian 5%. Lalu, $Pr(T > t) ≤ 0.05$, maka $diff > 0$ atau jarak listing terhadap pusat kota lebih jauh daripada listing terhadap metro stasiun terdekat."
   ]
  },
  {
   "cell_type": "markdown",
   "id": "02a3ed6f-0a92-4f01-abb1-2c12d37ff953",
   "metadata": {},
   "source": [
    "#### 5. Uji 2 Proporsi Independen\n",
    "Pasa kasus ini kita akan menguji apakah ada perbedaan proporsi antara room shared dan room private.\n",
    "\n",
    "$H_{0}: diff = 0$\n",
    "\n",
    "$H_{1}: diff ≠ 0$\n",
    "\n",
    "diff: proporsi room shared - proporsi room private"
   ]
  },
  {
   "cell_type": "code",
   "execution_count": 18,
   "id": "7c01b1a1-5aff-42c1-8f02-65f78f0189d2",
   "metadata": {
    "tags": []
   },
   "outputs": [
    {
     "name": "stdout",
     "output_type": "stream",
     "text": [
      "\n",
      "Two-sample test of proportions          room_shared_: Number of obs =     5379\n",
      "                                        room_private: Number of obs =     5379\n",
      "------------------------------------------------------------------------------\n",
      "       Group |       Mean   Std. err.      z    P>|z|     [95% conf. interval]\n",
      "-------------+----------------------------------------------------------------\n",
      "room_shared_ |   .0050195   .0009636                      .0031309    .0069081\n",
      "room_private |   .5454545   .0067892                       .532148    .5587611\n",
      "-------------+----------------------------------------------------------------\n",
      "        diff |   -.540435   .0068572                     -.5538749   -.5269951\n",
      "             |  under H0:   .0086122   -62.75   0.000\n",
      "------------------------------------------------------------------------------\n",
      "        diff = prop(room_shared_) - prop(room_private)            z = -62.7520\n",
      "    H0: diff = 0\n",
      "\n",
      "    Ha: diff < 0                 Ha: diff != 0                 Ha: diff > 0\n",
      " Pr(Z < z) = 0.0000         Pr(|Z| > |z|) = 0.0000          Pr(Z > z) = 1.0000\n"
     ]
    }
   ],
   "source": [
    "prtest room_shared_new == room_private_new"
   ]
  },
  {
   "cell_type": "markdown",
   "id": "72ac0c88-5aab-4cba-8cb3-fa0ddadec4a4",
   "metadata": {},
   "source": [
    "* Jika nilai $Pr(|Z| > |z|) > 0.05$, maka $H_{0}$ diterima. Atau, jika $H_{1}$ diterima maka:\n",
    "* Jika nilai $Pr(Z < z) ≤ 0.05$, maka $diff < 0$\n",
    "* Atau, jika nilai $Pr(Z > z) ≤ 0.05$ maka $diff > 0$\n",
    "\n",
    "Pada analisis di atas didapatkan bahwa, nilai $Pr(|Z| > |z|) < 0.05$ maka $H_{1}$ diterima, artinya ada perbedaan proporsi antara room shared dan room private pada tingkat keberartian 5%. Lalu, $Pr(Z < z) ≤ 0.05$, maka $diff < 0$ atau proporsi room private lebih banyak daripada room shared."
   ]
  }
 ],
 "metadata": {
  "kernelspec": {
   "display_name": "Stata (nbstata)",
   "language": "stata",
   "name": "nbstata"
  },
  "language_info": {
   "file_extension": ".do",
   "mimetype": "text/x-stata",
   "name": "stata",
   "version": "17"
  }
 },
 "nbformat": 4,
 "nbformat_minor": 5
}
